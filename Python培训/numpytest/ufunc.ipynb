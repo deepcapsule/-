{
 "cells": [
  {
   "cell_type": "markdown",
   "metadata": {},
   "source": [
    "# universal function "
   ]
  },
  {
   "cell_type": "code",
   "execution_count": 5,
   "metadata": {},
   "outputs": [
    {
     "data": {
      "text/plain": [
       "array([  0.00000000e+00,   6.42787610e-01,   9.84807753e-01,\n",
       "         8.66025404e-01,   3.42020143e-01,  -3.42020143e-01,\n",
       "        -8.66025404e-01,  -9.84807753e-01,  -6.42787610e-01,\n",
       "        -2.44929360e-16])"
      ]
     },
     "execution_count": 5,
     "metadata": {},
     "output_type": "execute_result"
    }
   ],
   "source": [
    "import numpy as np\n",
    "x = np.linspace(0,2*np.pi,10)\n",
    "y = np.sin(x)\n",
    "y"
   ]
  },
  {
   "cell_type": "code",
   "execution_count": 17,
   "metadata": {},
   "outputs": [
    {
     "data": {
      "text/plain": [
       "array([ True,  True,  True,  True], dtype=bool)"
      ]
     },
     "execution_count": 17,
     "metadata": {},
     "output_type": "execute_result"
    }
   ],
   "source": [
    "a = np.arange(0,4)\n",
    "b = np.arange(1,5)\n",
    "c=np.empty_like(a)\n",
    "np.add(a,b,c)\n"
   ]
  },
  {
   "cell_type": "code",
   "execution_count": 20,
   "metadata": {},
   "outputs": [
    {
     "data": {
      "text/plain": [
       "array([ True,  True,  True,  True], dtype=bool)"
      ]
     },
     "execution_count": 20,
     "metadata": {},
     "output_type": "execute_result"
    }
   ],
   "source": [
    "a<b\n",
    "np.logical_or(a==b,a<b)"
   ]
  },
  {
   "cell_type": "code",
   "execution_count": 28,
   "metadata": {
    "collapsed": true
   },
   "outputs": [],
   "source": [
    "#三角波函数，转换成ufunc函数\n",
    "def triangle_wave(x,c,c0,hc):\n",
    "    x = x-int(x)\n",
    "    if x >= c:\n",
    "        r = 0.0\n",
    "    elif x<c0:\n",
    "        r = x/c0*hc\n",
    "    else:\n",
    "        r = (c-x)/(c-c0)*hc\n",
    "    return r\n",
    "x = np.linspace(0,2,100)\n",
    "\n",
    "triangle_ufunc1 = np.frompyfunc(triangle_wave,4,1)\n",
    "y2 = triangle_ufunc1(x,0.6,0.4,1.0)\n",
    "\n",
    "triangle_unfunc2 = np.frompyfunc(lambda x:triangle_wave(x,0.6,0.4,1.0),1,1)\n",
    "y3 = triangle_unfunc2(x)"
   ]
  },
  {
   "cell_type": "code",
   "execution_count": 32,
   "metadata": {},
   "outputs": [
    {
     "data": {
      "text/plain": [
       "dtype('float64')"
      ]
     },
     "execution_count": 32,
     "metadata": {},
     "output_type": "execute_result"
    }
   ],
   "source": [
    "triangle_unfunc3 = np.vectorize(triangle_wave,otypes=[np.float])\n",
    "y4 = triangle_unfunc3(x,0.6,0.4,1.0)\n",
    "y4.dtype"
   ]
  },
  {
   "cell_type": "code",
   "execution_count": 35,
   "metadata": {},
   "outputs": [
    {
     "data": {
      "text/plain": [
       "array([[[ 0,  1],\n",
       "        [ 2,  3],\n",
       "        [ 4,  5]],\n",
       "\n",
       "       [[ 6,  7],\n",
       "        [ 8,  9],\n",
       "        [10, 11]]])"
      ]
     },
     "execution_count": 35,
     "metadata": {},
     "output_type": "execute_result"
    }
   ],
   "source": [
    "import numpy as np\n",
    "a = np.arange(12).reshape(2,3,2)\n",
    "b = np.arange(12,24).reshape(2,2,3)\n",
    "a"
   ]
  },
  {
   "cell_type": "code",
   "execution_count": 36,
   "metadata": {},
   "outputs": [
    {
     "data": {
      "text/plain": [
       "array([[[12, 13, 14],\n",
       "        [15, 16, 17]],\n",
       "\n",
       "       [[18, 19, 20],\n",
       "        [21, 22, 23]]])"
      ]
     },
     "execution_count": 36,
     "metadata": {},
     "output_type": "execute_result"
    }
   ],
   "source": [
    "b"
   ]
  },
  {
   "cell_type": "code",
   "execution_count": 37,
   "metadata": {},
   "outputs": [
    {
     "data": {
      "text/plain": [
       "array([[[[ 15,  16,  17],\n",
       "         [ 21,  22,  23]],\n",
       "\n",
       "        [[ 69,  74,  79],\n",
       "         [ 99, 104, 109]],\n",
       "\n",
       "        [[123, 132, 141],\n",
       "         [177, 186, 195]]],\n",
       "\n",
       "\n",
       "       [[[177, 190, 203],\n",
       "         [255, 268, 281]],\n",
       "\n",
       "        [[231, 248, 265],\n",
       "         [333, 350, 367]],\n",
       "\n",
       "        [[285, 306, 327],\n",
       "         [411, 432, 453]]]])"
      ]
     },
     "execution_count": 37,
     "metadata": {},
     "output_type": "execute_result"
    }
   ],
   "source": [
    "c = np.dot(a,b)\n",
    "c"
   ]
  },
  {
   "cell_type": "code",
   "execution_count": null,
   "metadata": {
    "collapsed": true
   },
   "outputs": [],
   "source": []
  },
  {
   "cell_type": "code",
   "execution_count": 61,
   "metadata": {},
   "outputs": [
    {
     "data": {
      "text/plain": [
       "(4,)"
      ]
     },
     "execution_count": 61,
     "metadata": {},
     "output_type": "execute_result"
    }
   ],
   "source": [
    "import numpy as np\n",
    "a = np.arange(4)\n",
    "b = np.add.accumulate(a)\n",
    "c = a + b\n",
    "f = open('test.txt','wb')\n",
    "for i in (a,b,c): \n",
    "    np.savetxt(f,i.reshape(1,-1),fmt='%d',delimiter='\\t')\n",
    "#np.savetxt(f,b,fmt='%d')\n",
    "f.close()\n",
    "a.shape"
   ]
  }
 ],
 "metadata": {
  "kernelspec": {
   "display_name": "Python 3",
   "language": "python",
   "name": "python3"
  },
  "language_info": {
   "codemirror_mode": {
    "name": "ipython",
    "version": 3
   },
   "file_extension": ".py",
   "mimetype": "text/x-python",
   "name": "python",
   "nbconvert_exporter": "python",
   "pygments_lexer": "ipython3",
   "version": "3.6.1"
  }
 },
 "nbformat": 4,
 "nbformat_minor": 2
}

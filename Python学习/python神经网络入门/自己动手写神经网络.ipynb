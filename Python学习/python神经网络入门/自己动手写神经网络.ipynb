{
 "cells": [
  {
   "cell_type": "code",
   "execution_count": 38,
   "metadata": {},
   "outputs": [
    {
     "data": {
      "text/plain": [
       "int"
      ]
     },
     "execution_count": 38,
     "metadata": {},
     "output_type": "execute_result"
    }
   ],
   "source": [
    "import struct\n",
    "s = b'\\n'\n",
    "a = (struct.unpack('B',s))\n",
    "type(a[0])"
   ]
  },
  {
   "cell_type": "code",
   "execution_count": 19,
   "metadata": {},
   "outputs": [
    {
     "data": {
      "text/plain": [
       "array([[0., 0., 0., 0.],\n",
       "       [0., 0., 0., 0.],\n",
       "       [1., 2., 2., 3.]])"
      ]
     },
     "execution_count": 19,
     "metadata": {},
     "output_type": "execute_result"
    }
   ],
   "source": [
    "import numpy\n",
    "a=numpy.zeros([3,4])\n",
    "c =numpy.array([[1,2],[2,3]])\n",
    "b = numpy.r_[a,c.reshape(1,-1)]\n",
    "numpy.delete(b,0,axis=0)\n",
    "\n"
   ]
  },
  {
   "cell_type": "code",
   "execution_count": 2,
   "metadata": {},
   "outputs": [
    {
     "name": "stdout",
     "output_type": "stream",
     "text": [
      "[[ 1.  2.]\n",
      " [ 9.  0.]\n",
      " [ 0. 12.]]\n"
     ]
    }
   ],
   "source": [
    "a[0,0]=1\n",
    "a[0,1]=2\n",
    "a[1,0]=9\n",
    "a[2,1]=12\n",
    "print(a)"
   ]
  },
  {
   "cell_type": "code",
   "execution_count": 4,
   "metadata": {},
   "outputs": [
    {
     "data": {
      "text/plain": [
       "<matplotlib.image.AxesImage at 0x7f7ea0cd3e48>"
      ]
     },
     "execution_count": 4,
     "metadata": {},
     "output_type": "execute_result"
    },
    {
     "data": {
      "image/png": "[encoded data removed]",
      "text/plain": [
       "<matplotlib.figure.Figure at 0x7f7ea0d91630>"
      ]
     },
     "metadata": {},
     "output_type": "display_data"
    }
   ],
   "source": [
    "import matplotlib.pyplot as plt\n",
    "plt.imshow(a,interpolation='nearest')"
   ]
  },
  {
   "cell_type": "code",
   "execution_count": 3,
   "metadata": {
    "collapsed": true
   },
   "outputs": [],
   "source": [
    "import numpy\n",
    "import scipy.special\n",
    "import matplotlib.pyplot as plt\n",
    "#neural network class definition\n",
    "class neuralNetwork:\n",
    "    \n",
    "    #initalise the neural network\n",
    "    def __init__(self,inputnodes,hiddennodes,outputnodes,learningrate):\n",
    "        #set number of nodes in each input,hidden,output layer\n",
    "        self.inodes = inputnodes\n",
    "        self.hnodes = hiddennodes\n",
    "        self.onodes = outputnodes\n",
    "        \n",
    "        #link weight matrices,wih and who\n",
    "        #weights inseide the arrays are w_i_j,where link is from node i to j in the next layer\n",
    "        #w11 w21\n",
    "        #w12 w22etc\n",
    "        self.wih = numpy.random.normal(0.0,pow(self.hnodes,-0.5),(self.hnodes,self.inodes))\n",
    "        self.who = numpy.random.normal(0.0,pow(self.onodes,-0.5),(self.onodes,self.hnodes))\n",
    "        \n",
    "        #learning rate\n",
    "        self.lr = learningrate\n",
    "        \n",
    "        #activation function is the sigmoid function\n",
    "        self.activation_function = lambda x:scipy.special.expit(x)\n",
    "        pass\n",
    "    \n",
    "    #train the neural network\n",
    "    def train(self,inputs_list,targets_list):\n",
    "        #convert inputs list to 2d array\n",
    "        inputs = numpy.array(inputs_list, ndmin=2).T\n",
    "        targets = numpy.array(targets_list, ndmin=2).T\n",
    "        \n",
    "        #calculate signals into hidden layer\n",
    "        hidden_inputs = numpy.dot(self.wih, inputs)\n",
    "        #calculate the signals emerging from hidden layer\n",
    "        hidden_outputs = self.activation_function(hidden_inputs)\n",
    "        \n",
    "        #calculate signals into final output layer\n",
    "        final_inputs = numpy.dot(self.who,hidden_outputs)\n",
    "        #calculate the signals emerging from final output layer\n",
    "        final_outputs = self.activation_function(final_inputs)\n",
    "        \n",
    "        #error is the (target-actual)\n",
    "        output_errors = targets-final_outputs\n",
    "        #hidden layer error is the output_errors,split by weights,recombined at hidden nodes\n",
    "        hidden_errors = numpy.dot(self.who.T,output_errors)\n",
    "        \n",
    "        #update the weights for the links between the hidden and output layers\n",
    "        self.who += self.lr * numpy.dot((output_errors*final_outputs*(1-final_outputs)),numpy.transpose(hidden_outputs))\n",
    "        #update the weights for the links between the input and hidden layers\n",
    "        self.wih += self.lr*numpy.dot((hidden_errors*hidden_outputs*(1.0-hidden_outputs)),numpy.transpose(inputs))\n",
    "        pass\n",
    "    \n",
    "    #query the neural network\n",
    "    def query(self,inputs_list):\n",
    "        #convert inputs list to 2d array\n",
    "        inputs = numpy.array(inputs_list,ndmin=2).T\n",
    "        \n",
    "        #calculate signals into hidden layer\n",
    "        hidden_inputs = numpy.dot(self.wih,inputs)\n",
    "        #calculate the signals emerging from hidden_layer\n",
    "        hidden_outputs = self.activation_function(hidden_inputs)\n",
    "        #calculate signals into final output layer\n",
    "        final_inputs = numpy.dot(self.who,hidden_outputs)\n",
    "        #calculate the signals emerging from final output layer\n",
    "        final_outputs = self.activation_function(final_inputs)\n",
    "        return final_outputs\n",
    "    "
   ]
  },
  {
   "cell_type": "code",
   "execution_count": 4,
   "metadata": {
    "collapsed": true
   },
   "outputs": [],
   "source": [
    "import pickle\n",
    "import gzip\n",
    "#number of input,hidden and output nodes\n",
    "input_nodes = 784\n",
    "hidden_nodes = 100\n",
    "output_nodes = 10\n",
    "\n",
    "#learning rate is 0.3\n",
    "learning_rate = 0.3\n",
    "\n",
    "#create instance of neural network\n",
    "n = neuralNetwork(input_nodes,hidden_nodes,output_nodes,learning_rate)\n",
    "\n",
    "def load_data():\n",
    "    with gzip.open('./mnist.pkl.gz','rb') as fp:\n",
    "        training_data,valid_data,test_data = pickle.load(fp,encoding='iso-8859-1')\n",
    "        return training_data,valid_data,test_data\n",
    "    \n",
    "training_data,valid_data,test_data = load_data()\n",
    "for ipdata,tgdata in zip(training_data[0],training_data[1]):\n",
    "    inputs = list(ipdata+0.0001)\n",
    "    targets = numpy.zeros(output_nodes)+0.0001\n",
    "    targets[int(tgdata)] = 0.9999\n",
    "    n.train(inputs,targets)\n"
   ]
  },
  {
   "cell_type": "code",
   "execution_count": 8,
   "metadata": {},
   "outputs": [
    {
     "data": {
      "text/plain": [
       "<matplotlib.image.AxesImage at 0x7fbbe0a6fc88>"
      ]
     },
     "execution_count": 8,
     "metadata": {},
     "output_type": "execute_result"
    },
    {
     "data": {
      "image/png": "[encoded data removed]",
      "text/plain": [
       "<matplotlib.figure.Figure at 0x7fbbe0af3438>"
      ]
     },
     "metadata": {},
     "output_type": "display_data"
    }
   ],
   "source": [
    "ntest =  45\n",
    "plt.imshow(test_data[0][ntest].reshape((28,28)),cmap='Greys',interpolation='None')\n",
    "# for inputs,aimputs in zip(test_data[0],test_data[1]):\n",
    "#     correct_label = int(aimputs)\n",
    "#     outputs = n.query(inputs+0.0001)\n",
    "#     label = numpy.argmax(outputs)\n",
    "#     print(correct_label,label,end='\\t')\n"
   ]
  }
 ],
 "metadata": {
  "kernelspec": {
   "display_name": "Python 3",
   "language": "python",
   "name": "python3"
  },
  "language_info": {
   "codemirror_mode": {
    "name": "ipython",
    "version": 3
   },
   "file_extension": ".py",
   "mimetype": "text/x-python",
   "name": "python",
   "nbconvert_exporter": "python",
   "pygments_lexer": "ipython3",
   "version": "3.6.1"
  }
 },
 "nbformat": 4,
 "nbformat_minor": 2
}

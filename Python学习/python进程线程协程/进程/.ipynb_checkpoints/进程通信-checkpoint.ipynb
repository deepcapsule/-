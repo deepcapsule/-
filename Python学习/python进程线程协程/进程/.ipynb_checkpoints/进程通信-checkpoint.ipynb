{
 "cells": [
  {
   "cell_type": "markdown",
   "metadata": {},
   "source": [
    "### 进程通信"
   ]
  },
  {
   "cell_type": "code",
   "execution_count": 7,
   "metadata": {},
   "outputs": [
    {
     "name": "stdout",
     "output_type": "stream",
     "text": [
      "启动写子进程18887\n",
      "启动读子进程18890\n",
      "value = 0\n",
      "value = 1\n",
      "value = 2\n",
      "value = 3\n",
      "value = 4\n",
      "value = 5\n",
      "value = 6\n",
      "value = 7\n",
      "value = 8\n",
      "value = 9\n",
      "结束写子进程18887\n",
      "父进程17077结束\n"
     ]
    }
   ],
   "source": [
    "from multiprocessing import Process,Queue\n",
    "import os,time\n",
    "def write(queue):\n",
    "    print(\"启动写子进程%s\" % os.getpid())\n",
    "    for chr in map(str,range(10)):\n",
    "        queue.put(chr)\n",
    "        time.sleep(1)\n",
    "    print(\"结束写子进程%s\" % os.getpid())\n",
    "    \n",
    "def read(queue):\n",
    "    print(\"启动读子进程%s\" % os.getpid())\n",
    "    while True:\n",
    "        value = queue.get(True)\n",
    "        print(\"value = \" +  value)\n",
    "    print(\"结束读子进程%s\" % os.getpid())\n",
    "    \n",
    "# 进程间通信，需要消息队列\n",
    "# write()把数据写进队列，read()从队列读数据\n",
    "# 父进程创建这个消息队列，把队列的引用分别传给write和read\n",
    "\n",
    "q = Queue()\n",
    "\n",
    "pw = Process(target=write, args=(q,))\n",
    "pr = Process(target=read, args=(q,))\n",
    "\n",
    "pw.start()\n",
    "pr.start()\n",
    "\n",
    "pw.join()\n",
    "# pr进程是死循环，等待pw结束时，强行结束pr\n",
    "pr.terminate()\n",
    "print(\"父进程%s结束\" % os.getpid())\n"
   ]
  },
  {
   "cell_type": "markdown",
   "metadata": {},
   "source": [
    "### 进程池"
   ]
  },
  {
   "cell_type": "code",
   "execution_count": 21,
   "metadata": {},
   "outputs": [
    {
     "name": "stdout",
     "output_type": "stream",
     "text": [
      "父进程启动\n",
      "子进程1启动\n",
      "子进程2启动\n",
      "子进程3启动\n",
      "子进程0启动\n",
      "子进程0结束,耗时0.02\n",
      "子进程4启动\n",
      "子进程3结束,耗时0.62\n",
      "子进程5启动\n",
      "子进程4结束,耗时0.78\n",
      "子进程1结束,耗时0.84\n",
      "子进程2结束,耗时0.85\n",
      "子进程5结束,耗时0.49\n",
      "父进程结束\n"
     ]
    }
   ],
   "source": [
    "from multiprocessing import Pool\n",
    "import random,time\n",
    "\n",
    "def run(i):\n",
    "    print(\"子进程%d启动\" % i)\n",
    "    start = time.time()\n",
    "    time.sleep(random.random())\n",
    "    print(\"子进程%d结束,耗时%.2f\" % (i, time.time() - start))\n",
    "    \n",
    "print(\"父进程启动\")\n",
    "pp = Pool()\n",
    "for i in range(6):\n",
    "    pp.apply_async(run, args=(i,))\n",
    "pp.close()\n",
    "pp.join()\n",
    "print(\"父进程结束\")"
   ]
  },
  {
   "cell_type": "markdown",
   "metadata": {},
   "source": [
    "### 封装进程对象"
   ]
  },
  {
   "cell_type": "code",
   "execution_count": 14,
   "metadata": {},
   "outputs": [
    {
     "name": "stdout",
     "output_type": "stream",
     "text": [
      "父进程17077启动\n",
      "子进程wang-20157开始\n",
      "该进程暂未实现任何功能\n",
      "子进程wang-20157结束\n",
      "父进程17077结束\n"
     ]
    }
   ],
   "source": [
    "from multiprocessing import Process\n",
    "import os\n",
    "\n",
    "\n",
    "class MyProcess(Process):\n",
    "    \n",
    "    def __init__(self, name):\n",
    "        Process.__init__(self)\n",
    "        self._name = name\n",
    "        \n",
    "    def run(self):\n",
    "        print(\"子进程%s-%s开始\" % (self._name, os.getpid()))\n",
    "        print(\"该进程暂未实现任何功能\")\n",
    "        print(\"子进程%s-%s结束\" % (self._name, os.getpid()))\n",
    "        \n",
    "        \n",
    "print(\"父进程%s启动\" % os.getpid())\n",
    "p = MyProcess(\"wang\")\n",
    "p.start()\n",
    "p.join()\n",
    "print(\"父进程%s结束\" % os.getpid())"
   ]
  }
 ],
 "metadata": {
  "kernelspec": {
   "display_name": "Python 3",
   "language": "python",
   "name": "python3"
  },
  "language_info": {
   "codemirror_mode": {
    "name": "ipython",
    "version": 3
   },
   "file_extension": ".py",
   "mimetype": "text/x-python",
   "name": "python",
   "nbconvert_exporter": "python",
   "pygments_lexer": "ipython3",
   "version": "3.6.4"
  }
 },
 "nbformat": 4,
 "nbformat_minor": 2
}

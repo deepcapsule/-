{
 "cells": [
  {
   "cell_type": "markdown",
   "metadata": {},
   "source": [
    "### 线程"
   ]
  },
  {
   "cell_type": "code",
   "execution_count": 2,
   "metadata": {},
   "outputs": [
    {
     "name": "stdout",
     "output_type": "stream",
     "text": [
      "主线程 MainThread 启动\n",
      "子线程 打印Thread 启动\n",
      "打印模块\n",
      "子线程 打印Thread 结束\n",
      "主线程 MainThread 结束\n"
     ]
    }
   ],
   "source": [
    "import threading,time\n",
    "\n",
    "def run():\n",
    "    print(\"子线程 %s 启动\" % (threading.current_thread().name))\n",
    "    print(\"打印模块\")\n",
    "    time.sleep(2)\n",
    "    print(\"子线程 %s 结束\" % (threading.current_thread().name))\n",
    "    \n",
    "print(\"主线程 %s 启动\" % (threading.current_thread().name))\n",
    "\n",
    "t = threading.Thread(target=run, name=\"打印Thread\")\n",
    "t.start()\n",
    "t.join()\n",
    "\n",
    "print(\"主线程 %s 结束\" % (threading.current_thread().name))\n"
   ]
  },
  {
   "cell_type": "markdown",
   "metadata": {},
   "source": [
    "### 线程锁解决数据混乱"
   ]
  },
  {
   "cell_type": "code",
   "execution_count": 1,
   "metadata": {},
   "outputs": [
    {
     "name": "stdout",
     "output_type": "stream",
     "text": [
      "0\n"
     ]
    }
   ],
   "source": [
    "import threading\n",
    "num = 0\n",
    "lock = threading.Lock()\n",
    "def run(n):\n",
    "    global num\n",
    "    \n",
    "    for i in range(1000000):\n",
    "        lock.acquire()\n",
    "        try:\n",
    "            num += n\n",
    "            num -= n\n",
    "        finally:\n",
    "            lock.release()\n",
    "        \"\"\"\n",
    "        with lock:\n",
    "            num += n\n",
    "            num -= n\n",
    "        \"\"\"\n",
    "    \n",
    "t1 = threading.Thread(target=run, args=(2, ))\n",
    "t2 = threading.Thread(target=run, args=(3, ))\n",
    "t1.start()\n",
    "t2.start()\n",
    "t1.join()\n",
    "t1.join()\n",
    "t2.join()\n",
    "\n",
    "\n",
    "print(num)\n",
    "    \n",
    "    "
   ]
  },
  {
   "cell_type": "code",
   "execution_count": 10,
   "metadata": {},
   "outputs": [
    {
     "name": "stdout",
     "output_type": "stream",
     "text": [
      "0\n"
     ]
    }
   ],
   "source": [
    "import threading\n",
    "num = 0\n",
    "# 创建一个全局的THrealocal对象，每个线程有独立的存储空间\n",
    "# 每个线程对Threadlocal对象都可以读写，互不影响\n",
    "# 经常用于为每个线程绑定一个数据库链接，HTTP请求，用户身份信息等\n",
    "local = threading.local()\n",
    "\n",
    "def run(m, n):\n",
    "      \n",
    "    for i in range(1000000):\n",
    "        m += n\n",
    "        m -= n\n",
    "\n",
    "def func(n):\n",
    "    local.x = num\n",
    "    run(local.x, n)\n",
    "    \n",
    "t1 = threading.Thread(target=func, args=(2, ))\n",
    "t2 = threading.Thread(target=func, args=(3, ))\n",
    "t1.start()\n",
    "t2.start()\n",
    "t1.join()\n",
    "t2.join()\n",
    "\n",
    "\n",
    "print(num)\n",
    "    \n",
    "    "
   ]
  },
  {
   "cell_type": "code",
   "execution_count": 15,
   "metadata": {},
   "outputs": [
    {
     "name": "stdout",
     "output_type": "stream",
     "text": [
      "1\n",
      "2\n",
      "A\n",
      "B\n",
      "C\n",
      "D\n",
      "3\n",
      "4\n"
     ]
    }
   ],
   "source": [
    "import threading,time\n",
    "\n",
    "def run1():\n",
    "      \n",
    "    print('1')\n",
    "    print('2')\n",
    "    time.sleep(2)\n",
    "    print('3')\n",
    "    print('4')\n",
    "    \n",
    "def run2():\n",
    "    print('A')\n",
    "    print('B')\n",
    "    time.sleep(1)\n",
    "    print('C')\n",
    "    print('D')\n",
    "    \n",
    "t1 = threading.Thread(target=run1)\n",
    "t2 = threading.Thread(target=run2)\n",
    "t1.start()\n",
    "t2.start()\n",
    "t1.join()\n",
    "t2.join()\n",
    "\n",
    "    "
   ]
  },
  {
   "cell_type": "markdown",
   "metadata": {},
   "source": [
    "#### 生产者-消费者"
   ]
  },
  {
   "cell_type": "code",
   "execution_count": 22,
   "metadata": {},
   "outputs": [
    {
     "name": "stdout",
     "output_type": "stream",
     "text": [
      "生产者 2 生产了 896 放入了队列消费者 0 消费了 896\n",
      "\n",
      "生产者 1 生产了 944 放入了队列\n",
      "生产者 3 生产了 498 放入了队列\n",
      "消费者 2 消费了 944\n",
      "生产者 0 生产了 660 放入了队列\n",
      "生产者 0 生产了 663 放入了队列\n",
      "生产者 1 生产了 98 放入了队列\n",
      "生产者 2 生产了 681 放入了队列\n",
      "生产者 3 生产了 961 放入了队列\n",
      "消费者 0 消费了 663\n",
      "消费者 1 消费了 98\n",
      "消费者 2 消费了 681\n",
      "消费者 1 消费了 396\n",
      "消费者 0 消费了 998\n",
      "消费者 0 消费了 827\n",
      "消费者 0 消费了 135\n",
      "消费者 1 消费了 498\n",
      "消费者 0 消费了 992\n",
      "消费者 2 消费了 286\n",
      "生产者 2 生产了 335 放入了队列消费者 2 消费了 335\n",
      "\n",
      "生产者 0 生产了 301 放入了队列\n",
      "消费者 1 消费了 301生产者 3 生产了 795 放入了队列\n",
      "\n",
      "生产者 1 生产了 748 放入了队列\n",
      "消费者 2 消费了 412\n"
     ]
    }
   ],
   "source": [
    "import threading,queue,time,random\n",
    "\n",
    "def product(i, q):\n",
    "    while True:\n",
    "        num = random.randint(0,1000)\n",
    "        q.put(num)\n",
    "        print(\"生产者 %d 生产了 %d 放入了队列\" % (i, num))\n",
    "        time.sleep(3)\n",
    "    q.task_done()\n",
    "\n",
    "def customer(i, q):\n",
    "    while True:\n",
    "        item = q.get()\n",
    "        if item is None:\n",
    "            break\n",
    "        print(\"消费者 %d 消费了 %d\" % (i, item))\n",
    "        time.sleep(2)\n",
    "    q.task_done()\n",
    "\n",
    "q = queue.Queue()\n",
    "\n",
    "for i in range(4):\n",
    "    threading.Thread(target=product, args=(i, q)).start()\n",
    "    \n",
    "for i in range(3):\n",
    "    threading.Thread(target=customer, args=(i, q)).start()\n",
    "    "
   ]
  },
  {
   "cell_type": "markdown",
   "metadata": {},
   "source": [
    "#### 线程调度"
   ]
  },
  {
   "cell_type": "code",
   "execution_count": 4,
   "metadata": {},
   "outputs": [
    {
     "name": "stdout",
     "output_type": "stream",
     "text": [
      "Thread-8 0\n",
      "Thread-9 1\n",
      "Thread-8 2\n",
      "Thread-9 3\n",
      "Thread-8 4\n",
      "Thread-9 5\n",
      "Thread-8 6\n",
      "Thread-9 7\n",
      "Thread-8 8\n",
      "Thread-9 9\n"
     ]
    }
   ],
   "source": [
    "import threading, time\n",
    "\n",
    "# 线程条件变量\n",
    "cond = threading.Condition()\n",
    "\n",
    "def run1():\n",
    "    with cond:\n",
    "        for i in range(0, 10, 2):\n",
    "            print(threading.current_thread().name, i)\n",
    "            time.sleep(1)\n",
    "            cond.wait()\n",
    "            cond.notify()\n",
    "\n",
    "def run2():\n",
    "    with cond:\n",
    "        for i in range(1, 10, 2):\n",
    "            print(threading.current_thread().name, i)\n",
    "            time.sleep(1)\n",
    "            cond.notify()\n",
    "            csond.wait()\n",
    "          \n",
    "threading.Thread(target=run1).start()\n",
    "threading.Thread(target=run2).start()  \n"
   ]
  },
  {
   "cell_type": "code",
   "execution_count": 5,
   "metadata": {},
   "outputs": [
    {
     "ename": "NameError",
     "evalue": "name 'kvb215023' is not defined",
     "output_type": "error",
     "traceback": [
      "\u001b[0;31m---------------------------------------------------------------------------\u001b[0m",
      "\u001b[0;31mNameError\u001b[0m                                 Traceback (most recent call last)",
      "\u001b[0;32m<ipython-input-5-0be850fe613e>\u001b[0m in \u001b[0;36m<module>\u001b[0;34m()\u001b[0m\n\u001b[0;32m----> 1\u001b[0;31m \u001b[0mkvb215023\u001b[0m\u001b[0;34m\u001b[0m\u001b[0m\n\u001b[0m",
      "\u001b[0;31mNameError\u001b[0m: name 'kvb215023' is not defined"
     ]
    }
   ],
   "source": [
    "kvb215023"
   ]
  },
  {
   "cell_type": "code",
   "execution_count": 7,
   "metadata": {},
   "outputs": [
    {
     "data": {
      "text/plain": [
       "3"
      ]
     },
     "execution_count": 7,
     "metadata": {},
     "output_type": "execute_result"
    }
   ],
   "source": [
    "1 + 2"
   ]
  },
  {
   "cell_type": "code",
   "execution_count": null,
   "metadata": {
    "collapsed": true
   },
   "outputs": [],
   "source": []
  }
 ],
 "metadata": {
  "kernelspec": {
   "display_name": "Python 3",
   "language": "python",
   "name": "python3"
  },
  "language_info": {
   "codemirror_mode": {
    "name": "ipython",
    "version": 3
   },
   "file_extension": ".py",
   "mimetype": "text/x-python",
   "name": "python",
   "nbconvert_exporter": "python",
   "pygments_lexer": "ipython3",
   "version": "3.6.1"
  }
 },
 "nbformat": 4,
 "nbformat_minor": 2
}

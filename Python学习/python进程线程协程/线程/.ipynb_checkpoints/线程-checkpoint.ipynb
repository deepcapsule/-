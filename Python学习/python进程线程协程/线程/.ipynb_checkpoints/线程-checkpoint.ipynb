{
 "cells": [
  {
   "cell_type": "markdown",
   "metadata": {},
   "source": [
    "### 线程"
   ]
  },
  {
   "cell_type": "code",
   "execution_count": 1,
   "metadata": {},
   "outputs": [
    {
     "name": "stdout",
     "output_type": "stream",
     "text": [
      "主线程 MainThread 启动\n",
      "子线程 Thread-4 启动\n",
      "打印模块\n",
      "子线程 Thread-4 结束\n",
      "主线程 MainThread 结束\n"
     ]
    }
   ],
   "source": [
    "import threading,time\n",
    "\n",
    "def run():\n",
    "    print(\"子线程 %s 启动\" % (threading.current_thread().name))\n",
    "    print(\"打印模块\")\n",
    "    time.sleep(2)\n",
    "    print(\"子线程 %s 结束\" % (threading.current_thread().name))\n",
    "    \n",
    "print(\"主线程 %s 启动\" % (threading.current_thread().name))\n",
    "\n",
    "t = threading.Thread(target=run, name=\"打印Thread\")\n",
    "t.start()\n",
    "t.join()a\n",
    "\n",
    "print(\"主线程 %s 结束\" % (threading.current_thread().name))\n"
   ]
  },
  {
   "cell_type": "markdown",
   "metadata": {},
   "source": [
    "### 线程锁解决数据混乱"
   ]
  },
  {
   "cell_type": "code",
   "execution_count": 8,
   "metadata": {},
   "outputs": [
    {
     "name": "stdout",
     "output_type": "stream",
     "text": [
      "0\n"
     ]
    }
   ],
   "source": [
    "import threading\n",
    "num = 0\n",
    "lock = threading.Lock()\n",
    "def run(n):\n",
    "    global num\n",
    "    \n",
    "    for i in range(1000000):\n",
    "        lock.acquire()\n",
    "        try:\n",
    "            num += n\n",
    "            num -= n\n",
    "        finally:\n",
    "            lock.release()\n",
    "        \"\"\"\n",
    "        with lock:\n",
    "            num += n\n",
    "            num -= n\n",
    "        \"\"\"\n",
    "    \n",
    "t1 = threading.Thread(target=run, args=(2, ))\n",
    "t2 = threading.Thread(target=run, args=(3, ))\n",
    "t1.start()\n",
    "t2.start()\n",
    "t1.join()\n",
    "t1.join()\n",
    "t2.join()\n",
    "\n",
    "\n",
    "print(num)\n",
    "    \n",
    "    "
   ]
  },
  {
   "cell_type": "code",
   "execution_count": 10,
   "metadata": {},
   "outputs": [
    {
     "name": "stdout",
     "output_type": "stream",
     "text": [
      "0\n"
     ]
    }
   ],
   "source": [
    "import threading\n",
    "num = 0\n",
    "# 创建一个全局的THrealocal对象，每个线程有独立的存储空间\n",
    "# 每个线程对Threadlocal对象都可以读写，互不影响\n",
    "# 经常用于为每个线程绑定一个数据库链接，HTTP请求，用户身份信息等\n",
    "local = threading.local()\n",
    "\n",
    "def run(m, n):\n",
    "      \n",
    "    for i in range(1000000):\n",
    "        m += n\n",
    "        m -= n\n",
    "\n",
    "def func(n):\n",
    "    local.x = num\n",
    "    run(local.x, n)\n",
    "    \n",
    "t1 = threading.Thread(target=func, args=(2, ))\n",
    "t2 = threading.Thread(target=func, args=(3, ))\n",
    "t1.start()\n",
    "t2.start()\n",
    "t1.join()\n",
    "t2.join()\n",
    "\n",
    "\n",
    "print(num)\n",
    "    \n",
    "    "
   ]
  },
  {
   "cell_type": "code",
   "execution_count": 15,
   "metadata": {},
   "outputs": [
    {
     "name": "stdout",
     "output_type": "stream",
     "text": [
      "1\n",
      "2\n",
      "A\n",
      "B\n",
      "C\n",
      "D\n",
      "3\n",
      "4\n"
     ]
    }
   ],
   "source": [
    "import threading,time\n",
    "\n",
    "def run1():\n",
    "      \n",
    "    print('1')\n",
    "    print('2')\n",
    "    time.sleep(2)\n",
    "    print('3')\n",
    "    print('4')\n",
    "    \n",
    "def run2():\n",
    "    print('A')\n",
    "    print('B')\n",
    "    time.sleep(1)\n",
    "    print('C')\n",
    "    print('D')\n",
    "    \n",
    "t1 = threading.Thread(target=run1)\n",
    "t2 = threading.Thread(target=run2)\n",
    "t1.start()\n",
    "t2.start()\n",
    "t1.join()\n",
    "t2.join()\n",
    "\n",
    "    "
   ]
  },
  {
   "cell_type": "markdown",
   "metadata": {},
   "source": []
  }
 ],
 "metadata": {
  "kernelspec": {
   "display_name": "Python 3",
   "language": "python",
   "name": "python3"
  },
  "language_info": {
   "codemirror_mode": {
    "name": "ipython",
    "version": 3
   },
   "file_extension": ".py",
   "mimetype": "text/x-python",
   "name": "python",
   "nbconvert_exporter": "python",
   "pygments_lexer": "ipython3",
   "version": "3.6.4"
  }
 },
 "nbformat": 4,
 "nbformat_minor": 2
}

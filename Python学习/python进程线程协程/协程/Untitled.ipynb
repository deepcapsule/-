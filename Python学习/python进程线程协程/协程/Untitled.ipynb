{
 "cells": [
  {
   "cell_type": "code",
   "execution_count": 1,
   "metadata": {},
   "outputs": [
    {
     "name": "stdout",
     "output_type": "stream",
     "text": [
      "1556183623.1458466 <class 'float'>\n",
      "time.struct_time(tm_year=2019, tm_mon=4, tm_mday=25, tm_hour=17, tm_min=13, tm_sec=43, tm_wday=3, tm_yday=115, tm_isdst=0) <class 'time.struct_time'>\n",
      "Thu Apr 25 17:13:43 2019 <class 'str'>\n",
      "Thu Apr 25 17:13:43 2019\n",
      "time.struct_time(tm_year=2019, tm_mon=4, tm_mday=25, tm_hour=17, tm_min=13, tm_sec=43, tm_wday=3, tm_yday=115, tm_isdst=-1) <class 'time.struct_time'>\n",
      "1556183623.0\n",
      "2019-04-25 17:13:43 Thursday\n"
     ]
    }
   ],
   "source": [
    "import time\n",
    "from datetime import datetime,date\n",
    "t = time.time()\n",
    "print(t, type(t))\n",
    "lt = time.localtime()\n",
    "print(lt, type(lt))\n",
    "ct = time.ctime()\n",
    "print(ct, type(ct))\n",
    "print(time.ctime(t))\n",
    "gmt = time.strptime(ct)\n",
    "print(gmt, type(gmt))\n",
    "print(time.mktime(gmt))\n",
    "print(time.strftime(\"%Y-%m-%d %H:%M:%S %A\", gmt))"
   ]
  },
  {
   "cell_type": "code",
   "execution_count": null,
   "metadata": {},
   "outputs": [],
   "source": [
    "import time\n",
    "\n",
    "# cpu时钟时间clock，反应程序运行实际时间，做性能测试更准确"
   ]
  }
 ],
 "metadata": {
  "kernelspec": {
   "display_name": "Python 3",
   "language": "python",
   "name": "python3"
  },
  "language_info": {
   "codemirror_mode": {
    "name": "ipython",
    "version": 3
   },
   "file_extension": ".py",
   "mimetype": "text/x-python",
   "name": "python",
   "nbconvert_exporter": "python",
   "pygments_lexer": "ipython3",
   "version": "3.6.4"
  }
 },
 "nbformat": 4,
 "nbformat_minor": 2
}

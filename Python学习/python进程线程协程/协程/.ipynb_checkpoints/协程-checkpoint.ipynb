{
 "cells": [
  {
   "cell_type": "markdown",
   "metadata": {},
   "source": [
    "### 协程"
   ]
  },
  {
   "cell_type": "markdown",
   "metadata": {},
   "source": [
    "协程看起来像线程，但特点是一个线程执行  \n",
    "与线程相比，协程执行效率极高，因为只有一个线程，也不存在同时写变量的冲突  \n",
    "在协程中共享资源不加锁，只需要判断状态\n",
    "通过生成器实现函数阶段执行"
   ]
  },
  {
   "cell_type": "code",
   "execution_count": 1,
   "metadata": {},
   "outputs": [
    {
     "name": "stdout",
     "output_type": "stream",
     "text": [
      "1\n",
      "10\n",
      "2\n",
      "20\n",
      "3\n",
      "30\n"
     ]
    }
   ],
   "source": [
    "def run():\n",
    "    print(1)\n",
    "    yield 10\n",
    "    print(2)\n",
    "    yield 20\n",
    "    print(3)\n",
    "    yield 30\n",
    "    \n",
    "m = run()\n",
    "print(next(m))\n",
    "print(next(m))\n",
    "print(next(m))\n"
   ]
  },
  {
   "cell_type": "code",
   "execution_count": 12,
   "metadata": {},
   "outputs": [
    {
     "name": "stdout",
     "output_type": "stream",
     "text": [
      "\n",
      "1 a \n",
      "\n",
      "2 b \n",
      "\n",
      "3 c \n",
      "\n",
      "****\n"
     ]
    }
   ],
   "source": [
    "def run():\n",
    "    data = \"\"\n",
    "    r = yield data\n",
    "    print(1, r, data)\n",
    "    r = yield data\n",
    "    print(2, r, data)\n",
    "    r = yield data\n",
    "    print(3, r, data)\n",
    "    r = yield data\n",
    "    \n",
    "m = run()\n",
    "print(m.send(None))\n",
    "print(m.send('a'))\n",
    "print(m.send('b'))\n",
    "print(m.send('c'))\n",
    "print('****')\n",
    "\n"
   ]
  }
 ],
 "metadata": {
  "kernelspec": {
   "display_name": "Python 3",
   "language": "python",
   "name": "python3"
  },
  "language_info": {
   "codemirror_mode": {
    "name": "ipython",
    "version": 3
   },
   "file_extension": ".py",
   "mimetype": "text/x-python",
   "name": "python",
   "nbconvert_exporter": "python",
   "pygments_lexer": "ipython3",
   "version": "3.6.4"
  }
 },
 "nbformat": 4,
 "nbformat_minor": 2
}

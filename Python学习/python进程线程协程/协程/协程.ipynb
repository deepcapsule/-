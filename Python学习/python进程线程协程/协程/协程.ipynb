{
 "cells": [
  {
   "cell_type": "markdown",
   "metadata": {},
   "source": [
    "### 协程"
   ]
  },
  {
   "cell_type": "markdown",
   "metadata": {},
   "source": [
    "协程看起来像线程，但特点是一个线程执行  \n",
    "与线程相比，协程执行效率极高，因为只有一个线程，也不存在同时写变量的冲突  \n",
    "在协程中共享资源不加锁，只需要判断状态\n",
    "通过生成器实现函数阶段执行"
   ]
  },
  {
   "cell_type": "code",
   "execution_count": 1,
   "metadata": {},
   "outputs": [
    {
     "name": "stdout",
     "output_type": "stream",
     "text": [
      "1\n",
      "10\n",
      "2\n",
      "20\n",
      "3\n",
      "30\n"
     ]
    }
   ],
   "source": [
    "def run():\n",
    "    print(1)\n",
    "    yield 10\n",
    "    print(2)\n",
    "    yield 20\n",
    "    print(3)\n",
    "    yield 30\n",
    "    \n",
    "m = run()\n",
    "print(next(m))\n",
    "print(next(m))\n",
    "print(next(m))\n"
   ]
  },
  {
   "cell_type": "code",
   "execution_count": 15,
   "metadata": {},
   "outputs": [
    {
     "name": "stdout",
     "output_type": "stream",
     "text": [
      "初始化\n",
      "1 a 初始化\n",
      "初始化\n",
      "2 b 初始化\n",
      "初始化\n",
      "3 c 初始化\n",
      "初始化\n",
      "****\n"
     ]
    }
   ],
   "source": [
    "def run():\n",
    "    data = \"初始化\"\n",
    "    r = yield data\n",
    "    print(1, r, data)\n",
    "    r = yield data\n",
    "    print(2, r, data)\n",
    "    r = yield data\n",
    "    print(3, r, data)\n",
    "    r = yield data\n",
    "    \n",
    "m = run()\n",
    "print(m.send(None))\n",
    "print(m.send('a'))\n",
    "print(m.send('b'))\n",
    "print(m.send('c'))\n",
    "print('****')\n",
    "\n"
   ]
  },
  {
   "cell_type": "code",
   "execution_count": 21,
   "metadata": {},
   "outputs": [
    {
     "name": "stdout",
     "output_type": "stream",
     "text": [
      "消费者生成器初始化\n",
      "生产者产生数据 0 \n",
      "消费者消费了 0 \n",
      "生产者知悉消费者已消费数据 0 \n",
      "生产者产生数据 1 \n",
      "消费者消费了 1 \n",
      "生产者知悉消费者已消费数据 1 \n",
      "生产者产生数据 2 \n",
      "消费者消费了 2 \n",
      "生产者知悉消费者已消费数据 2 \n",
      "生产者产生数据 3 \n",
      "消费者消费了 3 \n",
      "生产者知悉消费者已消费数据 3 \n",
      "生产者产生数据 4 \n",
      "消费者消费了 4 \n",
      "生产者知悉消费者已消费数据 4 \n",
      "生产结束\n"
     ]
    }
   ],
   "source": [
    "def product(c):\n",
    "    r = c.send(None)\n",
    "    print(r)\n",
    "    for i in range(5):\n",
    "        print(\"生产者产生数据 %d \" % i)\n",
    "        r = c.send(i)\n",
    "        print(\"生产者知悉消费者已消费数据 %s \" % r)\n",
    "    c.close()\n",
    "    print(\"生产结束\")\n",
    "\n",
    "def customer():\n",
    "    data = \"消费者生成器初始化\"\n",
    "    while True:\n",
    "        n = yield data\n",
    "        if n is None:\n",
    "            return\n",
    "        print(\"消费者消费了 %d \" % n)\n",
    "        data = str(n)\n",
    "c = customer()\n",
    "product(c)"
   ]
  },
  {
   "cell_type": "code",
   "execution_count": 7,
   "metadata": {},
   "outputs": [
    {
     "name": "stdout",
     "output_type": "stream",
     "text": [
      "[5, 4, 3, 2, 1, 0]\n"
     ]
    }
   ],
   "source": [
    "print(list(range(5,-1,-1)))"
   ]
  }
 ],
 "metadata": {
  "kernelspec": {
   "display_name": "Python 3",
   "language": "python",
   "name": "python3"
  },
  "language_info": {
   "codemirror_mode": {
    "name": "ipython",
    "version": 3
   },
   "file_extension": ".py",
   "mimetype": "text/x-python",
   "name": "python",
   "nbconvert_exporter": "python",
   "pygments_lexer": "ipython3",
   "version": "3.6.4"
  }
 },
 "nbformat": 4,
 "nbformat_minor": 2
}

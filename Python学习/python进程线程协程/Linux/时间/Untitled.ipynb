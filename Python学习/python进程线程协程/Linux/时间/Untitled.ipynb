{
 "cells": [
  {
   "cell_type": "markdown",
   "metadata": {},
   "source": [
    "#### clock\n",
    "硬件时间，即BIOS时间，"
   ]
  },
  {
   "cell_type": "markdown",
   "metadata": {},
   "source": [
    "#### date\n",
    "系统时间，操作系统时间"
   ]
  },
  {
   "cell_type": "markdown",
   "metadata": {},
   "source": [
    "#### 时间校准\n",
    "clock -w 假如系统时间正确，硬件时间不正确，纠正硬件时间为系统时间  \n",
    "clock -s 纠正系统时间为硬件时间  \n",
    "date 042710452019.15 设置系统时间为2019年4月27日上午10点45分15秒"
   ]
  },
  {
   "cell_type": "markdown",
   "metadata": {},
   "source": [
    "#### 时间同步\n",
    "多台机器，假设其中一台如A是准确的，其他都以A为标准同步。 \n",
    "ntpdate 服务器ip"
   ]
  },
  {
   "cell_type": "markdown",
   "metadata": {},
   "source": [
    "#### 网卡名称\n",
    "> 在redhat6和7中，网卡名称各有不同  \n",
    "> 可在/boot/grub2/grub.cfg中修改网卡默认启动名  \n",
    "> 在上述文件的menuentry(非rescue）条目的linux16行末尾添加net.ifnames=0"
   ]
  }
 ],
 "metadata": {
  "kernelspec": {
   "display_name": "Python 3",
   "language": "python",
   "name": "python3"
  },
  "language_info": {
   "codemirror_mode": {
    "name": "ipython",
    "version": 3
   },
   "file_extension": ".py",
   "mimetype": "text/x-python",
   "name": "python",
   "nbconvert_exporter": "python",
   "pygments_lexer": "ipython3",
   "version": "3.6.4"
  }
 },
 "nbformat": 4,
 "nbformat_minor": 2
}

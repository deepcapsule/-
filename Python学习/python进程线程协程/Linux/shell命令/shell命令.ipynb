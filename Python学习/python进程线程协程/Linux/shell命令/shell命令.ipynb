{
 "cells": [
  {
   "cell_type": "markdown",
   "metadata": {},
   "source": [
    "### 命令提示符颜色\n",
    "在 ~/.bash_profile文件中追加写入  \n",
    "PS1=\"\\[\\e[1;35m\\][\\u@\\h \\W]\\\\$\\[\\e[0m\\]\"  \n",
    "然后在命令行中执行source .bash_profile 或者. .bash_profile"
   ]
  },
  {
   "cell_type": "markdown",
   "metadata": {},
   "source": [
    "### bash命令\n",
    "用enable查看内部命令  \n",
    "用help查看内部命令和使用方法  \n",
    "用type后跟空格跟命令a可查看a是外部还是内部命令  \n",
    "用which或whereis跟空格跟命令a可查看a所在路径  "
   ]
  },
  {
   "cell_type": "markdown",
   "metadata": {},
   "source": [
    "### Hash\n",
    "系统初始hash为空，当执行外部命令时，默认会从PATH路径下寻找该命令，找到之后会将这了命令的路径记录到hash表中，当再次使用该命令，shell解释器首先会查看hash表，存在则执行，否则去PATH路径中寻找。利用hash缓存表可大大提高命令的调用速率。"
   ]
  },
  {
   "cell_type": "markdown",
   "metadata": {},
   "source": [
    "### 命令别名\n",
    "alias 查看所用别名  \n",
    "alias la=\"ll -a\" 设置别名la  \n",
    "永久设置，在~/.bashrc文件中追加写入alias la=\"ll -a\"，则别名会永久生效。  \n",
    "别名生效，推出重启bash，或者执行source .bashrc或者执行. .bashrc  \n",
    "unalias [-a] name[name...] 取消别名，-a表示取消所有别名  \n",
    "如果别名同原命令同名，要执行原命令，假设别名为aliasname，可用如下执行原命令。  \n",
    "* \\aliasname\n",
    "* \"aliasname\"\n",
    "* command aliasname\n",
    "* /path/command   （path表示命令所在路径）\n",
    "\n",
    "同名命令执行优先级为别名、内部命令、外部命令"
   ]
  },
  {
   "cell_type": "markdown",
   "metadata": {},
   "source": [
    "### 关机\n",
    "关机：halt，poweroff  \n",
    "重启：reboot  \n",
    "* -f：强制，不调用shutdown\n",
    "* -p: 切断电源\n",
    "\n",
    "关机或重启：shutdown\n",
    "* shutdown [option]... time[message]\n",
    "* -r:reboot\n",
    "* -h:halt\n",
    "* -c:cancel\n",
    "* time :无指定，默认相当于 +1\n",
    " * now: 立刻，相当于 +0\n",
    " * +m :相对时间表示法，几分钟之后，如 +3\n",
    " * hh:mm ：绝对时间表示，指明具体时间"
   ]
  },
  {
   "cell_type": "markdown",
   "metadata": {},
   "source": [
    "### 登录信息\n",
    "whoami ：显示当前登录的有效用户  \n",
    "who ： 系统当前所有的登录会话  \n",
    "w : 系统当前所有的登录会话及所作操作"
   ]
  },
  {
   "cell_type": "markdown",
   "metadata": {},
   "source": [
    "### screen\n",
    "* 创建screen会话 screen -S [SESSION]\n",
    "* 加入screen会话 screen -x [SESSION]\n",
    "* 退出并关闭screen会话 exit\n",
    "* 剥离当前screen会话 Ctrl+a,d\n",
    "* 显示所有已经打开的screen会话 screen -ls\n",
    "* 恢复某screen会话 screen -r [SESSION]"
   ]
  },
  {
   "cell_type": "markdown",
   "metadata": {},
   "source": [
    "### 安装screen\n",
    "将虚拟镜像连接到系统，用命令lsblk查看硬盘挂载情况  \n",
    "进入挂载目录，进入Packages目录，系统镜像所携带的所有rpm安装包都在这里"
   ]
  },
  {
   "cell_type": "markdown",
   "metadata": {},
   "source": [
    "### echo\n",
    "功能： 显示字符  \n",
    "echo \"$var_name\" 双引号内变量会替换，弱引用 \n",
    "\n",
    "echo '$var_name' 单引号内变量不会替换，强引用\n",
    "\n",
    "echo -e \"cmd\" 解释cmd中的\\  \n",
    "echo \\`cmd\\` 反撇号，可以解释其中的变量和命令(即运行其中的命令并返回结果）  \n",
    "echo \"\\$(cmd)\" 用$加括号可以解释括号中的命令   "
   ]
  },
  {
   "cell_type": "markdown",
   "metadata": {},
   "source": [
    "### {} 扩展 \n",
    "功能：简化重复字符串  \n",
    "* echo file{1,2,3}\n",
    " * 输出：file1 file2 file3\n",
    "* echo file{1,2,3}{.txt,.log}\n",
    " * 输出：file1.txt file1.log file2.txt file2.log file3.txt file3.log\n",
    "* touch \\`date +%F\\`.log\n",
    " * 创建文件2019-04-17.log\n",
    "* rm file{1,3,5}\n",
    " * 删除文件 file1,file3,file5\n",
    "* echo {1..5}\n",
    " * 输出：1 2 3 4 5\n",
    "* echo {a..z..2} \n",
    " * 输出a到z，步长为2"
   ]
  },
  {
   "cell_type": "markdown",
   "metadata": {},
   "source": [
    "### 历史命令\n",
    "* history 显示历史命令\n",
    "* !2 执行历史命令的第二条命令\n",
    "* !-1 执行历史命令的倒数第一条，即上一条命令，也可用如下方式执行\n",
    " * !! 并回车执行\n",
    " * Ctrl+p 并回车执行\n",
    " * 按编辑区上方向键，并回车执行\n",
    "* !:0 执行前一条命令（去除参数执行）\n",
    "* !l 执行最近的（历史命令中倒数）以l开头的命令\n",
    "* !?ana 执行最近执行过的包含ana字符串的命令\n",
    "* 如果最近两条命令完全一样（参数也一样）则历史记录中不会重复记录\n",
    "* Ctrl-r 在历史命令中搜索命令  \n",
    "  Ctrl+g 从历史搜索中推出\n",
    "* 要重新调用前一个命令中最后一个参数：\n",
    " * !$ 表示\n",
    " * ESC,. (点击ESC键后松开，然后点击.键）\n",
    " * Alt+. (按住Alt键同时点击.键）\n",
    "* history -c 删除内存中的历史命令\n",
    "* 先删除家目录下的.bash_history再删除内存历史命令，可彻底删除历史命令"
   ]
  },
  {
   "cell_type": "markdown",
   "metadata": {},
   "source": []
  }
 ],
 "metadata": {
  "kernelspec": {
   "display_name": "Python 3",
   "language": "python",
   "name": "python3"
  },
  "language_info": {
   "codemirror_mode": {
    "name": "ipython",
    "version": 3
   },
   "file_extension": ".py",
   "mimetype": "text/x-python",
   "name": "python",
   "nbconvert_exporter": "python",
   "pygments_lexer": "ipython3",
   "version": "3.6.4"
  }
 },
 "nbformat": 4,
 "nbformat_minor": 2
}

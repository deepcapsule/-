{
 "cells": [
  {
   "cell_type": "code",
   "execution_count": 6,
   "metadata": {},
   "outputs": [
    {
     "name": "stdout",
     "output_type": "stream",
     "text": [
      "[ 4 10 18]\n",
      "[ 4 10 18]\n"
     ]
    }
   ],
   "source": [
    "import numpy as np\n",
    "\n",
    "# multiply，对应位置相乘\n",
    "x1 = [1,2,3]\n",
    "x2 = [4,5,6]\n",
    "print(np.multiply(x1,x2))\n",
    "print(np.array(x1) * np.array(x2))"
   ]
  },
  {
   "cell_type": "code",
   "execution_count": 11,
   "metadata": {},
   "outputs": [
    {
     "name": "stdout",
     "output_type": "stream",
     "text": [
      "8.0 2.8284271247461903\n",
      "1.25\n",
      "[4. 4. 4. 4.] [1.25 1.25]\n"
     ]
    }
   ],
   "source": [
    "import numpy as np\n",
    "\n",
    "# std标准差，var方差\n",
    "b = [1,3,5,7,9]\n",
    "print(np.var(b), np.std(b))\n",
    "ll = [[1,2,3,4],[5,6,7,8]]\n",
    "print(np.var(ll[0]))\n",
    "print(np.var(ll, 0), np.var(ll, 1))"
   ]
  },
  {
   "cell_type": "code",
   "execution_count": 13,
   "metadata": {},
   "outputs": [
    {
     "name": "stdout",
     "output_type": "stream",
     "text": [
      "4.0\n",
      "16\n"
     ]
    }
   ],
   "source": [
    "import numpy as np\n",
    "\n",
    "# mean均值, sum求和\n",
    "b = [1,3,5,7]\n",
    "print(np.mean(b))\n",
    "print(np.sum(b))"
   ]
  },
  {
   "cell_type": "markdown",
   "metadata": {},
   "source": [
    " 样本均值$ \\quad \\overline X = \\frac 1 N \\sum_{i=1}^NX_i $  \n",
    "   \n",
    " 样本方差$ \\quad S =\\frac 1 {N-1} \\sum_{i=1}^N(X_i-\\overline X)^2 $\n",
    "  \n",
    " 样本协方差$ \\quad C = \\frac 1 {N-1} \\sum_{i=1}^N(X_i-\\overline X)(Y_i-\\overline Y) $\n",
    " "
   ]
  },
  {
   "cell_type": "code",
   "execution_count": 57,
   "metadata": {},
   "outputs": [
    {
     "name": "stdout",
     "output_type": "stream",
     "text": [
      "10.0\n",
      "10.0\n"
     ]
    }
   ],
   "source": [
    "import numpy as np\n",
    "# cov协方差 ,样本方差是协方差中变量维数为1的特殊情况\n",
    "# Cov(X,Y) = E[XY] - E[X]E[Y]\n",
    "b = [1,3,5,7,9]\n",
    "c = [-2,-4,-6,-8,-10]\n",
    "print(np.cov(b))\n",
    "print(np.sum((np.multiply(b,b))-np.mean(b)*np.mean(b))/4)"
   ]
  },
  {
   "cell_type": "code",
   "execution_count": 62,
   "metadata": {},
   "outputs": [
    {
     "name": "stdout",
     "output_type": "stream",
     "text": [
      "[[ 0.5 -0.5  1.   2. ]\n",
      " [-0.5  0.5 -1.  -2. ]\n",
      " [ 1.  -1.   2.   4. ]\n",
      " [ 2.  -2.   4.   8. ]]\n"
     ]
    }
   ],
   "source": [
    "a = np.array([[1,2],\n",
    "            [5,4],\n",
    "            [8,10],\n",
    "            [13,17]])\n",
    "print(np.cov(a))"
   ]
  },
  {
   "cell_type": "code",
   "execution_count": 64,
   "metadata": {},
   "outputs": [
    {
     "name": "stdout",
     "output_type": "stream",
     "text": [
      "[[1.         0.82621109]\n",
      " [0.82621109 1.        ]]\n",
      "[[ 9.7   8.65]\n",
      " [ 8.65 11.3 ]]\n"
     ]
    }
   ],
   "source": [
    "import numpy as np\n",
    "\n",
    "# corrcoef相关系数矩阵，两个向量的相似程度\n",
    "vc = [1,2,3,0,8]\n",
    "vb = [ 3,5,6,7,12]\n",
    "print(np.corrcoef(vc,vb))\n",
    "print(np.cov(vc,vb))"
   ]
  },
  {
   "cell_type": "code",
   "execution_count": 66,
   "metadata": {},
   "outputs": [
    {
     "name": "stdout",
     "output_type": "stream",
     "text": [
      "20\n"
     ]
    }
   ],
   "source": [
    "import numpy as np\n",
    "\n",
    "# dot点积， vdot向量点积\n",
    "a = [1,2,3]\n",
    "b = [2,3,4]\n",
    "print(np.dot(a,b))"
   ]
  },
  {
   "cell_type": "code",
   "execution_count": 84,
   "metadata": {},
   "outputs": [
    {
     "name": "stdout",
     "output_type": "stream",
     "text": [
      "20 [ 2  6 12] [ 2  6 12]\n"
     ]
    }
   ],
   "source": [
    "import numpy as np\n",
    "\n",
    "a = np.array([1,2,3])\n",
    "b = np.array([2,3,4])\n",
    "print(np.dot(a,b), a*b, np.multiply(a,b.T))"
   ]
  },
  {
   "cell_type": "code",
   "execution_count": 89,
   "metadata": {},
   "outputs": [
    {
     "name": "stdout",
     "output_type": "stream",
     "text": [
      "[[ 2  6 12]] \n",
      " [[ 2  4  6]\n",
      " [ 3  6  9]\n",
      " [ 4  8 12]] [[20]] [[20]]\n"
     ]
    }
   ],
   "source": [
    "import numpy as np\n",
    "\n",
    "a = np.mat([1,2,3])\n",
    "b = np.mat([2,3,4])\n",
    "print(np.multiply(a,b),'\\n' ,np.multiply(a,b.T),np.dot(a,b.T),a*b.T)"
   ]
  },
  {
   "cell_type": "code",
   "execution_count": 113,
   "metadata": {},
   "outputs": [
    {
     "data": {
      "text/plain": [
       "['CLOCK_MONOTONIC',\n",
       " 'CLOCK_MONOTONIC_RAW',\n",
       " 'CLOCK_PROCESS_CPUTIME_ID',\n",
       " 'CLOCK_REALTIME',\n",
       " 'CLOCK_THREAD_CPUTIME_ID',\n",
       " '_STRUCT_TM_ITEMS',\n",
       " '__doc__',\n",
       " '__loader__',\n",
       " '__name__',\n",
       " '__package__',\n",
       " '__spec__',\n",
       " 'altzone',\n",
       " 'asctime',\n",
       " 'clock',\n",
       " 'clock_getres',\n",
       " 'clock_gettime',\n",
       " 'clock_settime',\n",
       " 'ctime',\n",
       " 'daylight',\n",
       " 'get_clock_info',\n",
       " 'gmtime',\n",
       " 'localtime',\n",
       " 'mktime',\n",
       " 'monotonic',\n",
       " 'perf_counter',\n",
       " 'process_time',\n",
       " 'sleep',\n",
       " 'strftime',\n",
       " 'strptime',\n",
       " 'struct_time',\n",
       " 'time',\n",
       " 'timezone',\n",
       " 'tzname',\n",
       " 'tzset']"
      ]
     },
     "execution_count": 113,
     "metadata": {},
     "output_type": "execute_result"
    }
   ],
   "source": [
    "dir(time)"
   ]
  }
 ],
 "metadata": {
  "kernelspec": {
   "display_name": "Python 3",
   "language": "python",
   "name": "python3"
  },
  "language_info": {
   "codemirror_mode": {
    "name": "ipython",
    "version": 3
   },
   "file_extension": ".py",
   "mimetype": "text/x-python",
   "name": "python",
   "nbconvert_exporter": "python",
   "pygments_lexer": "ipython3",
   "version": "3.6.1"
  }
 },
 "nbformat": 4,
 "nbformat_minor": 2
}

{
 "cells": [
  {
   "cell_type": "markdown",
   "metadata": {},
   "source": [
    "### re.match()  \n",
    "原型：match(pattern, string, flags=0)  \n",
    "pattern: 匹配的正则表达式  \n",
    "string:  要匹配的字符串  \n",
    "flags:   标志位，用于控制正则表达式的匹配方式，如下：  \n",
    "* **re.I  忽略大小写**\n",
    "* re.L  做本地户识别\n",
    "* **re.M  多行匹配，影响^和$**  \n",
    "* **re.S  使.匹配包括换行符在内的所有字符**  \n",
    "* **re.U  根据Unicode字符集解析字符，影响\\w,\\W,\\b,\\B**  \n",
    "* re.X  使我们以更灵活的格式理解正则表达式      \n",
    "\n",
    "功能： 从字符串开头匹配，返回从开始匹配成功的位置，若从开始未匹配到或不在开始位置匹配到，返回None"
   ]
  },
  {
   "cell_type": "code",
   "execution_count": 2,
   "metadata": {},
   "outputs": [
    {
     "data": {
      "text/plain": [
       "<_sre.SRE_Match object; span=(0, 3), match='Www'>"
      ]
     },
     "execution_count": 2,
     "metadata": {},
     "output_type": "execute_result"
    }
   ],
   "source": [
    "import re\n",
    "addr = \"Www.baidu.com\"\n",
    "re.match(\"www\", addr, re.I)"
   ]
  },
  {
   "cell_type": "markdown",
   "metadata": {},
   "source": [
    "### re.search()\n",
    "原型：search(pattern, string, flags=0)  \n",
    "功能：扫描整个字符串，并返回第一个成功的匹配"
   ]
  },
  {
   "cell_type": "code",
   "execution_count": 4,
   "metadata": {},
   "outputs": [
    {
     "name": "stdout",
     "output_type": "stream",
     "text": [
      "None\n",
      "<_sre.SRE_Match object; span=(4, 7), match='bai'>\n"
     ]
    }
   ],
   "source": [
    "import re\n",
    "addr = \"www.baidu.com\"\n",
    "print(re.match(\"bai\", addr))\n",
    "print(re.search(\"bai\", addr))"
   ]
  },
  {
   "cell_type": "markdown",
   "metadata": {},
   "source": [
    "### re.findall()\n",
    "原型： findall(pattern, string, flafs=0)  \n",
    "功能： 扫描整个字符串，并返回所有结果的列表"
   ]
  },
  {
   "cell_type": "code",
   "execution_count": 5,
   "metadata": {},
   "outputs": [
    {
     "name": "stdout",
     "output_type": "stream",
     "text": [
      "['w', 'w', 'w']\n"
     ]
    }
   ],
   "source": [
    "import re\n",
    "addr = \"www.baidu.com\"\n",
    "print(re.findall(\"w\", addr))"
   ]
  },
  {
   "cell_type": "markdown",
   "metadata": {},
   "source": [
    "### 字符串切割"
   ]
  },
  {
   "cell_type": "code",
   "execution_count": 8,
   "metadata": {},
   "outputs": [
    {
     "name": "stdout",
     "output_type": "stream",
     "text": [
      "['wang', 'is', 'a', 'good', 'man']\n",
      "['wang', '', '', '', 'is', 'a', 'good', 'man']\n",
      "['wang', 'is', 'a', 'good', 'man']\n"
     ]
    }
   ],
   "source": [
    "import re\n",
    "str1 = 'wang    is a good man'\n",
    "print(str1.split())\n",
    "print(str1.split(\" \"))\n",
    "print(re.split(r\" +\", str1))"
   ]
  },
  {
   "cell_type": "markdown",
   "metadata": {},
   "source": [
    "### re.finditer()\n",
    "原型： finditer(pattern, string, flags=0)  \n",
    "功能： 与findall类似，扫描整个字符串，但返回的是一个迭代器  "
   ]
  },
  {
   "cell_type": "code",
   "execution_count": 16,
   "metadata": {},
   "outputs": [
    {
     "name": "stdout",
     "output_type": "stream",
     "text": [
      "wang\n",
      "wang\n",
      "wang\n"
     ]
    }
   ],
   "source": [
    "import re\n",
    "strs = \"wang is a good man! wang is a nice man! wang is a very handsome man!\"\n",
    "d = re.finditer(r\"wang\", strs)\n",
    "for i in d:\n",
    "    print(i.group())"
   ]
  },
  {
   "cell_type": "markdown",
   "metadata": {},
   "source": [
    "### 字符串的替换和修改\n",
    "**sub(pattern, repl, string, count=0, flags=0)  \n",
    "subn(pattern, repl, string, count=0, flags=0) **\n",
    "* pattern: 正则\n",
    "* repl: 指定的用来替换的字符串\n",
    "* string: 目标字符串\n",
    "* count: 最多替换次数，默认为0，表示替换所有匹配到的字符串\n",
    "* 功能： 在目标字符串中以正则匹配字符串，把匹配到的替换成指定字符串"
   ]
  },
  {
   "cell_type": "code",
   "execution_count": 18,
   "metadata": {},
   "outputs": [
    {
     "name": "stdout",
     "output_type": "stream",
     "text": [
      "wang is a nice nice nice boy\n",
      "('wang is a nice nice good boy', 2)\n"
     ]
    }
   ],
   "source": [
    "import re\n",
    "str2 = \"wang is a good good good boy\"\n",
    "print(re.sub(\"good\", \"nice\", str2))\n",
    "print(re.subn(\"good\", \"nice\", str2, count=2))"
   ]
  },
  {
   "cell_type": "code",
   "execution_count": 22,
   "metadata": {},
   "outputs": [
    {
     "name": "stdout",
     "output_type": "stream",
     "text": [
      "13600000000\n"
     ]
    }
   ],
   "source": [
    "import re\n",
    "pat = r'^1(([3578]\\d)|(47))\\d{8}$'\n",
    "re_tele = re.compile(pat)\n",
    "print(re_tele.match(\"13600000000\").group())"
   ]
  }
 ],
 "metadata": {
  "kernelspec": {
   "display_name": "Python 3",
   "language": "python",
   "name": "python3"
  },
  "language_info": {
   "codemirror_mode": {
    "name": "ipython",
    "version": 3
   },
   "file_extension": ".py",
   "mimetype": "text/x-python",
   "name": "python",
   "nbconvert_exporter": "python",
   "pygments_lexer": "ipython3",
   "version": "3.6.4"
  }
 },
 "nbformat": 4,
 "nbformat_minor": 2
}

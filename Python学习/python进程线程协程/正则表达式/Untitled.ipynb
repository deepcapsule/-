{
 "cells": [
  {
   "cell_type": "markdown",
   "metadata": {},
   "source": [
    "牛顿法  \n",
    "```\n",
    "x_n = starting_point  \n",
    "x_n1 = x_n -(f'(x_n)/f''(x_n))  \n",
    "while (f(x_n) != f(x_n1)):  \n",
    "    x_n =x_n1  \n",
    "    x_n1 = x_n -(f'(x_n)/f''(x_n))\n",
    "```"
   ]
  },
  {
   "cell_type": "markdown",
   "metadata": {},
   "source": [
    "梯度下降法  \n",
    "```\n",
    "alpha = small_constant  \n",
    "x_n = starting_point\n",
    "x_n1 = x_n - alpha * gradient(x_n)\n",
    "while (f(x_n) != f(x_n1)):\n",
    "    x_n = x_n1\n",
    "    x_n1 = x_n - alpha * gradient(x_n)\n",
    "```"
   ]
  },
  {
   "cell_type": "markdown",
   "metadata": {},
   "source": [
    "最速下降法  \n",
    "虽然速度比梯度下降法快很多，但计算alpha_k花销太大，实际中并不常用\n",
    "```\n",
    "x_n = starting_point  \n",
    "alpha_k = get_optimizer(f(x_n - alpha * gradient(x_n)))\n",
    "x_n1 = x_n - alpha_n * grdient(x_n)\n",
    "while (f(x_n) != f(x_n1)):\n",
    "    x_n = x_n1\n",
    "    alpha_k = get_optimizer(f(x_n - alpha * gradient(x_n)))\n",
    "    x_n1 = x_n - alpha_n * gradient(x_n)\n",
    "```"
   ]
  }
 ],
 "metadata": {
  "kernelspec": {
   "display_name": "Python 3",
   "language": "python",
   "name": "python3"
  },
  "language_info": {
   "codemirror_mode": {
    "name": "ipython",
    "version": 3
   },
   "file_extension": ".py",
   "mimetype": "text/x-python",
   "name": "python",
   "nbconvert_exporter": "python",
   "pygments_lexer": "ipython3",
   "version": "3.6.4"
  }
 },
 "nbformat": 4,
 "nbformat_minor": 2
}

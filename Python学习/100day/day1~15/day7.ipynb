{
 "cells": [
  {
   "cell_type": "markdown",
   "metadata": {},
   "source": [
    "#### 字符串"
   ]
  },
  {
   "cell_type": "code",
   "execution_count": 5,
   "metadata": {},
   "outputs": [
    {
     "name": "stdout",
     "output_type": "stream",
     "text": [
      "*******************hello, world*******************\n",
      "######################################hello, world\n",
      "*wangchx,nice day*\n"
     ]
    }
   ],
   "source": [
    "# 将字符串以指定的宽度居中并在两侧填充指定的字符\n",
    "str1 = 'hello, world'\n",
    "print(str1.center(50, '*'))\n",
    "# 将字符串以指定的宽度靠右侧放置并在左侧侧填充指定的字符\n",
    "print(str1.rjust(50, '#'))\n",
    "str2 = ' wangchx,nice day  '\n",
    "print('*'+str2.strip()+'*')"
   ]
  },
  {
   "cell_type": "markdown",
   "metadata": {},
   "source": [
    "#### 列表"
   ]
  },
  {
   "cell_type": "code",
   "execution_count": 6,
   "metadata": {},
   "outputs": [
    {
     "name": "stdout",
     "output_type": "stream",
     "text": [
      "['hello', 'hello', 'hello', 'hello', 'hello']\n"
     ]
    }
   ],
   "source": [
    "lists = ['hello'] * 5\n",
    "print(lists)"
   ]
  },
  {
   "cell_type": "code",
   "execution_count": 7,
   "metadata": {
    "scrolled": true
   },
   "outputs": [
    {
     "name": "stdout",
     "output_type": "stream",
     "text": [
      "['orange', 'apple', 'zoo', 'initernationalization', 'blueberry']\n",
      "['apple', 'blueberry', 'initernationalization', 'orange', 'zoo']\n",
      "['zoo', 'orange', 'initernationalization', 'blueberry', 'apple']\n",
      "['zoo', 'apple', 'orange', 'blueberry', 'initernationalization']\n",
      "['blueberry', 'initernationalization', 'zoo', 'apple', 'orange']\n"
     ]
    }
   ],
   "source": [
    "list1 = ['orange', 'apple', 'zoo', 'initernationalization', 'blueberry']\n",
    "list2 = sorted(list1)\n",
    "list3 = sorted(list1, reverse=True)     # 逆序\n",
    "list4 = sorted(list1, key=len)         # 按每个字符串长度排序\n",
    "list5 = sorted(list1, key=lambda x : x[1])  # 按每个字符串第二个字母表顺序排序\n",
    "print(list1)\n",
    "print(list2)\n",
    "print(list3)\n",
    "print(list4)\n",
    "print(list5)"
   ]
  },
  {
   "cell_type": "code",
   "execution_count": 8,
   "metadata": {
    "scrolled": true
   },
   "outputs": [
    {
     "name": "stdout",
     "output_type": "stream",
     "text": [
      "['A1', 'A2', 'A3', 'A4', 'A5', 'A6', 'A7', 'B1', 'B2', 'B3', 'B4', 'B5', 'B6', 'B7', 'C1', 'C2', 'C3', 'C4', 'C5', 'C6', 'C7', 'D1', 'D2', 'D3', 'D4', 'D5', 'D6', 'D7', 'E1', 'E2', 'E3', 'E4', 'E5', 'E6', 'E7']\n"
     ]
    }
   ],
   "source": [
    "f = [x + y for x in 'ABCDE' for y in '1234567']\n",
    "print(f)"
   ]
  },
  {
   "cell_type": "code",
   "execution_count": 10,
   "metadata": {},
   "outputs": [
    {
     "name": "stdout",
     "output_type": "stream",
     "text": [
      "9024\n"
     ]
    }
   ],
   "source": [
    "import sys\n",
    "# 用列表生成式创建列表之后元素已准备就绪，所以需要耗费较多内存空间\n",
    "lf = [x**2 for x in range(1, 1000)]\n",
    "print(sys.getsizeof(lf))"
   ]
  },
  {
   "cell_type": "code",
   "execution_count": 11,
   "metadata": {},
   "outputs": [
    {
     "name": "stdout",
     "output_type": "stream",
     "text": [
      "88\n"
     ]
    }
   ],
   "source": [
    "# 可以把列表生成式放在括号内，创建生成器对象\n",
    "# 通过生成器获得数据不占用额外存储空间\n",
    "# 但每次需要数据的时候需要通过内部运算得到数据\n",
    "# 因此需要花费额外的时间\n",
    "import sys\n",
    "g = (x**2 for x in range(1,1000))\n",
    "print(sys.getsizeof(g))"
   ]
  },
  {
   "cell_type": "markdown",
   "metadata": {},
   "source": [
    "$$ {\\displaystyle F_{0}=0} $$\n",
    "$$ {\\displaystyle F_{1}=1} $$\n",
    "$$ {\\displaystyle F_{n}=F_{n-1} + F_{n-2}}({n}\\geq{2}) $$"
   ]
  },
  {
   "cell_type": "code",
   "execution_count": 13,
   "metadata": {},
   "outputs": [
    {
     "name": "stdout",
     "output_type": "stream",
     "text": [
      "1 1 2 3 5 8 13 21 34 55 89 144 233 377 610 987 1597 2584 4181 6765 "
     ]
    }
   ],
   "source": [
    "def fib(n):\n",
    "    a, b = 0, 1\n",
    "    for _ in range(n):\n",
    "        a, b = b, a + b\n",
    "        yield a\n",
    "        \n",
    "for val in fib(20):\n",
    "    print(val, end=' ')"
   ]
  },
  {
   "cell_type": "markdown",
   "metadata": {},
   "source": [
    "#### 元组\n",
    "元组在创建时间和占用空间上面都优于列表。  \n",
    "在多线程环境中，更喜欢使用元组。  \n",
    "一方面不可变对象要比可变对象更加容易维护；  \n",
    "另一方面没有任何一个线程能够修改不可变对象的内部状态，  \n",
    "一个不可变对象自动就是线程安全的，可以省掉处理同步化的开销。"
   ]
  },
  {
   "cell_type": "markdown",
   "metadata": {},
   "source": [
    "#### 集合"
   ]
  },
  {
   "cell_type": "code",
   "execution_count": 15,
   "metadata": {
    "scrolled": true
   },
   "outputs": [
    {
     "name": "stdout",
     "output_type": "stream",
     "text": [
      "{1, 2, 3}\n",
      "Length: 3\n",
      "{1, 2, 3, 4}\n",
      "{1, 2, 3, 4, 5, 6, 7, 8, 9, 11, 12}\n",
      "{1, 2, 3, 4, 6, 7, 8, 9, 11, 12}\n"
     ]
    }
   ],
   "source": [
    "set1 = {1,2,3,3,3,2}\n",
    "print(set1)\n",
    "print('Length:', len(set1))\n",
    "set2 = set(range(1,10))\n",
    "set1.add(4)\n",
    "set2.update([11,12])\n",
    "print(set1)\n",
    "print(set2)\n",
    "set2.discard(5)\n",
    "print(set2)"
   ]
  },
  {
   "cell_type": "code",
   "execution_count": 16,
   "metadata": {
    "scrolled": true
   },
   "outputs": [
    {
     "name": "stdout",
     "output_type": "stream",
     "text": [
      "{1, 2, 3, 4}\n",
      "{1, 2, 3, 4, 6, 7, 8, 9, 11, 12}\n",
      "{6, 7, 8, 9, 11, 12}\n",
      "{6, 7, 8, 9, 11, 12}\n",
      "True\n",
      "True\n"
     ]
    }
   ],
   "source": [
    "# 交集、并集、差集、对称差集\n",
    "print(set1 & set2)\n",
    "print(set1 | set2)\n",
    "print(set2 - set1)\n",
    "print(set1 ^ set2)\n",
    "# 判断子集、超集\n",
    "print(set1 <= set2)\n",
    "print(set2 >= set1)"
   ]
  },
  {
   "cell_type": "markdown",
   "metadata": {},
   "source": [
    "#### 字典"
   ]
  },
  {
   "cell_type": "code",
   "execution_count": 3,
   "metadata": {
    "scrolled": true
   },
   "outputs": [
    {
     "name": "stdout",
     "output_type": "stream",
     "text": [
      "95\n",
      "罗浩\t---->\t95\n",
      "白猿飞\t---->\t85\n",
      "狄仁杰\t---->\t82\n",
      "{'罗浩': 95, '白猿飞': 99, '狄仁杰': 82, '冷面': 87, '芳芳': 98}\n",
      "100\n",
      "{'罗浩': 95, '白猿飞': 99, '狄仁杰': 82, '冷面': 87, '芳芳': 98}\n",
      "('芳芳', 98)\n",
      "('冷面', 87)\n"
     ]
    }
   ],
   "source": [
    "scores = {'罗浩':95, '白猿飞':85, '狄仁杰':82}\n",
    "print(scores['罗浩'])\n",
    "for elem in scores:\n",
    "    print('%s\\t---->\\t%d' % (elem, scores[elem]))\n",
    "scores['白猿飞'] = 99\n",
    "scores.update(冷面=87, 芳芳=98)\n",
    "print(scores)\n",
    "print(scores.get('武则天', 100))\n",
    "print(scores)\n",
    "print(scores.popitem())\n",
    "print(scores.popitem())\n",
    "# scores.clear()"
   ]
  },
  {
   "cell_type": "code",
   "execution_count": 27,
   "metadata": {},
   "outputs": [
    {
     "data": {
      "text/plain": [
       "dict_keys(['罗浩', '白猿飞', '狄仁杰'])"
      ]
     },
     "execution_count": 27,
     "metadata": {},
     "output_type": "execute_result"
    }
   ],
   "source": [
    "scores.keys()"
   ]
  },
  {
   "cell_type": "code",
   "execution_count": null,
   "metadata": {
    "collapsed": true
   },
   "outputs": [],
   "source": [
    "# 在屏幕上显示跑马灯文字\n",
    "import os\n",
    "import time\n",
    "content = '北京欢迎你为你开天辟地......'\n",
    "while True:\n",
    "    os.system('cls')\n",
    "    print(content)\n",
    "    time.sleep(0.2)\n",
    "    content = content[1:] + content[0]"
   ]
  },
  {
   "cell_type": "code",
   "execution_count": 29,
   "metadata": {},
   "outputs": [
    {
     "name": "stdout",
     "output_type": "stream",
     "text": [
      "tAQ1\n"
     ]
    }
   ],
   "source": [
    "# 设计一个函数产生指定长度的验证码，验证码大小由大小写字母和数字构成\n",
    "import random\n",
    "import string\n",
    "\n",
    "def generate_code(code_len=4):\n",
    "    \"\"\"\n",
    "    生成指定长度的验证码\n",
    "    \n",
    "    : param code_len: 验证码的长度(默认4个字符)\n",
    "    : return: 由大小写英文字母和数字构成的随机验证码\n",
    "    \"\"\"\n",
    "    all_chars = string.ascii_letters + string.digits\n",
    "    code = ''\n",
    "    for _ in range(code_len):\n",
    "        code  += random.choice(all_chars)\n",
    "    return code\n",
    "\n",
    "print(generate_code())\n",
    "        \n",
    "    "
   ]
  },
  {
   "cell_type": "code",
   "execution_count": 30,
   "metadata": {
    "collapsed": true
   },
   "outputs": [],
   "source": [
    "# 设计一个函数返回给定文件名的后缀名\n",
    "\n",
    "def get_suffix(filename, has_dot=False):\n",
    "    \"\"\"\n",
    "    获取文件名的后缀名\n",
    "    \n",
    "    ：param filename：文件名\n",
    "    ：param has_dot：返回的后缀名是否需要带点\n",
    "    ：return：文件的后缀名\n",
    "    \"\"\"\n",
    "    pos = filename.rfind('.')\n",
    "    if 0 < pos < len(filename) - 1:\n",
    "        index = pos if has_dot else pos + 1\n",
    "        return filename[index:]\n",
    "    else:\n",
    "        return ''"
   ]
  },
  {
   "cell_type": "code",
   "execution_count": 32,
   "metadata": {
    "collapsed": true
   },
   "outputs": [],
   "source": [
    "# 设计一个函数返回传入的列表中最大和第二大的元素值\n",
    "def max2(x):\n",
    "    m1,m2 = (x[0], x[1]) if x[x] > x[1] else (x[1],x[0])\n",
    "    for index in range(2, len(x)):\n",
    "        if x[index] > m1:\n",
    "            m2 = m1\n",
    "            m1 = x[index]\n",
    "        elif x[index] > m2:\n",
    "            m2 = x[index]\n",
    "        return m1,m2"
   ]
  },
  {
   "cell_type": "code",
   "execution_count": 34,
   "metadata": {
    "collapsed": true
   },
   "outputs": [],
   "source": [
    "# 计算指定的年月日是这一年的第几天\n",
    "def is_leap_year(year):\n",
    "    \"\"\"\n",
    "    判断指定的年份是否是闰年\n",
    "    \n",
    "    ：param year：年份\n",
    "    ：return：闰年返回True平年返回False\n",
    "    \"\"\"\n",
    "    return year % 4 == 0 and  year % 100 != 0 or year % 400 == 0\n",
    "\n",
    "def which_day(year, month, date):\n",
    "    \"\"\"\n",
    "    计算传入的日期是这一年的第几天\n",
    "    ：param year：年\n",
    "    ：param month：月\n",
    "    ：param date：日\n",
    "    ：return： 第几天\n",
    "    \"\"\"\n",
    "    days_of_month = [\n",
    "        [31,28,31,30,31,30,31,31,30,31,30,31],\n",
    "        [31,29,31,30,31,30,31,31,30,31,30,31]\n",
    "    ][is_leap_year(year)]\n",
    "    total = 0\n",
    "    for index in range(month - 1):\n",
    "        total += days_of_month[index]\n",
    "    return total + date"
   ]
  },
  {
   "cell_type": "code",
   "execution_count": 35,
   "metadata": {},
   "outputs": [
    {
     "name": "stdout",
     "output_type": "stream",
     "text": [
      "Number of rows5\n",
      "1\t\n",
      "1\t1\t\n",
      "1\t2\t1\t\n",
      "1\t3\t3\t1\t\n",
      "1\t4\t6\t4\t1\t\n"
     ]
    }
   ],
   "source": [
    "# 打印杨辉三角\n",
    "num = int(input('Number of rows'))\n",
    "yh = [[]] * num\n",
    "for row in range(len(yh)):\n",
    "    yh[row] = [None] * (row+1)\n",
    "    for col in range(len(yh[row])):\n",
    "        if col == 0 or col == row:\n",
    "            yh[row][col] = 1\n",
    "        else:\n",
    "            yh[row][col] = yh[row-1][col] + yh[row-1][col-1]\n",
    "        print(yh[row][col], end='\\t')\n",
    "    print()"
   ]
  },
  {
   "cell_type": "code",
   "execution_count": 2,
   "metadata": {
    "scrolled": true
   },
   "outputs": [
    {
     "name": "stdout",
     "output_type": "stream",
     "text": [
      "Number of rows5\n",
      "[1]\n",
      "[1, 1]\n",
      "[1, 2, 1]\n",
      "[1, 3, 3, 1]\n",
      "[1, 4, 6, 4, 1]\n"
     ]
    }
   ],
   "source": [
    "num = int(input('Number of rows'))\n",
    "def triangles():\n",
    "    row = [1]\n",
    "    while True:\n",
    "        yield row\n",
    "        row = [x + y for x,y in zip([0]+row, row+[0])]\n",
    "    return\n",
    "for row in triangles():\n",
    "    print(row)\n",
    "    num -= 1\n",
    "    if num == 0:\n",
    "        break"
   ]
  },
  {
   "cell_type": "code",
   "execution_count": 19,
   "metadata": {},
   "outputs": [
    {
     "name": "stdout",
     "output_type": "stream",
     "text": [
      "机选几注5\n",
      "12 17 18 22 28 30 | 16 \n",
      "08 15 20 21 26 33 | 11 \n",
      "05 06 15 21 22 23 | 15 \n",
      "02 15 21 25 28 32 | 03 \n",
      "11 12 14 28 29 30 | 08 \n"
     ]
    }
   ],
   "source": [
    "from random import randrange, randint, sample\n",
    "\n",
    "def display(balls):\n",
    "    \"\"\"\n",
    "    输出列表中的双色球号码\n",
    "    \"\"\"\n",
    "    for index, ball in enumerate(balls):\n",
    "        if index == len(balls) - 1:\n",
    "            print('|', end=' ')\n",
    "        print('%02d' % ball, end=' ')\n",
    "    print()\n",
    "    \n",
    "def random_select():\n",
    "    \"\"\"\n",
    "    随机选择一组号码\n",
    "    \"\"\"\n",
    "    red_balls = [x for x in range(1, 34)]\n",
    "    selected_balls = []\n",
    "    selected_balls = sample(red_balls, 6)\n",
    "    selected_balls.sort()\n",
    "    selected_balls.append(randint(1,16))\n",
    "    return selected_balls\n",
    "\n",
    "n = int(input('机选几注'))\n",
    "for _ in range(n):\n",
    "    display(random_select())"
   ]
  },
  {
   "cell_type": "code",
   "execution_count": 21,
   "metadata": {},
   "outputs": [
    {
     "name": "stdout",
     "output_type": "stream",
     "text": [
      "基 基 基 基 非 非 非 非 非 基 基 非 基 基 基 非 基 非 非 基 基 非 非 非 基 非 非 基 基 非 "
     ]
    }
   ],
   "source": [
    "\"\"\"\n",
    " 约瑟夫环问题\n",
    "《幸运的基督徒》\n",
    " 有15个基督徒和15个非基督徒在海上遇险，\n",
    " 为了能让一部分人活下来不得不将其中15个人扔到海里面去，\n",
    " 有人想了个办法就是大家围成一个圈，\n",
    " 由某个人开始从1报数，报到9的人就扔到海里面，\n",
    " 他后面的人接着从1开始报数，报到9的人继续扔到海里面，\n",
    " 直到扔掉15个人。\n",
    " 由于上帝保佑，15个基督徒都幸免于难，\n",
    " 问这些人最开始是怎么站的，哪些位置是基督徒哪些位置是非基督徒。\n",
    " \"\"\"\n",
    "\n",
    "persons = [True] * 30\n",
    "counter, index, number = 0, 0, 0\n",
    "while counter < 15:\n",
    "    if persons[index]:\n",
    "        number += 1\n",
    "        if number == 9:\n",
    "            persons[index] = False\n",
    "            counter += 1\n",
    "            number = 0\n",
    "    index += 1\n",
    "    index %= 30\n",
    "for person in persons:\n",
    "    print(\"基\" if person else \"非\", end=' ')"
   ]
  },
  {
   "cell_type": "code",
   "execution_count": 27,
   "metadata": {},
   "outputs": [
    {
     "name": "stdout",
     "output_type": "stream",
     "text": [
      " | | \n",
      "-+-+-\n",
      " | | \n",
      "-+-+-\n",
      " | | \n",
      "轮到x走棋， 请输入位置： TM\n",
      " |x| \n",
      "-+-+-\n",
      " | | \n",
      "-+-+-\n",
      " | | \n",
      "轮到o走棋， 请输入位置： BL\n",
      " |x| \n",
      "-+-+-\n",
      " | | \n",
      "-+-+-\n",
      "o| | \n",
      "轮到x走棋， 请输入位置： MM\n",
      " |x| \n",
      "-+-+-\n",
      " |x| \n",
      "-+-+-\n",
      "o| | \n",
      "轮到o走棋， 请输入位置： LM\n"
     ]
    },
    {
     "ename": "KeyError",
     "evalue": "'LM'",
     "output_type": "error",
     "traceback": [
      "\u001b[1;31m---------------------------------------------------------------------------\u001b[0m",
      "\u001b[1;31mKeyError\u001b[0m                                  Traceback (most recent call last)",
      "\u001b[1;32m<ipython-input-27-54fec5efd23b>\u001b[0m in \u001b[0;36m<module>\u001b[1;34m()\u001b[0m\n\u001b[0;32m     24\u001b[0m     \u001b[1;32mwhile\u001b[0m \u001b[0mcounter\u001b[0m \u001b[1;33m<\u001b[0m \u001b[1;36m9\u001b[0m\u001b[1;33m:\u001b[0m\u001b[1;33m\u001b[0m\u001b[0m\n\u001b[0;32m     25\u001b[0m         \u001b[0mmove\u001b[0m \u001b[1;33m=\u001b[0m \u001b[0minput\u001b[0m\u001b[1;33m(\u001b[0m\u001b[1;34m'轮到%s走棋， 请输入位置： '\u001b[0m \u001b[1;33m%\u001b[0m \u001b[0mturn\u001b[0m\u001b[1;33m)\u001b[0m\u001b[1;33m\u001b[0m\u001b[0m\n\u001b[1;32m---> 26\u001b[1;33m         \u001b[1;32mif\u001b[0m \u001b[0mcurr_board\u001b[0m\u001b[1;33m[\u001b[0m\u001b[0mmove\u001b[0m\u001b[1;33m]\u001b[0m \u001b[1;33m==\u001b[0m \u001b[1;34m' '\u001b[0m\u001b[1;33m:\u001b[0m\u001b[1;33m\u001b[0m\u001b[0m\n\u001b[0m\u001b[0;32m     27\u001b[0m             \u001b[0mcounter\u001b[0m \u001b[1;33m+=\u001b[0m \u001b[1;36m1\u001b[0m\u001b[1;33m\u001b[0m\u001b[0m\n\u001b[0;32m     28\u001b[0m             \u001b[0mcurr_board\u001b[0m\u001b[1;33m[\u001b[0m\u001b[0mmove\u001b[0m\u001b[1;33m]\u001b[0m \u001b[1;33m=\u001b[0m \u001b[0mturn\u001b[0m\u001b[1;33m\u001b[0m\u001b[0m\n",
      "\u001b[1;31mKeyError\u001b[0m: 'LM'"
     ]
    }
   ],
   "source": [
    "# 井字棋游戏\n",
    "import os\n",
    "\n",
    "def print_board(board):\n",
    "    print(board['TL'] + '|' + board['TM'] + '|' +  board['TR'])\n",
    "    print('-+-+-')\n",
    "    print(board['ML'] + '|' + board['MM'] + '|' +  board['MR'])\n",
    "    print('-+-+-')\n",
    "    print(board['BL'] + '|' + board['BM'] + '|' +  board['BR'])\n",
    "    \n",
    "init_board = {\n",
    "    'TL': ' ', 'TM': ' ', 'TR': ' ',\n",
    "    'ML': ' ', 'MM': ' ', 'MR': ' ',\n",
    "    'BL': ' ', 'BM': ' ', 'BR': ' ',\n",
    "}\n",
    "begin = True\n",
    "while begin:\n",
    "    curr_board = init_board.copy()\n",
    "    begin = False\n",
    "    turn = 'x'\n",
    "    counter = 0\n",
    "    os.system('clear')\n",
    "    print_board(curr_board)\n",
    "    while counter < 9:\n",
    "        move = input('轮到%s走棋， 请输入位置： ' % turn)\n",
    "        if curr_board[move] == ' ':\n",
    "            counter += 1\n",
    "            curr_board[move] = turn\n",
    "            if turn == 'x':\n",
    "                turn = 'o'\n",
    "            else:\n",
    "                turn = 'x'\n",
    "        os.system('clear')\n",
    "        print_board(curr_board)\n",
    "    choice = input('再玩一局？(yes|no)')\n",
    "    begin = choice == 'yes'\n",
    "\n",
    "kimport string\n",
    "string.ascii_letters+string.digits"
   ]
  }
 ],
 "metadata": {
  "kernelspec": {
   "display_name": "Python 3",
   "language": "python",
   "name": "python3"
  },
  "language_info": {
   "codemirror_mode": {
    "name": "ipython",
    "version": 3
   },
   "file_extension": ".py",
   "mimetype": "text/x-python",
   "name": "python",
   "nbconvert_exporter": "python",
   "pygments_lexer": "ipython3",
   "version": "3.6.1"
  }
 },
 "nbformat": 4,
 "nbformat_minor": 2
}

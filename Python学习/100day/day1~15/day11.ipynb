{
 "cells": [
  {
   "cell_type": "code",
   "execution_count": 5,
   "metadata": {
    "scrolled": true
   },
   "outputs": [
    {
     "name": "stdout",
     "output_type": "stream",
     "text": [
      "{\n",
      " \"cells\": [\n",
      "  {\n",
      "   \"cell_type\": \"markdown\",\n",
      "   \"metadata\": {},\n",
      "   \"source\": [\n",
      "    \"基本上使用tkinter来开发GUI应用需要一下5个步骤：  \\n\",\n",
      "    \"1.\n"
     ]
    }
   ],
   "source": [
    "f = None\n",
    "try:\n",
    "    f = open('day10.ipynb', 'r', encoding='utf-8')\n",
    "    print(f.read(128))\n",
    "except FileNotFoundError:\n",
    "    print('无法打开指定的文件')\n",
    "except LookupError:\n",
    "    print('指定了未知的编码')\n",
    "except UnicodeDecodeError:\n",
    "    print('读取文件时解码错误')\n",
    "finally:\n",
    "    if f:\n",
    "        f.close()"
   ]
  },
  {
   "cell_type": "code",
   "execution_count": 6,
   "metadata": {},
   "outputs": [
    {
     "name": "stdout",
     "output_type": "stream",
     "text": [
      "操作完成\n"
     ]
    }
   ],
   "source": [
    "from math import sqrt\n",
    "\n",
    "def is_prime(n):\n",
    "    \"\"\"判断素数的函数\"\"\"\n",
    "    assert n > 0\n",
    "    for factor in range(2, int(sqrt(n)) + 1):\n",
    "        if n % factor == 0:\n",
    "            return False\n",
    "    return True if n != 1 else False\n",
    "\n",
    "filenames = ('day11a.txt', 'day11b.txt', 'day11c.txt')\n",
    "fs_list = []\n",
    "try:\n",
    "    for filename in filenames:\n",
    "        fs_list.append(open(filename, 'w', encoding='utf-8'))\n",
    "    for number in range(1, 10000):\n",
    "        if is_prime(number):\n",
    "            if number < 100:\n",
    "                fs_list[0].write(str(number) + '\\n')\n",
    "            elif number < 1000:\n",
    "                fs_list[1].write(str(number) + '\\n')\n",
    "            else:\n",
    "                fs_list[2].write(str(number) + '\\n')\n",
    "except IOError as ex:\n",
    "    print(ex)\n",
    "    print('写入文件时发生错误')\n",
    "finally:\n",
    "    for fs in fs_list:\n",
    "        fs.close()\n",
    "print('操作完成')"
   ]
  },
  {
   "cell_type": "code",
   "execution_count": 7,
   "metadata": {},
   "outputs": [
    {
     "name": "stdout",
     "output_type": "stream",
     "text": [
      "保存数据完成！\n"
     ]
    }
   ],
   "source": [
    "import json\n",
    "\n",
    "mydict = {\n",
    "    'name' : '张三',\n",
    "    'age' : '24',\n",
    "    'qq' : '21340923',\n",
    "    'friends' : ['李四', '王麻子'],\n",
    "    'cars' : [\n",
    "        {'brand': 'BYD', 'max_speed': 180},\n",
    "        {'brand': 'Audi', 'max_speed': 280},\n",
    "        {'brand': 'Benz', 'max_speed': 320}\n",
    "    ]\n",
    "}\n",
    "\n",
    "try:\n",
    "    with open('day11data.json', 'w', encoding='utf-8') as fs:\n",
    "        json.dump(mydict, fs)\n",
    "except IOError as e:\n",
    "    print(e)\n",
    "print('保存数据完成！')"
   ]
  },
  {
   "cell_type": "markdown",
   "metadata": {},
   "source": [
    "json模块主要有四个比较重要的函数，分别是：\n",
    "- dump -将Python对象按照JSON格式序列化到文件中\n",
    "- dumps -将Python对象处理成JSON格式的字符串\n",
    "- load -将文件中的JSON数据反序列化成对象\n",
    "- loads -将字符串中的内容反序列化成Python对象"
   ]
  },
  {
   "cell_type": "code",
   "execution_count": null,
   "metadata": {
    "collapsed": true
   },
   "outputs": [],
   "source": []
  }
 ],
 "metadata": {
  "kernelspec": {
   "display_name": "Python 3",
   "language": "python",
   "name": "python3"
  },
  "language_info": {
   "codemirror_mode": {
    "name": "ipython",
    "version": 3
   },
   "file_extension": ".py",
   "mimetype": "text/x-python",
   "name": "python",
   "nbconvert_exporter": "python",
   "pygments_lexer": "ipython3",
   "version": "3.6.1"
  }
 },
 "nbformat": 4,
 "nbformat_minor": 2
}

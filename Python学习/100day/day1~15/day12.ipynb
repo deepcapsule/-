{
 "cells": [
  {
   "cell_type": "markdown",
   "metadata": {},
   "source": [
    "- (?#) 注释\n",
    "- (exp) 匹配exp并捕获到自动命名的组中\n",
    "- (?< name >exp) 匹配exp并捕获到名为name的组中\n",
    "- (?:exp) 匹配exp但是不捕获匹配的文本 \n",
    "- (?=exp) 匹配exp前面的位置 \\b\\w+(?=ing) 可以匹配I'm dancing中的danc\n",
    "- (?<=exp) 匹配exp后面的位置\n",
    "- (?!exp) 匹配后面不是exp的位置\n",
    "- (?<!exp) 匹配前面不是exp的位置"
   ]
  },
  {
   "cell_type": "code",
   "execution_count": 3,
   "metadata": {},
   "outputs": [
    {
     "name": "stdout",
     "output_type": "stream",
     "text": [
      "请输入用户名：wang234234\n",
      "请输入qq号:144354352\n",
      "你输入的信息有效\n"
     ]
    }
   ],
   "source": [
    "\"\"\"\n",
    "验证输入用户名和qq号是否有效并给出对应的提示信息\n",
    "要求： 用户名必须有字母、数字或下划线构成且长度在6~20个字符之间， qq号是5~12的数字且首位不能为0\n",
    "\"\"\"\n",
    "import re\n",
    "\n",
    "username = input('请输入用户名：')\n",
    "qq = input('请输入qq号:')\n",
    "m1 = re.match(r'^[0-9a-zA-Z_]{6,20}$', username)\n",
    "if not m1:\n",
    "    print('请输入有效的用户名')\n",
    "m2 = re.match(r'^[1-9]\\d{4,11}$', qq)\n",
    "if not m2:\n",
    "    print('请输入有效的qq号')\n",
    "if m1 and m2:\n",
    "    print('你输入的信息有效')"
   ]
  },
  {
   "cell_type": "code",
   "execution_count": 9,
   "metadata": {},
   "outputs": [
    {
     "name": "stdout",
     "output_type": "stream",
     "text": [
      "['13512345679', '15698765432', '15698765432']\n",
      "-----------华丽的分割线-----------\n",
      "13512345679\n",
      "15698765432\n",
      "15698765432\n",
      "-----------华丽的分割线-----------\n",
      "13512345679\n",
      "15698765432\n",
      "15698765432\n"
     ]
    }
   ],
   "source": [
    "import re\n",
    "\n",
    "pattern = re.compile(r'(?<=\\D)1[34578]\\d{9}(?=\\D)')\n",
    "sentence = '''\n",
    "重要的事情说8130123456789遍，我的手机号是13512345679这个靓号，\n",
    "不是15698765432也不是110或119，张三的是几号才是15698765432。\n",
    "'''\n",
    "mylist = re.findall(pattern, sentence)\n",
    "print(mylist)\n",
    "print('-----------华丽的分割线-----------')\n",
    "for temp in pattern.finditer(sentence):\n",
    "    print(temp.group())\n",
    "print('-----------华丽的分割线-----------')\n",
    "m = pattern.search(sentence)\n",
    "while m:\n",
    "    print(m.group())\n",
    "    m = pattern.search(sentence, m.end())"
   ]
  },
  {
   "cell_type": "code",
   "execution_count": 10,
   "metadata": {},
   "outputs": [
    {
     "name": "stdout",
     "output_type": "stream",
     "text": [
      "你丫是*吗？我*你大爷的。* you。\n"
     ]
    }
   ],
   "source": [
    "# 替换字符串中的不良内容\n",
    "import re\n",
    "\n",
    "sentence = \"你丫是傻叉吗？我操你大爷的。Fuck you。\"\n",
    "purified = re.sub('[操肏艹]|fuck|shit|傻[比逼屄叉缺吊屌]|煞笔', '*',\n",
    "                 sentence, flags=re.I)\n",
    "print(purified)"
   ]
  },
  {
   "cell_type": "code",
   "execution_count": 12,
   "metadata": {},
   "outputs": [
    {
     "name": "stdout",
     "output_type": "stream",
     "text": [
      "['窗前明月光', '疑是地上霜', '举头望明月', '低头思故乡', '']\n",
      "['窗前明月光', '疑是地上霜', '举头望明月', '低头思故乡']\n"
     ]
    }
   ],
   "source": [
    "# 拆分长字符串\n",
    "import re\n",
    "\n",
    "poem = '窗前明月光，疑是地上霜，举头望明月，低头思故乡。'\n",
    "sentence_list = re.split(r'[，。,.]', poem)\n",
    "print(sentence_list)\n",
    "while '' in sentence_list:\n",
    "    sentence_list.remove('')\n",
    "print(sentence_list)"
   ]
  },
  {
   "cell_type": "code",
   "execution_count": null,
   "metadata": {
    "collapsed": true
   },
   "outputs": [],
   "source": []
  }
 ],
 "metadata": {
  "kernelspec": {
   "display_name": "Python 3",
   "language": "python",
   "name": "python3"
  },
  "language_info": {
   "codemirror_mode": {
    "name": "ipython",
    "version": 3
   },
   "file_extension": ".py",
   "mimetype": "text/x-python",
   "name": "python",
   "nbconvert_exporter": "python",
   "pygments_lexer": "ipython3",
   "version": "3.6.1"
  }
 },
 "nbformat": 4,
 "nbformat_minor": 2
}

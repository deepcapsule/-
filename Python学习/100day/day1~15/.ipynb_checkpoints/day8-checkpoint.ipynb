{
 "cells": [
  {
   "cell_type": "code",
   "execution_count": 1,
   "metadata": {
    "collapsed": true
   },
   "outputs": [],
   "source": [
    "class Student(object):\n",
    "    \n",
    "    def __init__(self, name, age):\n",
    "        self.name = name\n",
    "        self.age = age\n",
    "        \n",
    "    def study(self, course_name):\n",
    "        print('%s正在学习%s.' % (self.name, course_name))\n",
    "        \n",
    "    def watch_tv(self):\n",
    "        if self.age < 18:\n",
    "            print(\"%s只能观看《熊出没》。\" % self.name)\n",
    "        else:\n",
    "            print(\"%s正在观看《封神演义》。\" % self.name)"
   ]
  },
  {
   "cell_type": "code",
   "execution_count": 2,
   "metadata": {},
   "outputs": [
    {
     "name": "stdout",
     "output_type": "stream",
     "text": [
      "罗浩正在学习Python程序设计.\n",
      "罗浩正在观看《封神演义》。\n",
      "王大锤正在学习思想品德.\n",
      "王大锤只能观看《熊出没》。\n"
     ]
    }
   ],
   "source": [
    "stu1 = Student('罗浩', 24)\n",
    "stu1.study('Python程序设计')\n",
    "stu1.watch_tv()\n",
    "\n",
    "stu2 = Student('王大锤', 15)\n",
    "stu2.study('思想品德')\n",
    "stu2.watch_tv()\n"
   ]
  },
  {
   "cell_type": "code",
   "execution_count": 3,
   "metadata": {},
   "outputs": [
    {
     "name": "stdout",
     "output_type": "stream",
     "text": [
      "wang\n",
      "18\n"
     ]
    }
   ],
   "source": [
    "class Test():\n",
    "\n",
    "    def __init__(self, name, age):\n",
    "        self._name = name\n",
    "        self.__age = age\n",
    "        \n",
    "test = Test(\"wang\", 18)\n",
    "\n",
    "\n",
    "print(test._name)\n",
    "print(test._Test__age)\n",
    "\n"
   ]
  },
  {
   "cell_type": "code",
   "execution_count": 4,
   "metadata": {},
   "outputs": [],
   "source": [
    "\n",
    "class Clock(object):\n",
    "    \"\"\"数字时钟\"\"\"\n",
    "    \n",
    "    def __init__(self, hour=0, minite=0, second=0):\n",
    "        \"\"\"初始化方法\n",
    "        \n",
    "        :param hour: 时\n",
    "        :param minite: 分\n",
    "        :param second: 秒\n",
    "        \"\"\"\n",
    "        self._hour = hour\n",
    "        self._minite = minite\n",
    "        self._second = second\n",
    "        \n",
    "    def run(self):\n",
    "        \"\"\"走字\"\"\"\n",
    "        self._second += 1\n",
    "        if self._second == 60:\n",
    "            self._second = 0\n",
    "            self._minite += 1\n",
    "            if self._minite == 60:\n",
    "                self._minite = 0\n",
    "                self._hour += 1\n",
    "                if self._hour == 24:\n",
    "                    self._hour = 0\n",
    "                    \n",
    "    def show(self):\n",
    "        \"\"\"显示时间\"\"\"\n",
    "        return \"%02d:%02d:%02d\" % (self._hour, self._minite, self._second)\n",
    "    \n",
    "clock = Clock(2, 4, 5)\n",
    "while True:\n",
    "    print(clock.show())\n",
    "    sleep(1)\n",
    "    clock.run()"
   ]
  },
  {
   "cell_type": "code",
   "execution_count": 5,
   "metadata": {},
   "outputs": [
    {
     "name": "stdout",
     "output_type": "stream",
     "text": [
      "(3, 5)\n",
      "(0, 0)\n",
      "(-1, 2)\n",
      "5.0\n"
     ]
    }
   ],
   "source": [
    "from math import sqrt\n",
    "\n",
    "class Point():\n",
    "    def __init__(self, x=0, y=0):\n",
    "        \"\"\"初始化方法\n",
    "\n",
    "        ：param x：横坐标\n",
    "        ：param y：纵坐标\n",
    "        \"\"\"\n",
    "        self.x = x\n",
    "        self.y = y\n",
    "    \n",
    "    def move_to(self, x, y):\n",
    "        \"\"\"\n",
    "        移动到指定位置\n",
    "        \n",
    "        ：param x：新的横坐标\n",
    "        ：param y：新的纵坐标\n",
    "        \"\"\"\n",
    "        self.x = x\n",
    "        self.y = y\n",
    "        \n",
    "    def move_by(self, dx, dy):\n",
    "        \"\"\"移动指定的增量\n",
    "        \n",
    "        ：param x：横坐标的增量\n",
    "        ：param y：纵坐标的增量\n",
    "        \"\"\"\n",
    "        self.x += dx\n",
    "        self.y += dy\n",
    "        \n",
    "    def distance_to(self, other):\n",
    "        \"\"\"\n",
    "        计算与另一个点的距离\n",
    "        \n",
    "        :param other: 另一个点\n",
    "        \"\"\"\n",
    "        dx = self.x - other.x\n",
    "        dy = self.y - other.y\n",
    "        return sqrt(dx ** 2 + dy ** 2)\n",
    "    \n",
    "    def __str__(self):\n",
    "        return '(%s, %s)' % (str(self.x), str(self.y))\n",
    "    \n",
    "\n",
    "p1 = Point(3, 5)\n",
    "p2 = Point()\n",
    "print(p1)\n",
    "print(p2)\n",
    "\n",
    "p2.move_by(-1, 2)\n",
    "print(p2)\n",
    "print(p1.distance_to(p2))"
   ]
  }
 ],
 "metadata": {
  "kernelspec": {
   "display_name": "Python 3",
   "language": "python",
   "name": "python3"
  },
  "language_info": {
   "codemirror_mode": {
    "name": "ipython",
    "version": 3
   },
   "file_extension": ".py",
   "mimetype": "text/x-python",
   "name": "python",
   "nbconvert_exporter": "python",
   "pygments_lexer": "ipython3",
   "version": "3.6.1"
  }
 },
 "nbformat": 4,
 "nbformat_minor": 2
}

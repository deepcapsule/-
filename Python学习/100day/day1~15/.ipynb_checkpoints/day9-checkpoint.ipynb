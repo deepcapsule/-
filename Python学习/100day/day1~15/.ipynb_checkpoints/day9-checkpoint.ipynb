{
 "cells": [
  {
   "cell_type": "markdown",
   "metadata": {},
   "source": [
    "## 面向对象进阶"
   ]
  },
  {
   "cell_type": "markdown",
   "metadata": {},
   "source": [
    "我们创建类实例后，可以给该实例绑定任何属性和方法，这是动态语言的特性。"
   ]
  },
  {
   "cell_type": "code",
   "execution_count": 4,
   "metadata": {},
   "outputs": [
    {
     "name": "stdout",
     "output_type": "stream",
     "text": [
      "Mich\n",
      "25\n"
     ]
    }
   ],
   "source": [
    "class Student(object):\n",
    "    pass\n",
    "\n",
    "stu = Student()\n",
    "\n",
    "# 绑定属性\n",
    "stu.name = \"Mich\"\n",
    "print(stu.name)\n",
    "\n",
    "# 绑定方法\n",
    "from types import MethodType\n",
    "def set_age(self, age):\n",
    "    self.age = age\n",
    "stu.set_age = MethodType(set_age, stu)\n",
    "stu.set_age(25)\n",
    "print(stu.age)"
   ]
  },
  {
   "cell_type": "markdown",
   "metadata": {},
   "source": [
    "但是，给一个实例绑定的属性或方法，对其他实例（包括该类的其他实例）是不起作用的。  \n",
    "因此，我们可以给类绑定属性或方法，使对所有实例都有效。"
   ]
  },
  {
   "cell_type": "code",
   "execution_count": 7,
   "metadata": {},
   "outputs": [
    {
     "name": "stdout",
     "output_type": "stream",
     "text": [
      "100 100\n"
     ]
    }
   ],
   "source": [
    "def set_score(self, score):\n",
    "    self.score = score\n",
    "Student.set_score = MethodType(set_score, Student)\n",
    "\n",
    "stu.set_score(90)\n",
    "stu2 = Student()\n",
    "stu2.set_score(100)\n",
    "print(stu.score, stu2.score)"
   ]
  },
  {
   "cell_type": "markdown",
   "metadata": {},
   "source": [
    "由上面程序可以看出，给类绑定的属性，属于类变量，即所有类实例共享这一个变量（属性）。  "
   ]
  },
  {
   "cell_type": "markdown",
   "metadata": {},
   "source": [
    "Python允许在定义类的时候，定义一个特殊的__slots__变量，来限制该类实例能添加的属性。"
   ]
  },
  {
   "cell_type": "code",
   "execution_count": 9,
   "metadata": {},
   "outputs": [
    {
     "name": "stdout",
     "output_type": "stream",
     "text": [
      "wang 18\n"
     ]
    }
   ],
   "source": [
    "class Student(object):\n",
    "    __slots__ = ('name', 'age', 'set_age')\n",
    "    \n",
    "student = Student()\n",
    "student.name = 'wang'\n",
    "def set_age(self, age):\n",
    "    self.age = age\n",
    "from types import MethodType\n",
    "student.set_age = MethodType(set_age, student)\n",
    "student.set_age(18)\n",
    "print(student.name, student.age)"
   ]
  },
  {
   "cell_type": "markdown",
   "metadata": {},
   "source": [
    "使用__slots__定义的属性仅对当前类实例生效，对继承的子类是不起作用。  \n",
    "除非在子类中也定义__slots__，这样，子类实例允许定义的属性就是自身的__slots__加上父类的__slots__.\n"
   ]
  },
  {
   "cell_type": "code",
   "execution_count": 10,
   "metadata": {},
   "outputs": [
    {
     "name": "stdout",
     "output_type": "stream",
     "text": [
      "hale male\n"
     ]
    }
   ],
   "source": [
    "class SubStu(Student):\n",
    "    __slots__ = 'sex'\n",
    "\n",
    "substu = SubStu()\n",
    "substu.sex = 'male'\n",
    "substu.name = 'hale'\n",
    "print(substu.name, substu.sex)"
   ]
  },
  {
   "cell_type": "markdown",
   "metadata": {},
   "source": [
    "Python内置的@property装饰器负责把一个方法变成属性。  \n",
    "如下@property把方法age()变成属性age。  \n",
    "此时，@property本身又创建了另一个装饰器@age.setter。"
   ]
  },
  {
   "cell_type": "code",
   "execution_count": 12,
   "metadata": {},
   "outputs": [
    {
     "name": "stdout",
     "output_type": "stream",
     "text": [
      "张三正在玩飞行棋.\n",
      "张三正在玩斗地主.\n"
     ]
    }
   ],
   "source": [
    "class Person(object):\n",
    "    \n",
    "    def __init__(self, name, age):\n",
    "        self._name = name\n",
    "        self._age = age\n",
    "        \n",
    "    # 访问器 -getter方法\n",
    "    @property \n",
    "    def name(self):\n",
    "        return self._name\n",
    "    \n",
    "    # 访问器 -getter方法\n",
    "    @property \n",
    "    def age(self):\n",
    "        return self._age\n",
    "    \n",
    "    # 修改器 -setter方法\n",
    "    @age.setter\n",
    "    def age(self, age):\n",
    "        self._age = age\n",
    "    \n",
    "    def play(self):\n",
    "        if self._age <= 16:\n",
    "            print('%s正在玩飞行棋.' % self._name)\n",
    "        else:\n",
    "            print('%s正在玩斗地主.' % self._name)\n",
    "            \n",
    "person = Person('张三', 15)\n",
    "person.play()\n",
    "person.age = 20\n",
    "person.play()"
   ]
  },
  {
   "cell_type": "markdown",
   "metadata": {},
   "source": [
    "静态方法  \n",
    "这个方法不属于类实例而属于类，无需创建对象而直接使用类调用。"
   ]
  },
  {
   "cell_type": "code",
   "execution_count": 13,
   "metadata": {},
   "outputs": [
    {
     "name": "stdout",
     "output_type": "stream",
     "text": [
      "12\n",
      "6.0\n"
     ]
    }
   ],
   "source": [
    "from math import sqrt\n",
    "\n",
    "\n",
    "class Triangle(object):\n",
    "    \n",
    "    def __init__(self, a, b, c):\n",
    "        self._a = a\n",
    "        self._b = b\n",
    "        self._c = c\n",
    "        \n",
    "    @staticmethod\n",
    "    def is_valid(a, b, c):\n",
    "        return a + b > c and b + c > a and a + c > b\n",
    "    \n",
    "    def perimeter(self):\n",
    "        return self._a + self._b + self._c\n",
    "    \n",
    "    def area(self):\n",
    "        p = self.perimeter() / 2\n",
    "        return sqrt(p * (p - self._a) * (p - self._b) \\\n",
    "                   * (p - self._c))\n",
    "    \n",
    "\n",
    "a, b, c = 3, 4, 5\n",
    "if Triangle.is_valid(a, b, c):\n",
    "    t = Triangle(a, b, c)\n",
    "    print(t.perimeter())\n",
    "    print(t.area())\n",
    "else:\n",
    "    print('无法构成三角形')\n"
   ]
  },
  {
   "cell_type": "markdown",
   "metadata": {},
   "source": [
    "Python中还可以定义类方法，类方法的第一个参数约定名为cls， \n",
    "它代表当前类相关信息的对象，通过这个参数我们可以获取和类相关的信息并可以创建出类的对象。"
   ]
  },
  {
   "cell_type": "code",
   "execution_count": 16,
   "metadata": {},
   "outputs": [
    {
     "name": "stdout",
     "output_type": "stream",
     "text": [
      "09:59:10\n"
     ]
    }
   ],
   "source": [
    "from time import time, localtime, sleep\n",
    "\n",
    "\n",
    "class Clock(object):\n",
    "    \"\"\"数字时钟\"\"\"\n",
    "    \n",
    "    def __init__(self, hour=0, minite=0, second=0):\n",
    "        \"\"\"初始化方法\n",
    "        \n",
    "        :param hour: 时\n",
    "        :param minite: 分\n",
    "        :param second: 秒\n",
    "        \"\"\"\n",
    "        self._hour = hour\n",
    "        self._minite = minite\n",
    "        self._second = second\n",
    "    \n",
    "    @classmethod\n",
    "    def now(cls):\n",
    "        ctime = localtime(time())\n",
    "        return cls(ctime.tm_hour, ctime.tm_min, ctime.tm_sec)\n",
    "        \n",
    "    def run(self):\n",
    "        \"\"\"走字\"\"\"\n",
    "        self._second += 1\n",
    "        if self._second == 60:\n",
    "            self._second = 0\n",
    "            self._minite += 1\n",
    "            if self._minite == 60:\n",
    "                self._minite = 0\n",
    "                self._hour += 1\n",
    "                if self._hour == 24:\n",
    "                    self._hour = 0\n",
    "                    \n",
    "    def show(self):\n",
    "        \"\"\"显示时间\"\"\"\n",
    "        return \"%02d:%02d:%02d\" % (self._hour, self._minite, self._second)\n",
    "    \n",
    "\n",
    "# 通过类方法创建类对象\n",
    "clock = Clock.now()\n",
    "print(clock.show())\n"
   ]
  },
  {
   "cell_type": "markdown",
   "metadata": {},
   "source": [
    "子类在继承了父类的方法后，可以对父类已有的方法给出新的实现版本，这个动作称之为方法重写(override)。  \n",
    "当我们调用子类重写的方法时，不同的子类对象表现出不同的行为，这个就是多态(poly-morphism)。 "
   ]
  },
  {
   "cell_type": "code",
   "execution_count": 17,
   "metadata": {},
   "outputs": [
    {
     "name": "stdout",
     "output_type": "stream",
     "text": [
      "旺财: 汪汪汪\n",
      "Kitty: 喵...喵...\n",
      "大黄: 汪汪汪\n"
     ]
    }
   ],
   "source": [
    "from abc import ABCMeta, abstractmethod\n",
    "\n",
    "\n",
    "class Pet(object, metaclass=ABCMeta):\n",
    "    \"\"\"宠物\"\"\"\n",
    "    \n",
    "    def __init__(self, nickname):\n",
    "        self._nickname = nickname\n",
    "        \n",
    "    @abstractmethod\n",
    "    def make_voice(self):\n",
    "        \"\"\"发出声音\"\"\"\n",
    "        pass\n",
    "    \n",
    "    \n",
    "class Dog(Pet):\n",
    "    \"\"\"狗\"\"\"\n",
    "    \n",
    "    def make_voice(self):\n",
    "        print('%s: 汪汪汪' % self._nickname)\n",
    "        \n",
    "        \n",
    "class Cat(Pet):\n",
    "    \"\"\"猫\"\"\"\n",
    "    \n",
    "    def make_voice(self):\n",
    "        print('%s: 喵...喵...' % self._nickname)\n",
    "        \n",
    "    \n",
    "pets = [Dog('旺财'), Cat('Kitty'), Dog('大黄')]\n",
    "for pet in pets:\n",
    "    pet.make_voice()"
   ]
  },
  {
   "cell_type": "markdown",
   "metadata": {},
   "source": [
    "奥特曼打小怪兽"
   ]
  },
  {
   "cell_type": "markdown",
   "metadata": {},
   "source": [
    "from abc import ABCMeta, abstractmethod\n",
    "from random import randint, randrange\n",
    "\n",
    "\n",
    "class Fighter(object, metaclass=ABCMeta):\n",
    "    \"\"\"战斗者\"\"\"\n",
    "    \n",
    "    __slots__ = ('_name','_hp')\n",
    "    \n",
    "    def __init__(self, name, hp):\n",
    "        \"\"\"初始化方法\n",
    "        \n",
    "        ：param name：名字\n",
    "        ：param hp： 生命值\n",
    "        \"\"\"\n",
    "        self._name = name\n",
    "        self._hp = hp\n",
    "        \n",
    "    @property\n",
    "    def name(self):\n",
    "        return self._name\n",
    "    \n",
    "    @property\n",
    "    def hp(self):\n",
    "        return self._hp\n",
    "    \n",
    "    @hp.setter\n",
    "    def hp(self, hp):\n",
    "        self._hp = hp if hp >= 0 else 0\n",
    "        \n",
    "    @property\n",
    "    def alive(self):\n",
    "        return (self._hp > 0)\n",
    "    \n",
    "    @abstractmethod\n",
    "    def attack(self, other):\n",
    "        \"\"\"攻击\n",
    "        \n",
    "        ：param other：被攻击对象\n",
    "        \"\"\"\n",
    "        pass\n",
    "    \n",
    "    \n",
    "class Ultraman(Fighter):\n",
    "    \"\"\"奥特曼\"\"\"\n",
    "    \n",
    "    __slots__ = ('_mp')\n",
    "    \n",
    "    def __init__(self, name, hp, mp):\n",
    "        \"\"\"初始化方法\n",
    "        \n",
    "        ：param name： 名字\n",
    "        ：param hp：   生命值\n",
    "        ：param mp:    魔法值\n",
    "        \"\"\"\n",
    "        super().__init__(name, hp)\n",
    "        self._mp = mp\n",
    "        \n",
    "    def attack(self, other):\n",
    "        other.hp -= randint(15, 25)\n",
    "        \n",
    "    def huge_attack(self, other):\n",
    "        \"\"\"究极必杀技（打掉对方至少50点或四分之三的血\n",
    "        \n",
    "        : param other：被攻击对象\n",
    "        ：return：使用成功返回True否则返回False\n",
    "        \"\"\"\n",
    "        if self._mp >= 50:\n",
    "            self._mp -= 50\n",
    "            injury = other.hp * 3 // 4\n",
    "            injury = injury if injury >= 50 else 50\n",
    "            other.hp -= injury\n",
    "            return True\n",
    "        else:\n",
    "            self.attack(other)\n",
    "            return False\n",
    "        \n",
    "    def magic_attack(self, others):\n",
    "        \"\"\"魔法攻击\n",
    "        \n",
    "        ：param others：被攻击的群体\n",
    "        ：return：使用魔法成功返回True否则返回Fasle\n",
    "        \"\"\"\n",
    "        if self._mp >= 20:\n",
    "            self._mp -= 20\n",
    "            for other in others:\n",
    "                if other.alive:\n",
    "                    other.hp -= randint(10, 15)\n",
    "            return True\n",
    "        else :\n",
    "            return False\n",
    "        \n",
    "    def resume(self):\n",
    "        \"\"\"恢复魔法值\"\"\"\n",
    "        incr_point = randint(1, 10)\n",
    "        self._mp += incr_point\n",
    "        return incr_point\n",
    "    \n",
    "    def __str__(self):\n",
    "        return '~~~%s奥特曼~~~\\n' % self._name + \\\n",
    "                '生命值：%d\\n' % self._hp + \\\n",
    "                '魔法值：%d\\n' % self._mp\n",
    "      \n",
    "    \n",
    "class Monster(Fighter):\n",
    "    \"\"\"小怪兽\"\"\"\n",
    "    __slots__ = ('_name', '_hp')\n",
    "    \n",
    "    def attack(self, other):\n",
    "        other.hp -= randint(10, 20)\n",
    "        \n",
    "    def __str__(self):\n",
    "        return '~~~%s小怪兽~~~\\n' % self._name + \\\n",
    "                '生命值：%d\\n' % self._hp\n",
    "        \n",
    "\n",
    "def is_any_alive(monsters):\n",
    "    \"\"\"判断有没有小怪兽时活着的\"\"\"\n",
    "    for monster in monsters:\n",
    "        if monster.alive > 0:\n",
    "            return True\n",
    "    return False\n",
    "\n",
    "def select_alive_one(monsters):\n",
    "    \"\"\"选中一只活着的怪兽\"\"\"\n",
    "    monsters_len = len(monsters)\n",
    "    while True:\n",
    "        index = randrange(monsters_len)\n",
    "        monster = monsters[index]\n",
    "        if monster.alive > 0:\n",
    "            return monster\n",
    "            \n",
    "def display_info(ultraman, monsters):\n",
    "    \"\"\"显示奥特曼和小怪兽的信息\"\"\"\n",
    "    print(ultraman)\n",
    "    for monster in monsters:\n",
    "        print(monster, end='')\n",
    "        \n",
    "u = Ultraman(\"泰罗\", 1000, 120)\n",
    "m1 = Monster('哥斯拉', 250)\n",
    "m2 = Monster('泰格', 500)\n",
    "m3 = Monster('曼陀罗', 750)\n",
    "ms = [m1, m2, m3]\n",
    "fight_round = 1\n",
    "while u.alive and is_any_alive(ms):\n",
    "    print('======第%02d回合======' % fight_round)\n",
    "    m = select_alive_one(ms)\n",
    "    skill = randint(1, 10)\n",
    "    if skill <= 6:\n",
    "        print('%s使用普通攻击打了%s.' % (u.name, m.name))\n",
    "        u.attack(m)\n",
    "        print('%s的魔法值恢复了%d点.' % (u.name, u.resume()))\n",
    "    elif skill <= 9:\n",
    "        if u.magic_attack(ms):\n",
    "            print('%s使用了魔法攻击.' % u.name)\n",
    "        else:\n",
    "            print('%s使用魔法失败.' % u.name)\n",
    "            \n",
    "    else:\n",
    "        if u.huge_attack(m):\n",
    "            print('%s使用究极必杀技虐了%s.' % (u.name, m.name))\n",
    "        else:\n",
    "            print('%s使用普通攻击打了%s.' % (u.name, m.name))\n",
    "            u.attack(m)\n",
    "            print('%s的魔法值恢复了%d点.' % (u.name, u.resume()))\n",
    "    if m.alive > 0:\n",
    "        print('%s回击了%s.' % (m.name, u.name))\n",
    "        m.attack(u)\n",
    "    display_info(u, ms)\n",
    "    fight_round += 1\n",
    "print('\\n======战斗结束======\\n')\n",
    "if u.alive > 0:\n",
    "    print('%s奥特曼胜利！' % u.name)\n",
    "else:\n",
    "    print('小怪兽胜利！')\n",
    "            "
   ]
  },
  {
   "cell_type": "markdown",
   "metadata": {},
   "source": [
    "工资结算系统"
   ]
  },
  {
   "cell_type": "code",
   "execution_count": 1,
   "metadata": {},
   "outputs": [
    {
     "name": "stdout",
     "output_type": "stream",
     "text": [
      "刘备本月工资为： ￥15000.0元\n",
      "请输入诸葛亮本月工作时间: 200\n",
      "诸葛亮本月工资为： ￥30000.0元\n",
      "曹操本月工资为： ￥15000.0元\n",
      "请输入荀彧本月销售额: 30000\n",
      "荀彧本月工资为： ￥2700.0元\n",
      "请输入吕布本月销售额: 80000\n",
      "吕布本月工资为： ￥5200.0元\n",
      "请输入张辽本月工作时间: 160\n",
      "张辽本月工资为： ￥24000.0元\n",
      "请输入赵云本月工作时间: 300\n",
      "赵云本月工资为： ￥45000.0元\n"
     ]
    }
   ],
   "source": [
    "\"\"\"\n",
    "某公司有三种类型的员工 分别是部门经理、程序员、和销售员   \n",
    "需要设计一个工资结算系统   根据提供的员工信息来计算月薪  \n",
    "部门经理的月薪是每月固定15000元   \n",
    "程序员的月薪是按本月工作时间计算   每小时150元    \n",
    "销售员的月薪是1200元的底薪加上销售额5%提成\n",
    "\"\"\"\n",
    "from abc import ABCMeta, abstractmethod\n",
    "\n",
    "\n",
    "class Employee(object, metaclass=ABCMeta):\n",
    "    \"\"\"员工\"\"\"\n",
    "    \n",
    "    def __init__(self, name):\n",
    "        \"\"\"\n",
    "        初始化方法\n",
    "        ：param name：姓名\n",
    "        \"\"\"\n",
    "        self._name = name\n",
    "        \n",
    "    @property\n",
    "    def name(self):\n",
    "        return self._name\n",
    "    \n",
    "    @abstractmethod\n",
    "    def get_salary(self):\n",
    "        \"\"\"\n",
    "        获得月薪\n",
    "        ：return：月薪\n",
    "        \"\"\"\n",
    "        pass\n",
    "    \n",
    "\n",
    "class Manager(Employee):\n",
    "    \"\"\"部门经理\"\"\"\n",
    "    \n",
    "    def get_salary(self):\n",
    "        return 15000.0\n",
    "    \n",
    "    \n",
    "class Programmer(Employee):\n",
    "    \"\"\"程序员\"\"\"\n",
    "    \n",
    "    def __init__(self, name, working_hour=0):\n",
    "        super().__init__(name)\n",
    "        self._working_hour = working_hour\n",
    "        \n",
    "    @property\n",
    "    def working_hour(self):\n",
    "        return self._working_hour\n",
    "    \n",
    "    @working_hour.setter\n",
    "    def working_hour(self, working_hour):\n",
    "        self._working_hour = working_hour\n",
    "        \n",
    "    def get_salary(self):\n",
    "        return 150.0 * self._working_hour\n",
    "    \n",
    "    \n",
    "class Salesman(Employee):\n",
    "    \"\"\"销售员\"\"\"\n",
    "    \n",
    "    def __init__(self, name, sales=0):\n",
    "        super().__init__(name)\n",
    "        self._sales = sales\n",
    "        \n",
    "    @property\n",
    "    def sales(self):\n",
    "        return self._sales\n",
    "    \n",
    "    @sales.setter\n",
    "    def sales(self, sales):\n",
    "        self._sales = sales if sales > 0 else 0\n",
    "        \n",
    "    def get_salary(self):\n",
    "        return 1200.0 + self._sales * 0.05\n",
    "    \n",
    "\n",
    "emps = [\n",
    "    Manager('刘备'), Programmer('诸葛亮'),\n",
    "    Manager('曹操'), Salesman('荀彧'),\n",
    "    Salesman('吕布'), Programmer('张辽'),\n",
    "    Programmer('赵云')\n",
    "]\n",
    "\n",
    "for emp in emps:\n",
    "    if isinstance(emp, Programmer):\n",
    "        emp.working_hour = int(input('请输入%s本月工作时间: ' % emp.name))\n",
    "    elif isinstance(emp, Salesman):\n",
    "        emp.sales = float(input('请输入%s本月销售额: ' % emp.name))\n",
    "    print('%s本月工资为： ￥%s元' % (emp.name, emp.get_salary()))\n"
   ]
  }
 ],
 "metadata": {
  "kernelspec": {
   "display_name": "Python 3",
   "language": "python",
   "name": "python3"
  },
  "language_info": {
   "codemirror_mode": {
    "name": "ipython",
    "version": 3
   },
   "file_extension": ".py",
   "mimetype": "text/x-python",
   "name": "python",
   "nbconvert_exporter": "python",
   "pygments_lexer": "ipython3",
   "version": "3.6.1"
  }
 },
 "nbformat": 4,
 "nbformat_minor": 2
}

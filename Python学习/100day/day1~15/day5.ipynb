{
 "cells": [
  {
   "cell_type": "code",
   "execution_count": 1,
   "metadata": {},
   "outputs": [
    {
     "name": "stdout",
     "output_type": "stream",
     "text": [
      "153\n",
      "370\n",
      "371\n",
      "407\n"
     ]
    }
   ],
   "source": [
    "# 水仙花数\n",
    "for i in range(100, 1000):\n",
    "    low = i % 10\n",
    "    mid = i // 10 % 10\n",
    "    high = i // 100\n",
    "    if i == low**3 + mid**3 + high**3:\n",
    "        print(i)"
   ]
  },
  {
   "cell_type": "code",
   "execution_count": 2,
   "metadata": {},
   "outputs": [
    {
     "name": "stdout",
     "output_type": "stream",
     "text": [
      "1\t6\t28\t496\t8128\t\n",
      " 0.17999999999999972\n"
     ]
    }
   ],
   "source": [
    "# 完美数\n",
    "import time,math\n",
    "st = time.clock()\n",
    "for num in range(1, 10000):\n",
    "    fact_sum = 0\n",
    "    stop = int(math.sqrt(num)) + 1\n",
    "    for fact in range(1, stop):\n",
    "        if num % fact ==0:\n",
    "            fact_sum += fact\n",
    "            if fact > 1 and num/fact != fact:\n",
    "                fact_sum += num/fact\n",
    "    if fact_sum == num:\n",
    "        print(num,end='\\t')\n",
    "print('\\n',time.clock()-st)"
   ]
  },
  {
   "cell_type": "markdown",
   "metadata": {},
   "source": [
    "12333"
   ]
  },
  {
   "cell_type": "code",
   "execution_count": 8,
   "metadata": {},
   "outputs": [
    {
     "name": "stdout",
     "output_type": "stream",
     "text": [
      "1\t1\t2\t3\t5\t8\t13\t21\t34\t55\t89\t144\t233\t377\t610\t987\t1597\t2584\t4181\t6765\t"
     ]
    }
   ],
   "source": [
    "# Fibonacci\n",
    "a,b = 0,1\n",
    "for i in range(20):\n",
    "    a,b = b, a+b\n",
    "    print(a, end='\\t')"
   ]
  },
  {
   "cell_type": "code",
   "execution_count": 2,
   "metadata": {},
   "outputs": [
    {
     "ename": "ModuleNotFoundError",
     "evalue": "No module named 'django'",
     "output_type": "error",
     "traceback": [
      "\u001b[0;31m---------------------------------------------------------------------------\u001b[0m",
      "\u001b[0;31mModuleNotFoundError\u001b[0m                       Traceback (most recent call last)",
      "\u001b[0;32m<ipython-input-2-5fa2257f2ea7>\u001b[0m in \u001b[0;36m<module>\u001b[0;34m()\u001b[0m\n\u001b[0;32m----> 1\u001b[0;31m \u001b[0;32mimport\u001b[0m \u001b[0mdjango\u001b[0m\u001b[0;34m\u001b[0m\u001b[0m\n\u001b[0m",
      "\u001b[0;31mModuleNotFoundError\u001b[0m: No module named 'django'"
     ]
    }
   ],
   "source": [
    "import django"
   ]
  }
 ],
 "metadata": {
  "kernelspec": {
   "display_name": "Python 3",
   "language": "python",
   "name": "python3"
  },
  "language_info": {
   "codemirror_mode": {
    "name": "ipython",
    "version": 3
   },
   "file_extension": ".py",
   "mimetype": "text/x-python",
   "name": "python",
   "nbconvert_exporter": "python",
   "pygments_lexer": "ipython3",
   "version": "3.6.4"
  }
 },
 "nbformat": 4,
 "nbformat_minor": 2
}

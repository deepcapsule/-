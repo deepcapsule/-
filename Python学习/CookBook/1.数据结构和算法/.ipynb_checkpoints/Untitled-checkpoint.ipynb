{
 "cells": [
  {
   "cell_type": "markdown",
   "metadata": {},
   "source": [
    "* ## 第1章 数据结构和算法  \n",
    "    * ### [1.3保存最后N个元素](#3)\n",
    "    * ### [1.4 找到最大或最小N个元素](#4)\n",
    "    * ### [1.5 实现优先级队列](#5)\n",
    "    * ### [1.6 在字典中将键映射到多个值上](#6)\n",
    "    * ### [1.7 让字典保持有序](#7)\n",
    "    * ### [1.8 与字典有关的一些计算](#8)\n",
    "    * ### [1.9 在两个字典中寻找相同点](#9)\n",
    "    * ### [1.10 从序列中移除重复项且保持元素间顺序不变](#10)\n",
    "    * ### [1.11 对切片命名](#11)\n",
    "    * ### [1.12 找出序列中出现次数最多的元素](#12)\n",
    "    * ### [1.13 通过公共键对字典列表排序](#13)\n",
    "    * ### [1.14 对不原生支持比较操作的对象排序](#14)\n",
    "    * ### [1.15 根据字段将记录分组](#15)\n",
    "    * ### [1.16 筛选序列中的元素](#16)"
   ]
  },
  {
   "cell_type": "markdown",
   "metadata": {},
   "source": [
    "### <span id=\"3\">1.3保存最后N个元素</span>"
   ]
  },
  {
   "cell_type": "markdown",
   "metadata": {},
   "source": [
    "保存有限的历史记录使collections.deque的完美应用场景  \n",
    "当编写搜索某项记录的代码时，用yield关键字的生成器函数，  \n",
    "可以将处理搜索过程的代码和使用搜索结果的代码成功解耦开来。"
   ]
  },
  {
   "cell_type": "code",
   "execution_count": 8,
   "metadata": {},
   "outputs": [
    {
     "name": "stdout",
     "output_type": "stream",
     "text": [
      "def search(lines, pattern, history=5):--------------------\n",
      "def search(lines, pattern, history=5):    previous_lines = deque(maxlen=history)--------------------\n",
      "def search(lines, pattern, history=5):    previous_lines = deque(maxlen=history)    for line in lines:--------------------\n",
      "def search(lines, pattern, history=5):    previous_lines = deque(maxlen=history)    for line in lines:        if pattern in line:--------------------\n",
      "    previous_lines = deque(maxlen=history)    for line in lines:        if pattern in line:            yield line, previous_lines--------------------\n",
      "    for line in lines:        if pattern in line:            yield line, previous_lines        previous_lines.append(line)--------------------\n"
     ]
    }
   ],
   "source": [
    "from collections import deque\n",
    "\n",
    "def search(lines, pattern, history=5):\n",
    "    previous_lines = deque(maxlen=history)\n",
    "    for line in lines:\n",
    "        if pattern in line:\n",
    "            yield line, previous_lines\n",
    "        previous_lines.append(line)\n",
    "        \n",
    "test_list = \"\"\"\n",
    "def search(lines, pattern, history=5):\n",
    "    previous_lines = deque(maxlen=history)\n",
    "    for line in lines:\n",
    "        if pattern in line:\n",
    "            yield line, previous_lines\n",
    "        previous_lines.append(line)\n",
    "\"\"\".split('\\n')\n",
    "for line, prevlines in search(test_list, \"line\", 3):\n",
    "    for pline in prevlines:\n",
    "        print(pline, end=\"\")\n",
    "    print(line, end=\"\")\n",
    "    print('-'*20)"
   ]
  },
  {
   "cell_type": "markdown",
   "metadata": {},
   "source": [
    "### <span id=\"4\">1.4 找到最大或最小N个元素</span>"
   ]
  },
  {
   "cell_type": "code",
   "execution_count": 1,
   "metadata": {},
   "outputs": [
    {
     "name": "stdout",
     "output_type": "stream",
     "text": [
      "[42, 37, 23]\n",
      "[-4, 1, 2]\n"
     ]
    }
   ],
   "source": [
    "import heapq\n",
    "nums = [1, 8, 2, 23, 7, -4, 18, 23, 42, 37, 2]\n",
    "print(heapq.nlargest(3, nums))\n",
    "print(heapq.nsmallest(3, nums))"
   ]
  },
  {
   "cell_type": "code",
   "execution_count": 3,
   "metadata": {},
   "outputs": [
    {
     "name": "stdout",
     "output_type": "stream",
     "text": [
      "[{'name': 'YHOO', 'shares': 45, 'price': 16.35}, {'name': 'FB', 'shares': 200, 'price': 21.09}, {'name': 'HPQ', 'shares': 35, 'price': 31.75}]\n"
     ]
    }
   ],
   "source": [
    "portfolio = [\n",
    "    {'name':'IBM', 'shares':100, 'price':91.1},\n",
    "    {'name':'APPLE', 'shares':50, 'price':543.22},\n",
    "    {'name':'FB', 'shares':200, 'price':21.09},\n",
    "    {'name':'HPQ', 'shares':35, 'price':31.75},\n",
    "    {'name':'YHOO', 'shares':45, 'price':16.35}\n",
    "]\n",
    "\n",
    "cheap = heapq.nsmallest(3, portfolio, key = lambda s : s['price'])\n",
    "print(cheap)"
   ]
  },
  {
   "cell_type": "code",
   "execution_count": 5,
   "metadata": {},
   "outputs": [
    {
     "data": {
      "text/plain": [
       "-4"
      ]
     },
     "execution_count": 5,
     "metadata": {},
     "output_type": "execute_result"
    }
   ],
   "source": [
    "nums = [1, 8, 2, 23, 7, -4, 18, 23, 42, 37, 2]\n",
    "import heapq\n",
    "heap = list(nums)\n",
    "heapq.heapify(heap)\n",
    "heapq.heappop(heap)"
   ]
  },
  {
   "cell_type": "markdown",
   "metadata": {},
   "source": [
    "### <span id=\"5\">1.5 实现优先级队列</span>"
   ]
  },
  {
   "cell_type": "code",
   "execution_count": 8,
   "metadata": {},
   "outputs": [
    {
     "name": "stdout",
     "output_type": "stream",
     "text": [
      "Item('bar')\n",
      "Item('spam')\n",
      "Item('foo')\n",
      "Item('grok')\n"
     ]
    }
   ],
   "source": [
    "import heapq\n",
    "class PriorityQueue:\n",
    "    \n",
    "    def __init__(self):\n",
    "        self._queue = []\n",
    "        self._index = 0\n",
    "        \n",
    "    def push(self, item, priority):\n",
    "        # 队列以元组（-priority, index, item）的形式组成。\n",
    "        heapq.heappush(self._queue, (-priority, self._index, item))\n",
    "        self._index += 1\n",
    "        \n",
    "    def pop(self):\n",
    "        return heapq.heappop(self._queue)[-1]\n",
    "    \n",
    "class Item:\n",
    "    def __init__(self, name):\n",
    "        self.name = name\n",
    "    def __repr__(self):\n",
    "        return 'Item({!r})'.format(self.name)\n",
    "    \n",
    "q = PriorityQueue()\n",
    "q.push(Item('foo'), 1)\n",
    "q.push(Item('bar'), 5)\n",
    "q.push(Item('spam'), 4)\n",
    "q.push(Item('grok'), 1)\n",
    "print(q.pop())\n",
    "print(q.pop())\n",
    "print(q.pop())\n",
    "print(q.pop())"
   ]
  },
  {
   "cell_type": "markdown",
   "metadata": {},
   "source": [
    "### <span id=\"6\">1.6 在字典中将键映射到多个值上</span>"
   ]
  },
  {
   "cell_type": "code",
   "execution_count": 9,
   "metadata": {},
   "outputs": [
    {
     "name": "stdout",
     "output_type": "stream",
     "text": [
      "defaultdict(<class 'list'>, {'a': [1, 2], 'b': [4]})\n"
     ]
    }
   ],
   "source": [
    "from collections import defaultdict\n",
    "\n",
    "# 字典是一种关联容器，每个键都映射到一个单独的值上。\n",
    "# 如果想让键映射到多个值，需要将这多个值保存到另一个容器如列表或集合中。\n",
    "d = defaultdict(list)\n",
    "d['a'].append(1)\n",
    "d['a'].append(2)\n",
    "d['b'].append(4)\n",
    "print(d)"
   ]
  },
  {
   "cell_type": "code",
   "execution_count": 11,
   "metadata": {},
   "outputs": [
    {
     "name": "stdout",
     "output_type": "stream",
     "text": [
      "defaultdict(<class 'set'>, {'a': {1, 2}, 'b': {4}})\n"
     ]
    }
   ],
   "source": [
    "d = defaultdict(set)\n",
    "d['a'].add(1)\n",
    "d['a'].add(2)\n",
    "d['b'].add(4)\n",
    "print(d)"
   ]
  },
  {
   "cell_type": "code",
   "execution_count": null,
   "metadata": {
    "collapsed": true
   },
   "outputs": [],
   "source": [
    "# 尝试自己对第一个值做初始化，代码很杂乱\n",
    "d = {}\n",
    "for key, value in pairs:\n",
    "    if key not in d:\n",
    "        d[key] = []\n",
    "    d[key].append(value)\n",
    "    \n",
    "# 使用defaultdict, 代码清晰很多\n",
    "d = defaultdict(list)\n",
    "for key, value in pairs:\n",
    "    d[key].append(value)"
   ]
  },
  {
   "cell_type": "markdown",
   "metadata": {},
   "source": [
    "### <span id=\"7\">1.7 让字典保持有序</span>"
   ]
  },
  {
   "cell_type": "code",
   "execution_count": 12,
   "metadata": {},
   "outputs": [
    {
     "name": "stdout",
     "output_type": "stream",
     "text": [
      "foo 1\n",
      "bar 2\n",
      "spam 3\n",
      "grok 4\n"
     ]
    }
   ],
   "source": [
    "from collections import OrderedDict\n",
    "# OrderedDict内部维护了一个双向链表，第一加入的元素被放在链表末尾\n",
    "# 当对已存在的键重新赋值不会改变键的顺序\n",
    "\n",
    "d = OrderedDict()\n",
    "d['foo'] = 1\n",
    "d['bar'] = 2\n",
    "d['spam'] = 3\n",
    "d['grok'] = 4\n",
    "# 当对字典迭代时， 会严格按照元素初始添加的顺序进行\n",
    "for key in d:\n",
    "    print(key, d[key])"
   ]
  },
  {
   "cell_type": "code",
   "execution_count": 13,
   "metadata": {},
   "outputs": [
    {
     "data": {
      "text/plain": [
       "'{\"foo\": 1, \"bar\": 2, \"spam\": 3, \"grok\": 4}'"
      ]
     },
     "execution_count": 13,
     "metadata": {},
     "output_type": "execute_result"
    }
   ],
   "source": [
    "# 可以用于在json编码时精确控制各字段的顺序\n",
    "import json\n",
    "json.dumps(d)"
   ]
  },
  {
   "cell_type": "markdown",
   "metadata": {},
   "source": [
    "### <span id=\"8\">1.8 与字典有关的一些计算</span>"
   ]
  },
  {
   "cell_type": "code",
   "execution_count": 14,
   "metadata": {},
   "outputs": [
    {
     "name": "stdout",
     "output_type": "stream",
     "text": [
      "(10.75, 'FB')\n"
     ]
    }
   ],
   "source": [
    "# 假设有个字典为股票和对应价格，想要找出最低和最高的股票\n",
    "prices = {\n",
    "    'ACME': 45.23,\n",
    "    'AAPL': 612.78,\n",
    "    'IBM': 205.55,\n",
    "    'HPQ': 37.20,\n",
    "    'FB': 10.75\n",
    "}\n",
    "\n",
    "# zip()创建了一个迭代器，它的内容只能被消费一次\n",
    "min_price = min(zip(prices.values(), prices.keys()))\n",
    "print(min_price)"
   ]
  },
  {
   "cell_type": "code",
   "execution_count": 15,
   "metadata": {},
   "outputs": [
    {
     "data": {
      "text/plain": [
       "'FB'"
      ]
     },
     "execution_count": 15,
     "metadata": {},
     "output_type": "execute_result"
    }
   ],
   "source": [
    "# 在字典上只想常见的数据操作，需要注意处理的是键而不是值\n",
    "# 我们可以传入一个key参数,得到最小值对应的键\n",
    "# 但要得到最小值，还需额外执行一次查找，因此用上面的zip比较好\n",
    "min(prices, key = lambda k : prices[k])"
   ]
  },
  {
   "cell_type": "markdown",
   "metadata": {
    "collapsed": true
   },
   "source": [
    "### <span id=\"9\">1.9 在两个字典中寻找相同点</span>"
   ]
  },
  {
   "cell_type": "code",
   "execution_count": 16,
   "metadata": {},
   "outputs": [
    {
     "name": "stdout",
     "output_type": "stream",
     "text": [
      "{'x', 'y'}\n",
      "{'z'}\n",
      "{('y', 2)}\n"
     ]
    }
   ],
   "source": [
    "# 字典的keys()和items()方法返回的对象支持集合操作\n",
    "a = {\n",
    "    'x':1,\n",
    "    'y':2,\n",
    "    'z':3\n",
    "}\n",
    "\n",
    "b = {\n",
    "    'w':10,\n",
    "    'x':11,\n",
    "    'y':2\n",
    "}\n",
    "\n",
    "#Find keys in common\n",
    "print(a.keys() & b.keys())\n",
    "\n",
    "# Find keys in a that are not in b\n",
    "print(a.keys() - b.keys())\n",
    "\n",
    "# Find (key, value) paires in common\n",
    "print(a.items() & b.items())"
   ]
  },
  {
   "cell_type": "markdown",
   "metadata": {},
   "source": [
    "### <span id=\"10\">1.10 从序列中移除重复项且保持元素间顺序不变</span>"
   ]
  },
  {
   "cell_type": "code",
   "execution_count": 17,
   "metadata": {},
   "outputs": [
    {
     "name": "stdout",
     "output_type": "stream",
     "text": [
      "[1, 5, 2, 9, 10]\n"
     ]
    }
   ],
   "source": [
    "# 如果序列中的值是可哈希的，可通过集合和生成器轻易解决\n",
    "def dedupe(items):\n",
    "    seen = set()\n",
    "    for item in items:\n",
    "        if item not in seen:\n",
    "            yield item\n",
    "            seen.add(item)\n",
    "            \n",
    "a = [1, 5, 2, 1, 9, 1, 5, 10]\n",
    "print(list(dedupe(a)))\n"
   ]
  },
  {
   "cell_type": "code",
   "execution_count": 19,
   "metadata": {},
   "outputs": [
    {
     "data": {
      "text/plain": [
       "[1, 5, 2, 9, 10]"
      ]
     },
     "execution_count": 19,
     "metadata": {},
     "output_type": "execute_result"
    }
   ],
   "source": [
    "b = []\n",
    "for item in a:\n",
    "    if item not in b:\n",
    "        b.append(item)\n",
    "b"
   ]
  },
  {
   "cell_type": "code",
   "execution_count": 20,
   "metadata": {},
   "outputs": [
    {
     "name": "stdout",
     "output_type": "stream",
     "text": [
      "[{'x': 1, 'y': 2}, {'x': 1, 'y': 3}, {'x': 2, 'y': 4}]\n",
      "[{'x': 1, 'y': 2}, {'x': 2, 'y': 4}]\n"
     ]
    }
   ],
   "source": [
    "# 如果想在不可哈希的对象（比如列表）序列中去除重复项\n",
    "# key的作用是指定一个函数将序列中元素转换为可哈希类型。\n",
    "def dedupe(items, key=None):\n",
    "    seen = set()\n",
    "    for item in items:\n",
    "        val = item if key is None else key(item)\n",
    "        if val not in seen:\n",
    "            yield item\n",
    "            seen.add(val)\n",
    "            \n",
    "a = [ {'x':1, 'y':2}, {'x':1, 'y':3}, {'x':1, 'y':2}, {'x':2, 'y':4}]\n",
    "print(list(dedupe(a, key=lambda d:(d['x'], d['y']))))\n",
    "print(list(dedupe(a, key=lambda d:d['x'])))"
   ]
  },
  {
   "cell_type": "markdown",
   "metadata": {},
   "source": [
    "### <span id=\"11\">1.11 对切片命名</span>"
   ]
  },
  {
   "cell_type": "code",
   "execution_count": 27,
   "metadata": {},
   "outputs": [
    {
     "name": "stdout",
     "output_type": "stream",
     "text": [
      "51325.0\n"
     ]
    }
   ],
   "source": [
    "# 从字符串固定位置取出数据，硬编码的切片索引杂乱难懂，如下：\n",
    "record = '....................100 .......513.25 ..........'\n",
    "cost = int(record[20:23]) * float(record[31:37])\n",
    "print(cost)"
   ]
  },
  {
   "cell_type": "code",
   "execution_count": 28,
   "metadata": {},
   "outputs": [
    {
     "name": "stdout",
     "output_type": "stream",
     "text": [
      "51325.0\n"
     ]
    }
   ],
   "source": [
    "# 对切片命名，代码就会清晰很多\n",
    "SHARES = slice(20,23)\n",
    "PRICE = slice(31,37)\n",
    "cost = int(record[SHARES]) * float(record[PRICE])\n",
    "print(cost)"
   ]
  },
  {
   "cell_type": "code",
   "execution_count": 37,
   "metadata": {
    "scrolled": true
   },
   "outputs": [
    {
     "name": "stdout",
     "output_type": "stream",
     "text": [
      "slice(5, 50, 2)\n",
      "(5, 10, 2)\n",
      "W r d "
     ]
    }
   ],
   "source": [
    "# 此外， 可通过indices(size)方法将切片映射到特定大小序列上。避免下标越界。\n",
    "a = slice(5, 50, 2)\n",
    "s = 'HelloWorld'\n",
    "print(a)\n",
    "print(a.indices(len(s)))\n",
    "# *(星号)表示传入列表参数，解列表序列\n",
    "for i in range(*a.indices(len(s))):\n",
    "    print(s[i], end=' ')"
   ]
  },
  {
   "cell_type": "markdown",
   "metadata": {},
   "source": [
    "### <span id=\"12\">1.12 找出序列中出现次数最多的元素</span>"
   ]
  },
  {
   "cell_type": "code",
   "execution_count": 52,
   "metadata": {},
   "outputs": [
    {
     "name": "stdout",
     "output_type": "stream",
     "text": [
      "[('eyes', 8), ('the', 6), ('look', 4)]\n"
     ]
    }
   ],
   "source": [
    "words = [\n",
    "    'look', 'into', 'my', 'eyes', 'look', 'into', 'my', 'eyes',\n",
    "    'the', 'eyes', 'the', 'eyes', 'the', 'eyes', 'not', 'around', 'the',\n",
    "    'the', 'eyes', \"don't\", 'look', 'around', 'the', 'eyes', 'look', 'into',\n",
    "    'my', 'eyes', \"you're\", 'under'\n",
    "]\n",
    "\n",
    "from collections import Counter\n",
    "word_counts = Counter(words)\n",
    "top_three =word_counts.most_common(3)\n",
    "print(top_three)"
   ]
  },
  {
   "cell_type": "code",
   "execution_count": 54,
   "metadata": {},
   "outputs": [
    {
     "name": "stdout",
     "output_type": "stream",
     "text": [
      "10\n"
     ]
    }
   ],
   "source": [
    "# Counter对象底层实现是一个字典，在元素和出现次数之间做了映射\n",
    "morewords = ['why', 'are', 'you', 'not', 'looking', 'in', 'my', 'eyes']\n",
    "# for word in morewords:\n",
    "#     word_counts[word] += 1\n",
    "word_counts.update(morewords)\n",
    "print(word_counts['eyes'])"
   ]
  },
  {
   "cell_type": "code",
   "execution_count": 55,
   "metadata": {},
   "outputs": [
    {
     "name": "stdout",
     "output_type": "stream",
     "text": [
      "Counter({'eyes': 8, 'the': 6, 'look': 4, 'into': 3, 'my': 3, 'around': 2, 'not': 1, \"don't\": 1, \"you're\": 1, 'under': 1})\n",
      "Counter({'why': 1, 'are': 1, 'you': 1, 'not': 1, 'looking': 1, 'in': 1, 'my': 1, 'eyes': 1})\n",
      "Counter({'eyes': 9, 'the': 6, 'look': 4, 'my': 4, 'into': 3, 'not': 2, 'around': 2, \"don't\": 1, \"you're\": 1, 'under': 1, 'why': 1, 'are': 1, 'you': 1, 'looking': 1, 'in': 1})\n",
      "Counter({'eyes': 7, 'the': 6, 'look': 4, 'into': 3, 'my': 2, 'around': 2, \"don't\": 1, \"you're\": 1, 'under': 1})\n"
     ]
    }
   ],
   "source": [
    "# Counter 支持数学运算操作\n",
    "a = Counter(words)\n",
    "b = Counter(morewords)\n",
    "print(a)\n",
    "print(b)\n",
    "c = a + b\n",
    "d = a - b\n",
    "print(c)\n",
    "print(d)"
   ]
  },
  {
   "cell_type": "markdown",
   "metadata": {},
   "source": [
    "### <span id=\"13\">1.13 通过公共键对字典列表排序</span>"
   ]
  },
  {
   "cell_type": "code",
   "execution_count": 57,
   "metadata": {},
   "outputs": [
    {
     "name": "stdout",
     "output_type": "stream",
     "text": [
      "[{'fname': 'Big', 'lname': 'Jones', 'uid': 1004}, {'fname': 'Brian', 'lname': 'Jones', 'uid': 1003}, {'fname': 'David', 'lname': 'Beazley', 'uid': 1002}, {'fname': 'John', 'lname': 'Cleese', 'uid': 1001}]\n",
      "[{'fname': 'John', 'lname': 'Cleese', 'uid': 1001}, {'fname': 'David', 'lname': 'Beazley', 'uid': 1002}, {'fname': 'Brian', 'lname': 'Jones', 'uid': 1003}, {'fname': 'Big', 'lname': 'Jones', 'uid': 1004}]\n"
     ]
    }
   ],
   "source": [
    "rows = [\n",
    "    {'fname':'Brian', 'lname':'Jones', 'uid':1003},\n",
    "    {'fname':'David', 'lname':'Beazley', 'uid':1002},\n",
    "    {'fname':'John', 'lname':'Cleese', 'uid':1001},\n",
    "    {'fname':'Big', 'lname':'Jones', 'uid':1004}\n",
    "]\n",
    "\n",
    "# 根据所有的字典中共有的字段对这些记录排序\n",
    "from operator import itemgetter\n",
    "\n",
    "rows_by_fname = sorted(rows, key=itemgetter('fname'))\n",
    "rows_by_uid = sorted(rows, key=itemgetter('uid'))\n",
    "print(rows_by_fname)\n",
    "print(rows_by_uid)"
   ]
  },
  {
   "cell_type": "code",
   "execution_count": 58,
   "metadata": {},
   "outputs": [
    {
     "name": "stdout",
     "output_type": "stream",
     "text": [
      "[{'fname': 'David', 'lname': 'Beazley', 'uid': 1002}, {'fname': 'John', 'lname': 'Cleese', 'uid': 1001}, {'fname': 'Big', 'lname': 'Jones', 'uid': 1004}, {'fname': 'Brian', 'lname': 'Jones', 'uid': 1003}]\n"
     ]
    }
   ],
   "source": [
    "rows_by_lfname = sorted(rows, key=itemgetter('lname', 'fname'))\n",
    "print(rows_by_lfname)"
   ]
  },
  {
   "cell_type": "code",
   "execution_count": 59,
   "metadata": {},
   "outputs": [
    {
     "data": {
      "text/plain": [
       "{'fname': 'David', 'lname': 'Beazley', 'uid': 1002}"
      ]
     },
     "execution_count": 59,
     "metadata": {},
     "output_type": "execute_result"
    }
   ],
   "source": [
    "# 也可用lambda表达式，但itemgetter通常会运行更快一些\n",
    "min(rows, key=lambda r:(r['lname'],r['fname']))"
   ]
  },
  {
   "cell_type": "markdown",
   "metadata": {},
   "source": [
    "### <span id=\"14\">1.14 对不原生支持比较操作的对象排序</span>"
   ]
  },
  {
   "cell_type": "code",
   "execution_count": 65,
   "metadata": {},
   "outputs": [
    {
     "name": "stdout",
     "output_type": "stream",
     "text": [
      "[User(23), User(3), User(99)]\n",
      "[User(3), User(23), User(99)]\n",
      "[User(3), User(23), User(99)]\n"
     ]
    }
   ],
   "source": [
    "# 通过User对象的user_id属性排序\n",
    "class User:\n",
    "    def __init__(self, user_id):\n",
    "        self.user_id = user_id\n",
    "    def __repr__(self):\n",
    "        return 'User({})'.format(self.user_id)\n",
    "\n",
    "users = [User(23), User(3), User(99)]\n",
    "print(users)\n",
    "\n",
    "print(sorted(users, key=lambda u:u.user_id))\n",
    "\n",
    "# 或者用operator.attrgetter()\n",
    "from operator import attrgetter\n",
    "print(sorted(users, key=attrgetter('user_id')))"
   ]
  },
  {
   "cell_type": "markdown",
   "metadata": {},
   "source": [
    "### <span id=\"15\">1.15 根据字段将记录分组</span>"
   ]
  },
  {
   "cell_type": "markdown",
   "metadata": {
    "collapsed": true
   },
   "source": [
    "itertools.groupby()函数在对数据进行分组时特别有用。"
   ]
  },
  {
   "cell_type": "code",
   "execution_count": 9,
   "metadata": {
    "collapsed": true
   },
   "outputs": [],
   "source": [
    "rows = [\n",
    "    {'address':'5142 N CLARK', 'date':'07/01/2012'},\n",
    "    {'address':'5148 N CLARK', 'date':'07/04/2012'},\n",
    "    {'address':'5800 E 58TH', 'date':'07/02/2012'},\n",
    "    {'address':'2122 N CLARK', 'date':'07/03/2012'},\n",
    "    {'address':'5645 N RAVEBSWOOD', 'date':'07/02/2012'},\n",
    "    {'address':'1060 W ADDISON', 'date':'07/02/2012'},\n",
    "    {'address':'4801 N BROADWAY', 'date':'07/01/2012'},\n",
    "    {'address':'1039 W GRANVILLE', 'date':'07/04/2012'}\n",
    "]"
   ]
  },
  {
   "cell_type": "code",
   "execution_count": 13,
   "metadata": {
    "scrolled": true
   },
   "outputs": [
    {
     "name": "stdout",
     "output_type": "stream",
     "text": [
      "07/01/2012\n",
      "\t {'address': '5142 N CLARK', 'date': '07/01/2012'}\n",
      "\t {'address': '4801 N BROADWAY', 'date': '07/01/2012'}\n",
      "07/02/2012\n",
      "\t {'address': '5800 E 58TH', 'date': '07/02/2012'}\n",
      "\t {'address': '5645 N RAVEBSWOOD', 'date': '07/02/2012'}\n",
      "\t {'address': '1060 W ADDISON', 'date': '07/02/2012'}\n",
      "07/03/2012\n",
      "\t {'address': '2122 N CLARK', 'date': '07/03/2012'}\n",
      "07/04/2012\n",
      "\t {'address': '5148 N CLARK', 'date': '07/04/2012'}\n",
      "\t {'address': '1039 W GRANVILLE', 'date': '07/04/2012'}\n"
     ]
    }
   ],
   "source": [
    "# 现假设想根据日期以分组方式迭代数据。\n",
    "from operator import itemgetter\n",
    "from itertools import groupby\n",
    "\n",
    "# Sort by the desired field first\n",
    "rows.sort(key=itemgetter('date'))\n",
    "# Iterate in groups\n",
    "for date,items in groupby(rows, key=itemgetter('date')):\n",
    "    print(date)\n",
    "    for item in items:\n",
    "        print('\\t', item)"
   ]
  },
  {
   "cell_type": "markdown",
   "metadata": {},
   "source": [
    "### <span id=\"16\">1.16 筛选序列中的元素</span>"
   ]
  },
  {
   "cell_type": "code",
   "execution_count": 14,
   "metadata": {
    "scrolled": true
   },
   "outputs": [
    {
     "name": "stdout",
     "output_type": "stream",
     "text": [
      "[1, 4, 10, 2, 3]\n"
     ]
    }
   ],
   "source": [
    "# 列表推导式处理简单数据\n",
    "mylist = [1, 4, -5, 10, -7, 2, 3, -1]\n",
    "print([n for n in mylist if n > 0])"
   ]
  },
  {
   "cell_type": "code",
   "execution_count": 15,
   "metadata": {
    "scrolled": true
   },
   "outputs": [
    {
     "name": "stdout",
     "output_type": "stream",
     "text": [
      "[-5, -7, -1]\n"
     ]
    }
   ],
   "source": [
    "# 当输入数据非常大时，可用生成器表达式\n",
    "gen = (n for n in mylist if n < 0)\n",
    "print(list(gen))"
   ]
  },
  {
   "cell_type": "code",
   "execution_count": 16,
   "metadata": {},
   "outputs": [
    {
     "name": "stdout",
     "output_type": "stream",
     "text": [
      "['1', '2', '-3', '4']\n"
     ]
    }
   ],
   "source": [
    "# 当筛选标准比较复杂时可将筛选逻辑代码放在单独的函数中，\n",
    "# 然后用内建的filter()函数处理。\n",
    "values = ['1', '2', '-3', '-', '4', 'N/A']\n",
    "def is_int(val):\n",
    "    try:\n",
    "        x = int(val)\n",
    "        return True\n",
    "    except ValueError:\n",
    "        return False\n",
    "    \n",
    "ivals = list(filter(is_int, values))\n",
    "print(ivals)"
   ]
  },
  {
   "cell_type": "code",
   "execution_count": 17,
   "metadata": {},
   "outputs": [
    {
     "name": "stdout",
     "output_type": "stream",
     "text": [
      "[2, 8, 0, 20, 0, 4, 6, 0]\n"
     ]
    }
   ],
   "source": [
    "# 列表和生成器表达式具有同时对数据做转换的能力\n",
    "# 筛选条件还可以放到条件表达式中\n",
    "mylist = [1, 4, -5, 10, -7, 2, 3, -1]\n",
    "newlist = [2*n if n > 0 else 0 for n in mylist]\n",
    "print(newlist)"
   ]
  },
  {
   "cell_type": "markdown",
   "metadata": {
    "collapsed": true
   },
   "source": [
    "### 1.17 从字典中提取子集"
   ]
  },
  {
   "cell_type": "code",
   "execution_count": 2,
   "metadata": {},
   "outputs": [
    {
     "name": "stdout",
     "output_type": "stream",
     "text": [
      "{'AAPL': 612.78, 'IFM': 324.0} {'AAPL': 612.78}\n"
     ]
    }
   ],
   "source": [
    "# 用字典推导式（dictionary comprehension）解决\n",
    "price = {\n",
    "    \"ACME\": 45.23,\n",
    "    \"AAPL\": 612.78,\n",
    "    \"IFM\" : 324.00,\n",
    "    \"DJEM\": 24.34,\n",
    "    \"DEM\": 54.29\n",
    "}\n",
    "\n",
    "# Make a dictionary of all price over 200\n",
    "p1 = {key:value for key, value in price.items() if value > 200}\n",
    "\n",
    "# Make a dictionary of tech stocks\n",
    "tech_names = {\"AAPL\", \"DJFM\"}\n",
    "p2 = {key:value for key, value in price.items() if key in tech_names}\n",
    "\n",
    "print(p1, p2)"
   ]
  },
  {
   "cell_type": "markdown",
   "metadata": {},
   "source": [
    "### 1.18 将名称映射到序列的元素中"
   ]
  },
  {
   "cell_type": "markdown",
   "metadata": {},
   "source": [
    "collections.namedtuple()(命名元组)是一个工厂方法，他返回的是python中标准元组的子类。  \n",
    "我们给它提供一个类型名称以及相应的字段，他就返回一个可实例化的类。"
   ]
  },
  {
   "cell_type": "code",
   "execution_count": 3,
   "metadata": {
    "collapsed": true
   },
   "outputs": [],
   "source": [
    "from collections import namedtuple\n",
    "Subscriber = namedtuple(\"SUB\", [\"addr\", \"joined\"])\n",
    "sub = Subscriber(\"henan\", \"2014-07-08\")\n"
   ]
  },
  {
   "cell_type": "code",
   "execution_count": 7,
   "metadata": {},
   "outputs": [
    {
     "name": "stdout",
     "output_type": "stream",
     "text": [
      "somename(addr='henan', joined='2014-07-08') \n",
      " henan\n"
     ]
    }
   ],
   "source": [
    "print(sub, \"\\n\", sub.addr)"
   ]
  },
  {
   "cell_type": "markdown",
   "metadata": {},
   "source": [
    "命名元组主要作用在于将代码同它所控制的元素位置间解耦。  \n",
    "例如从数据库调用中得到一个大型的元组列表，若通过元素位置来访问数据，  \n",
    "假如在表单中新增了一列数据，代码就会崩溃。  \n",
    "可以现将返回的元组转型成命名元组，就不会出问题。"
   ]
  },
  {
   "cell_type": "code",
   "execution_count": null,
   "metadata": {
    "collapsed": true
   },
   "outputs": [],
   "source": [
    "# 普通代码\n",
    "def compute_cost(records):\n",
    "    total = 0.0\n",
    "    for rec in records:\n",
    "        total += rec[1] * rec[2]\n",
    "    return total"
   ]
  },
  {
   "cell_type": "code",
   "execution_count": null,
   "metadata": {
    "collapsed": true
   },
   "outputs": [],
   "source": [
    "# 命名元组版本\n",
    "from collections import namedtuple\n",
    "\n",
    "Stock = namedtuple(\"Stock\", [\"name\", \"shares\", \"price\"])\n",
    "def compute_cost(records):\n",
    "    total = 0.0\n",
    "    for rec in records:\n",
    "        s = Stock(*rec)\n",
    "        total += s.shares * s.price\n",
    "    return total"
   ]
  },
  {
   "cell_type": "markdown",
   "metadata": {},
   "source": [
    "namedtuple一种可能用法是做字典的替代， 但注意namedtuple是不可变的。  \n",
    "如果要修改任何属性， 可以通过namedtuple实例的_replace()方法来实现。\n",
    "_replace方法有一个微妙的用途，就是它可以作为一种简便的方法填充具有可选或缺失字段的命名元组。"
   ]
  },
  {
   "cell_type": "code",
   "execution_count": 8,
   "metadata": {},
   "outputs": [
    {
     "data": {
      "text/plain": [
       "Stock(name='ACME', shares=100, price=123.4, date=None, time=None)"
      ]
     },
     "execution_count": 8,
     "metadata": {},
     "output_type": "execute_result"
    }
   ],
   "source": [
    "from collections import namedtuple\n",
    "\n",
    "Stock = namedtuple(\"Stock\", ['name', 'shares', 'price', 'date', 'time'])\n",
    "# Create a prototype instance\n",
    "stock_prototype = Stock('', 0, 0.0, None, None)\n",
    "# Function to convert a dictionary to a Stock\n",
    "def dict_to_stock(s):\n",
    "    return stock_prototype._replace(**s)\n",
    "\n",
    "a  = {'name':'ACME', 'shares':100, 'price':123.4}\n",
    "dict_to_stock(a)"
   ]
  },
  {
   "cell_type": "markdown",
   "metadata": {},
   "source": [
    "### 1.19 同时对数据做转换和换算"
   ]
  },
  {
   "cell_type": "code",
   "execution_count": 9,
   "metadata": {},
   "outputs": [
    {
     "name": "stdout",
     "output_type": "stream",
     "text": [
      "55\n"
     ]
    }
   ],
   "source": [
    "# 在函数参数中使用生成器表达式可以优雅的做到这点\n",
    "nums = [1,2,3,4,5]\n",
    "# 不必重复使用括号\n",
    "s = sum(x*x for x in nums)\n",
    "print(s)"
   ]
  },
  {
   "cell_type": "markdown",
   "metadata": {},
   "source": [
    "### 1.20 将多个映射合并为单个映射"
   ]
  },
  {
   "cell_type": "code",
   "execution_count": 10,
   "metadata": {},
   "outputs": [
    {
     "name": "stdout",
     "output_type": "stream",
     "text": [
      "3\n"
     ]
    }
   ],
   "source": [
    "# 利用collections模块中的ChainMap类来解决\n",
    "from collections import ChainMap\n",
    "a = {'x':1, 'z':3}\n",
    "b = {'y':2, 'z':4}\n",
    "c = ChainMap(a,b)\n",
    "print(c['z'])"
   ]
  },
  {
   "cell_type": "markdown",
   "metadata": {},
   "source": [
    "* ChainMap只是简单地维护一个记录底层映射关系的列表，  \n",
    "* 然后重定义常见的字典操作来扫描这个列表。\n",
    "* 注意，修改映射的操作总是会作用在列出的第一个映射的结构上。\n",
    "* ChainMap与带有作用域的值，比如变量（全局变量、局部变量）一起工作时特别有用。"
   ]
  },
  {
   "cell_type": "code",
   "execution_count": 11,
   "metadata": {},
   "outputs": [
    {
     "name": "stdout",
     "output_type": "stream",
     "text": [
      "ChainMap({'x': 3}, {'x': 2}, {'x': 1}) \t 3\n",
      "2\n"
     ]
    }
   ],
   "source": [
    "values = ChainMap()\n",
    "values['x'] = 1\n",
    "# Add a new mapping\n",
    "values = values.new_child()\n",
    "values['x'] = 2\n",
    "# Add a new mapping\n",
    "values = values.new_child()\n",
    "values['x'] = 3\n",
    "print(values, '\\t', values['x'])\n",
    "#Discard last mapping\n",
    "values = values.parents\n",
    "print(values['x'])\n"
   ]
  }
 ],
 "metadata": {
  "kernelspec": {
   "display_name": "Python 3",
   "language": "python",
   "name": "python3"
  },
  "language_info": {
   "codemirror_mode": {
    "name": "ipython",
    "version": 3
   },
   "file_extension": ".py",
   "mimetype": "text/x-python",
   "name": "python",
   "nbconvert_exporter": "python",
   "pygments_lexer": "ipython3",
   "version": "3.6.1"
  }
 },
 "nbformat": 4,
 "nbformat_minor": 2
}

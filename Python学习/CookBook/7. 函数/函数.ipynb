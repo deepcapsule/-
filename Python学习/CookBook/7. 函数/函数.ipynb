{
 "cells": [
  {
   "cell_type": "markdown",
   "metadata": {},
   "source": [
    "### 7.1 编写可接受任意数量参数的函数"
   ]
  },
  {
   "cell_type": "code",
   "execution_count": 1,
   "metadata": {},
   "outputs": [
    {
     "name": "stdout",
     "output_type": "stream",
     "text": [
      "1.5\n",
      "2.5\n"
     ]
    }
   ],
   "source": [
    "# 要编写一个可接收任意数量的位置参数的函数，可使用以*开头的参数。\n",
    "def avg(first, *rest):\n",
    "    return (first + sum(rest)) / (1 + len(rest))\n",
    "\n",
    "print(avg(1,2))\n",
    "print(avg(1,2,3,4))"
   ]
  },
  {
   "cell_type": "code",
   "execution_count": 2,
   "metadata": {},
   "outputs": [
    {
     "name": "stdout",
     "output_type": "stream",
     "text": [
      "<item size=\"large\" quantity=\"6\">Albatross</item>\n",
      "<p>&lt;spam&gt;</p>\n"
     ]
    }
   ],
   "source": [
    "# 要要编写一个可接收任意数量的关键字参数的函数，可使用以**开头的参数。\n",
    "import html\n",
    "def make_element(name, value, **attrs):\n",
    "    keyvals = [' %s=\"%s\"' % item for item in attrs.items()]\n",
    "    attr_str = ''.join(keyvals)\n",
    "    element = '<{name}{attrs}>{value}</{name}>'.format(\n",
    "    name=name,\n",
    "    attrs=attr_str,\n",
    "    value=html.escape(value))\n",
    "    return element\n",
    "e1 = make_element('item', 'Albatross', size='large', quantity=6)\n",
    "print(e1)\n",
    "e2 = make_element('p', '<spam>')\n",
    "print(e2)"
   ]
  },
  {
   "cell_type": "markdown",
   "metadata": {},
   "source": [
    "在函数定义中，以*打头的参数只能作为最后一个位置参数出现， \n",
    "\n",
    "而以\\*\\*打头的参数只能作为最后一个参数出现。  \n",
    "微妙的是在*打头的参数后仍可以有其他参数出现，*args之后的参数只能作为关键字参数使用。"
   ]
  },
  {
   "cell_type": "markdown",
   "metadata": {},
   "source": [
    "### 7.2 编写只接受关键字参数的函数"
   ]
  },
  {
   "cell_type": "markdown",
   "metadata": {},
   "source": [
    "将关键字参数放置在以\\*打头的参数或者是一个单独的\\*之后"
   ]
  },
  {
   "cell_type": "code",
   "execution_count": 3,
   "metadata": {
    "collapsed": true
   },
   "outputs": [],
   "source": [
    "def recv(maxsize, *, block):\n",
    "    'Receive a message'\n",
    "    pass\n",
    "\n",
    "# recv(1024, True)  #TypeError\n",
    "recv(1024, block=True)   #ok"
   ]
  },
  {
   "cell_type": "code",
   "execution_count": 4,
   "metadata": {},
   "outputs": [
    {
     "name": "stdout",
     "output_type": "stream",
     "text": [
      "-5\n",
      "0\n"
     ]
    }
   ],
   "source": [
    "def minimum(*values, clip=None):\n",
    "    m = min(values)\n",
    "    if clip is not None:\n",
    "        m = clip if clip > m else m\n",
    "    return m\n",
    "\n",
    "print(minimum(1,5,2,-5,10))\n",
    "print(minimum(1,5,2,-5,10,clip=0))"
   ]
  },
  {
   "cell_type": "markdown",
   "metadata": {},
   "source": [
    "### 7.3 将元数据函数信息附加到函数参数上"
   ]
  },
  {
   "cell_type": "markdown",
   "metadata": {},
   "source": [
    "我们可以为函数参数符加一些额外的信息，这样他人可以对函数的使用方法有更多的认识和了解。  \n",
    "Python解释器并不会符加任何语法意义到这些参数注解上。"
   ]
  },
  {
   "cell_type": "code",
   "execution_count": 5,
   "metadata": {},
   "outputs": [
    {
     "name": "stdout",
     "output_type": "stream",
     "text": [
      "Help on function add in module __main__:\n",
      "\n",
      "add(x:int, y:int) -> int\n",
      "\n",
      "None\n",
      "6\n"
     ]
    }
   ],
   "source": [
    "def add(x:int, y:int) -> int:\n",
    "    return x + y\n",
    "\n",
    "print(help(add))\n",
    "print(add(2,4))"
   ]
  },
  {
   "cell_type": "markdown",
   "metadata": {},
   "source": [
    "尽管可以将任何类型的对象作为函数注解符加到函数定义上（数字、字符串、实例等），  \n",
    "但是通常只有类和字符串才显得最优"
   ]
  },
  {
   "cell_type": "markdown",
   "metadata": {},
   "source": [
    "### 7.4 从函数中返回多个值"
   ]
  },
  {
   "cell_type": "code",
   "execution_count": 6,
   "metadata": {
    "collapsed": true
   },
   "outputs": [],
   "source": [
    "# 返回元组即可\n",
    "def myfun():\n",
    "    return 1,2,3"
   ]
  },
  {
   "cell_type": "markdown",
   "metadata": {},
   "source": [
    "### 7.5 定义带有默认参数的函数"
   ]
  },
  {
   "cell_type": "markdown",
   "metadata": {},
   "source": [
    "表面看定义一个带有可选参数的函数是非常简单，只需要在定义中为参数赋值，并确保默认参数出现在最后即可。如下："
   ]
  },
  {
   "cell_type": "code",
   "execution_count": 7,
   "metadata": {},
   "outputs": [
    {
     "name": "stdout",
     "output_type": "stream",
     "text": [
      "1 42\n",
      "1 2\n"
     ]
    }
   ],
   "source": [
    "def spam(a, b=42):\n",
    "    print(a,b)\n",
    "\n",
    "spam(1)\n",
    "spam(1,2)"
   ]
  },
  {
   "cell_type": "markdown",
   "metadata": {},
   "source": [
    "如果默认值是可变容器的话，如列表、集合或者字典，那么应该把None作为默认值，代码应该像这样写："
   ]
  },
  {
   "cell_type": "code",
   "execution_count": 8,
   "metadata": {},
   "outputs": [
    {
     "name": "stdout",
     "output_type": "stream",
     "text": [
      "1 []\n",
      "1 2\n"
     ]
    }
   ],
   "source": [
    "def spam(a, b=None):\n",
    "    if b is None:\n",
    "        b = []\n",
    "    print(a, b)\n",
    "    \n",
    "spam(1)\n",
    "spam(1, 2)"
   ]
  },
  {
   "cell_type": "markdown",
   "metadata": {},
   "source": [
    "如果不打算提供一个默认值，只想编写代码来检测可选参数是否被赋予了某个特定值，那么可以采用下面这种方法："
   ]
  },
  {
   "cell_type": "code",
   "execution_count": 10,
   "metadata": {},
   "outputs": [
    {
     "name": "stdout",
     "output_type": "stream",
     "text": [
      "No b value supplied\n",
      "1 2\n",
      "1 None\n"
     ]
    }
   ],
   "source": [
    "_no_value = object()\n",
    "def spam(a, b=_no_value):\n",
    "    if b is _no_value:\n",
    "        print(\"No b value supplied\")\n",
    "    else:\n",
    "        print(a, b)\n",
    "    \n",
    "spam(1)\n",
    "spam(1, 2)\n",
    "spam(1, None)"
   ]
  },
  {
   "cell_type": "markdown",
   "metadata": {},
   "source": [
    "### 7.6 定义匿名或内联函数"
   ]
  },
  {
   "cell_type": "markdown",
   "metadata": {},
   "source": [
    "我们需要提供一个短小的回调函数为sort()这样的操作所用，又不想通过def语句编写单行函数。  \n",
    "这种简单函数可以通过lambda表达式来替代"
   ]
  },
  {
   "cell_type": "code",
   "execution_count": 12,
   "metadata": {},
   "outputs": [
    {
     "data": {
      "text/plain": [
       "5"
      ]
     },
     "execution_count": 12,
     "metadata": {},
     "output_type": "execute_result"
    }
   ],
   "source": [
    "add = lambda x, y: x + y\n",
    "add(2,3)"
   ]
  },
  {
   "cell_type": "markdown",
   "metadata": {},
   "source": [
    "一般lambda表达式用在如排序或对数据进行整理时："
   ]
  },
  {
   "cell_type": "code",
   "execution_count": 14,
   "metadata": {},
   "outputs": [
    {
     "data": {
      "text/plain": [
       "['Ned Batchelder', 'David Beazley', 'Raymond Hettinger', 'Brian Jones']"
      ]
     },
     "execution_count": 14,
     "metadata": {},
     "output_type": "execute_result"
    }
   ],
   "source": [
    "names = ['David Beazley', 'Brian Jones', 'Raymond Hettinger', 'Ned Batchelder']\n",
    "# 英文姓名按姓氏排序\n",
    "sorted(names, key=lambda name: name.split()[-1].lower())"
   ]
  },
  {
   "cell_type": "markdown",
   "metadata": {},
   "source": [
    "### 7.7 在匿名函数中绑定变量的值"
   ]
  },
  {
   "cell_type": "markdown",
   "metadata": {},
   "source": [
    "如果希望匿名函数可以在定义的时候绑定变量，并保持值不变，可以将那个值作为默认参数实现。"
   ]
  },
  {
   "cell_type": "code",
   "execution_count": 15,
   "metadata": {
    "scrolled": true
   },
   "outputs": [
    {
     "name": "stdout",
     "output_type": "stream",
     "text": [
      "20\n",
      "30\n"
     ]
    }
   ],
   "source": [
    "x = 10\n",
    "a = lambda y, x=x: x+y\n",
    "x = 20\n",
    "b = lambda y, x=x: x+y\n",
    "print(a(10))\n",
    "print(b(10))"
   ]
  },
  {
   "cell_type": "markdown",
   "metadata": {},
   "source": [
    "通过列表推导式来创建一列lambda表达式，或者在一个循环中期望lambda表达式能够在定义时候记住迭代变量，如下："
   ]
  },
  {
   "cell_type": "code",
   "execution_count": 16,
   "metadata": {
    "scrolled": true
   },
   "outputs": [
    {
     "name": "stdout",
     "output_type": "stream",
     "text": [
      "0\n",
      "1\n",
      "2\n",
      "3\n",
      "4\n"
     ]
    }
   ],
   "source": [
    "funcs = [lambda x, n=n: x+n for n in range(5)]\n",
    "for f in funcs:\n",
    "    print(f(0))"
   ]
  },
  {
   "cell_type": "markdown",
   "metadata": {},
   "source": [
    "### 7.8 让带有N个参数的可调用对象以较少的参数形式调用"
   ]
  },
  {
   "cell_type": "markdown",
   "metadata": {},
   "source": [
    "用functools.partial()"
   ]
  },
  {
   "cell_type": "code",
   "execution_count": 17,
   "metadata": {},
   "outputs": [
    {
     "name": "stdout",
     "output_type": "stream",
     "text": [
      "1 2 3 4\n",
      "1 4 5 6\n",
      "1 2 3 42\n"
     ]
    }
   ],
   "source": [
    "def spam(a,b,c,d):\n",
    "    print(a, b, c, d)\n",
    "    \n",
    "from functools import partial\n",
    "s1 = partial(spam, 1)\n",
    "s1(2,3,4)\n",
    "s1(4,5,6)\n",
    "\n",
    "s2 = partial(spam, d=42)\n",
    "s2(1,2,3)"
   ]
  },
  {
   "cell_type": "markdown",
   "metadata": {},
   "source": [
    "这种技术可以将看似不兼容的代码结合起来。"
   ]
  },
  {
   "cell_type": "markdown",
   "metadata": {},
   "source": [
    "假设有一列以元组(x,y)来表示的点坐标。可以用下面的函数来计算两点之间的距离。"
   ]
  },
  {
   "cell_type": "code",
   "execution_count": 2,
   "metadata": {
    "collapsed": true
   },
   "outputs": [],
   "source": [
    "points = [(1,2), (3,4), (5,6), (7,8)]\n",
    "import math\n",
    "def distance(p1, p2):\n",
    "    x1,y1 = p1\n",
    "    x2,y2 = p2\n",
    "    return math.hypot(x2-x1, y2-y1)"
   ]
  },
  {
   "cell_type": "markdown",
   "metadata": {},
   "source": [
    "现在假设想根据这些点之间的距离来对他们排序。列表的sort()方法可接受一个key参数，它可以用来做自定义的排序处理。但是它只能和接受单参数的函数一起工作（因此和distance（）是不兼容的）。我们用partial()来解决这个问题："
   ]
  },
  {
   "cell_type": "code",
   "execution_count": 5,
   "metadata": {},
   "outputs": [
    {
     "name": "stdout",
     "output_type": "stream",
     "text": [
      "[(3, 4), (1, 2), (5, 6), (7, 8)]\n"
     ]
    }
   ],
   "source": [
    "pt = (4, 3)\n",
    "from functools import partial\n",
    "points.sort(key=partial(distance,pt))\n",
    "print(points)"
   ]
  },
  {
   "cell_type": "markdown",
   "metadata": {},
   "source": [
    "partial()常常可用来调整其他库中用到的回调函数的参数签名。  \n",
    "这里有一段代码利用multiprocessing模块以异步方式计算某个结果，并将这个结果传递给一个回调函数。该回调函数可接受这个结果以及一个可选的日志参数。  "
   ]
  },
  {
   "cell_type": "markdown",
   "metadata": {},
   "source": [
    "```python\n",
    "def output_result(result, log=None):\n",
    "    if log is not None:\n",
    "        log.debug('Got: %r', result)\n",
    "        \n",
    "# A simple function\n",
    "def add(x, y):\n",
    "    return x + y\n",
    "\n",
    "import logging\n",
    "from multiprocessing import Pool\n",
    "from functools import partial\n",
    "if __name__ = \"__main__\":\n",
    "    logging.basicConfig(level=logging.DEBUG)\n",
    "    log = logging.getLogger('test')\n",
    "\n",
    "    p = Pool()\n",
    "    p.apply_async(add, (3, 4), callback=partial(output_result, log=log))\n",
    "    p.close()\n",
    "    p.join()\n",
    "```"
   ]
  },
  {
   "cell_type": "markdown",
   "metadata": {},
   "source": [
    "编写网络服务器程序"
   ]
  },
  {
   "cell_type": "code",
   "execution_count": null,
   "metadata": {
    "collapsed": true
   },
   "outputs": [],
   "source": [
    "from socketserver import StreamRequestHandler, TCPServer\n",
    "\n",
    "class EchoHandler(StreamRequestHandler):\n",
    "    def handle(self):\n",
    "        for line in self.rfile:\n",
    "            self.wfile.write(b'GOT:' + line)\n",
    "            \n",
    "serv = TCPServer(('', 15000), EchoHandler)\n",
    "serv.serv_forever()"
   ]
  },
  {
   "cell_type": "markdown",
   "metadata": {},
   "source": [
    "假如我们想在EchoHandler类中增加一个__init__()方法， 让它接受一个额外的配置参数。如下："
   ]
  },
  {
   "cell_type": "code",
   "execution_count": null,
   "metadata": {
    "collapsed": true
   },
   "outputs": [],
   "source": [
    "class EchoHandler(StreamRequestHandler):\n",
    "    # ack is added keyword-only argument. *args, **kwargs are\n",
    "    # any normal parameters supplied (which are passed on)\n",
    "    def __init__(self, *args, ack, **kwargs):\n",
    "        self.ack = ack\n",
    "        super().__init__(*args, **kwargs)\n",
    "    def handle(self):\n",
    "        for line in self.rfile:\n",
    "            self.wfile.write(self.ack + line)"
   ]
  },
  {
   "cell_type": "markdown",
   "metadata": {},
   "source": [
    "事实上，改动之后没法简单地将其插入到TCPServer类中了。但是，可以利用partial()能轻松解决这个问题。"
   ]
  },
  {
   "cell_type": "code",
   "execution_count": null,
   "metadata": {
    "collapsed": true
   },
   "outputs": [],
   "source": [
    "from functools import partial\n",
    "serv = TcpServer(('', 15000), partial(EchoHandler, ack=b'RECEIVED:'))\n",
    "serv.serve_forever()"
   ]
  },
  {
   "cell_type": "markdown",
   "metadata": {},
   "source": [
    "有时候也可以通过lambda表达式来替代partial().\n",
    "\n",
    "```python\n",
    "points.sort(key=lambda p: distance(pt, p))\n",
    "p.apply_async(add, (3, 4), callback=lambda result: output_sesult(result, log))\n",
    "serv = TCPServer(('', 15000), \n",
    "                lambda *args, **kwargs: EchoHandler(*args, ack=b'RECEIVED:', **kwargs))\n",
    "```"
   ]
  }
 ],
 "metadata": {
  "kernelspec": {
   "display_name": "Python 3",
   "language": "python",
   "name": "python3"
  },
  "language_info": {
   "codemirror_mode": {
    "name": "ipython",
    "version": 3
   },
   "file_extension": ".py",
   "mimetype": "text/x-python",
   "name": "python",
   "nbconvert_exporter": "python",
   "pygments_lexer": "ipython3",
   "version": "3.6.1"
  }
 },
 "nbformat": 4,
 "nbformat_minor": 2
}

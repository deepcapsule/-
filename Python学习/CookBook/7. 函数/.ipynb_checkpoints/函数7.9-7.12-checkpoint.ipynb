{
 "cells": [
  {
   "cell_type": "markdown",
   "metadata": {},
   "source": [
    "### 7.9 用函数替代只有单个方法地类"
   ]
  },
  {
   "cell_type": "markdown",
   "metadata": {},
   "source": [
    "我们有一个只定义了一个方法地类（除了__init__()方法外）。但是为了简化代码，我们更希望能用一个简单地函数替代。"
   ]
  },
  {
   "cell_type": "markdown",
   "metadata": {},
   "source": [
    "通常情况下，只有单个方法地类可以通过闭包（closure）将其转换成函数。"
   ]
  },
  {
   "cell_type": "code",
   "execution_count": 2,
   "metadata": {},
   "outputs": [],
   "source": [
    "from urllib.request import urlopen\n",
    "\n",
    "class UrlTemplate:\n",
    "    def __init__(self, template):\n",
    "        self.template = template\n",
    "    def open(self, **kwargs):\n",
    "        return urlopen(self.template.format_map(kwargs))\n",
    "    \n",
    "# # Example use. Download stock data from yahoo\n",
    "# yahoo = UrlTemplate('http://finace.yahoo.com/d/quotes.csv?s={names}&f={fields}')\n",
    "# for line in yahoo.open(names='IBM,AAPL,FB', fields='sllclv'):\n",
    "#    print(line.decode('utf-8'))"
   ]
  },
  {
   "cell_type": "markdown",
   "metadata": {},
   "source": [
    "这个类可以用一个简单地函数来取代："
   ]
  },
  {
   "cell_type": "code",
   "execution_count": null,
   "metadata": {
    "collapsed": true
   },
   "outputs": [],
   "source": [
    "def  urltemplate(template):\n",
    "    def opener(**kwargs):\n",
    "        return urlopen(template.format_map(kwargs))\n",
    "    return opener\n",
    "\n",
    "# # Example use\n",
    "# yahoo = urltemplate('http://finace.yahoo.com/d/quotes.csv?s={names}&f={fields}')\n",
    "# for line in yahoo(names='IBM,AAPL,FB', fields='sllclv'):\n",
    "#     print(line.decode('utf-8'))"
   ]
  },
  {
   "cell_type": "markdown",
   "metadata": {},
   "source": [
    "### 7.10 在回调函数中携带额外地状态"
   ]
  },
  {
   "cell_type": "code",
   "execution_count": 19,
   "metadata": {},
   "outputs": [
    {
     "name": "stdout",
     "output_type": "stream",
     "text": [
      "Got: 5\n",
      "Got: hello world\n"
     ]
    }
   ],
   "source": [
    "def apply_async(func, args, *, callback):\n",
    "    # Compute the result\n",
    "    result = func(*args)\n",
    "    \n",
    "    # Invoke the callback with the result\n",
    "    return callback(result)\n",
    "    \n",
    "def print_result(result):\n",
    "    print('Got:', result)\n",
    "    \n",
    "def add(x, y):\n",
    "    return x + y\n",
    "\n",
    "apply_async(add, (2, 3), callback=print_result)\n",
    "apply_async(add, (\"hello \", \"world\"), callback=print_result)"
   ]
  },
  {
   "cell_type": "markdown",
   "metadata": {},
   "source": [
    "我们注意到函数print_result()仅接受一个单独的参数，也就是result。  \n",
    "有时我们希望回调函数也可以同其他变量或者部分环境就行交互。  \n",
    "一种在回调函数中携带额外信息的方法是使用绑定方法（bound-method)而不是普通的函数。"
   ]
  },
  {
   "cell_type": "markdown",
   "metadata": {},
   "source": [
    "下面这个类保存了一个内部的序列号码，每当接收到一个结果时就递增这个号码。"
   ]
  },
  {
   "cell_type": "code",
   "execution_count": 5,
   "metadata": {},
   "outputs": [
    {
     "name": "stdout",
     "output_type": "stream",
     "text": [
      "[1] Got: 5\n",
      "[2] Got: hello world\n"
     ]
    }
   ],
   "source": [
    "class ResultHandler:\n",
    "    def __init__(self):\n",
    "        self.sequence = 0\n",
    "    def handler(self, result):\n",
    "        self.sequence += 1\n",
    "        print('[{}] Got: {}'.format(self.sequence, result))\n",
    "        \n",
    "r = ResultHandler()\n",
    "apply_async(add, (2, 3), callback=r.handler)\n",
    "apply_async(add, (\"hello \", \"world\"), callback=r.handler)"
   ]
  },
  {
   "cell_type": "markdown",
   "metadata": {},
   "source": [
    "作为类的替代方案，也可以使用闭包来捕获状态。"
   ]
  },
  {
   "cell_type": "code",
   "execution_count": 20,
   "metadata": {},
   "outputs": [
    {
     "name": "stdout",
     "output_type": "stream",
     "text": [
      "[1] Got: 5\n",
      "[2] Got: hello world\n"
     ]
    }
   ],
   "source": [
    "def make_handler():\n",
    "    sequence = 0\n",
    "    def handler(result):\n",
    "        nonlocal sequence\n",
    "        sequence += 1\n",
    "        print('[{}] Got: {}'.format(sequence, result))\n",
    "    return handler\n",
    "\n",
    "handler = make_handler()\n",
    "apply_async(add, (2, 3), callback=handler)\n",
    "apply_async(add, (\"hello \", \"world\"), callback=handler)"
   ]
  },
  {
   "cell_type": "markdown",
   "metadata": {},
   "source": [
    "也可以用协程（coroutine）来完成这个任务。"
   ]
  },
  {
   "cell_type": "code",
   "execution_count": 28,
   "metadata": {
    "scrolled": true
   },
   "outputs": [
    {
     "name": "stdout",
     "output_type": "stream",
     "text": [
      "[1] Got: 5\n",
      "[2] Got: hello world\n"
     ]
    }
   ],
   "source": [
    "def make_handler():\n",
    "    sequence = 0\n",
    "    while True:\n",
    "        result = yield\n",
    "        sequence += 1\n",
    "        print('[{}] Got: {}'.format(sequence, result))\n",
    "\n",
    "handler = make_handler()\n",
    "next(handler) # Advance to the yield\n",
    "apply_async(add, (2, 3), callback=handler.send)\n",
    "apply_async(add, (\"hello \", \"world\"), callback=handler.send)"
   ]
  },
  {
   "cell_type": "markdown",
   "metadata": {},
   "source": [
    "也可以通过额外的参数在回调函数中携带状态，然后用partial()来处理参数个数问题。"
   ]
  },
  {
   "cell_type": "code",
   "execution_count": 29,
   "metadata": {},
   "outputs": [
    {
     "name": "stdout",
     "output_type": "stream",
     "text": [
      "[1] Got: 5\n",
      "[2] Got: hello world\n"
     ]
    }
   ],
   "source": [
    "class SequenceNo:\n",
    "    def __init__(self):\n",
    "        self.sequence = 0\n",
    "        \n",
    "def handler(result, seq):\n",
    "    seq.sequence += 1\n",
    "    print('[{}] Got: {}'.format(seq.sequence, result))\n",
    "    \n",
    "seq = SequenceNo()\n",
    "from functools import partial\n",
    "\n",
    "apply_async(add, (2, 3), callback=partial(handler, seq=seq))\n",
    "apply_async(add, (\"hello \", \"world\"), callback=partial(handler, seq=seq))"
   ]
  },
  {
   "cell_type": "markdown",
   "metadata": {},
   "source": [
    "### 7.11 内联回调函数"
   ]
  },
  {
   "cell_type": "markdown",
   "metadata": {},
   "source": [
    "假设有一个函数会按如下方式调用回调函数"
   ]
  },
  {
   "cell_type": "code",
   "execution_count": null,
   "metadata": {
    "collapsed": true
   },
   "outputs": [],
   "source": [
    "def apply_async(func, args, *, callback):\n",
    "    # Compute the result\n",
    "    result = func(*args)\n",
    "    \n",
    "    # Invoke the callback with the result\n",
    "    callback(result)"
   ]
  },
  {
   "cell_type": "markdown",
   "metadata": {},
   "source": [
    "内联的版本如下："
   ]
  },
  {
   "cell_type": "code",
   "execution_count": 30,
   "metadata": {
    "scrolled": false
   },
   "outputs": [
    {
     "name": "stdout",
     "output_type": "stream",
     "text": [
      "5\n",
      "hello world\n",
      "0\n",
      "2\n",
      "4\n",
      "6\n",
      "8\n",
      "10\n",
      "12\n",
      "14\n",
      "16\n",
      "18\n",
      "Goodbye\n"
     ]
    }
   ],
   "source": [
    "from queue import Queue\n",
    "from functools import wraps\n",
    "\n",
    "class Async:\n",
    "    def __init__(self, func, args):\n",
    "        self.func = func\n",
    "        self.args = args\n",
    "\n",
    "\n",
    "def inlined_async(func):\n",
    "    @wraps(func)\n",
    "    def wrapper(*args):\n",
    "        f = func(*args)\n",
    "        result_queue = Queue()\n",
    "        result_queue.put(None)\n",
    "        while True:\n",
    "            result = result_queue.get()\n",
    "            try:\n",
    "                a = f.send(result)\n",
    "                apply_async(a.func, a.args, callback=result_queue.put)\n",
    "            except StopIteration:\n",
    "                break\n",
    "    return wrapper\n",
    "\n",
    "# 我们通过yield语句将回调函数变为内联的\n",
    "def add(x, y):\n",
    "    return x + y\n",
    "\n",
    "@inlined_async\n",
    "def test():\n",
    "    r = yield Async(add, (2, 3))\n",
    "    print(r)\n",
    "    r = yield Async(add, ('hello ', 'world'))\n",
    "    print(r)\n",
    "    for n in range(10):\n",
    "        r = yield Async(add, (n, n))\n",
    "        print(r)\n",
    "    print('Goodbye')\n",
    "    \n",
    "test()"
   ]
  },
  {
   "cell_type": "markdown",
   "metadata": {},
   "source": [
    "### 7.12 访问定义在闭包内的变量"
   ]
  },
  {
   "cell_type": "markdown",
   "metadata": {},
   "source": [
    "一般来说，在闭包内层定义的变量对于外界来说是完全隔离的。但是，可以通过编写存取函数（accessor function， 即 getter/setter方法）并将他们作为函数属性附加到闭包上来提供对内层变量的访问支持。"
   ]
  },
  {
   "cell_type": "code",
   "execution_count": 31,
   "metadata": {
    "collapsed": true
   },
   "outputs": [],
   "source": [
    "def sample():\n",
    "    n = 0\n",
    "    # Closure function\n",
    "    def func():\n",
    "        print('n= ', n)\n",
    "        \n",
    "    # Accessor methods for n\n",
    "    def get_n():\n",
    "        return n\n",
    "    \n",
    "    def set_n(value):\n",
    "        nonlocal n\n",
    "        n = value\n",
    "        \n",
    "    # Attach as function attriutes\n",
    "    func.get_n = get_n\n",
    "    func.set_n = set_n\n",
    "    \n",
    "    return func"
   ]
  },
  {
   "cell_type": "code",
   "execution_count": 32,
   "metadata": {},
   "outputs": [
    {
     "name": "stdout",
     "output_type": "stream",
     "text": [
      "n=  0\n"
     ]
    }
   ],
   "source": [
    "f = sample()\n",
    "f()"
   ]
  },
  {
   "cell_type": "code",
   "execution_count": 33,
   "metadata": {
    "collapsed": true
   },
   "outputs": [],
   "source": [
    "f.set_n(10)"
   ]
  },
  {
   "cell_type": "code",
   "execution_count": 34,
   "metadata": {},
   "outputs": [
    {
     "data": {
      "text/plain": [
       "10"
      ]
     },
     "execution_count": 34,
     "metadata": {},
     "output_type": "execute_result"
    }
   ],
   "source": [
    "f.get_n()"
   ]
  },
  {
   "cell_type": "markdown",
   "metadata": {},
   "source": [
    "我们对本节的技术稍做扩展就可以让闭包模拟成类实例。我们要做的就是将内层函数拷贝到一个实例的字典中然后将它返回。"
   ]
  },
  {
   "cell_type": "code",
   "execution_count": 46,
   "metadata": {
    "collapsed": true
   },
   "outputs": [],
   "source": [
    "import sys\n",
    "class ClosureInstance:\n",
    "    def __init__(self, local=None):\n",
    "        if local is None:\n",
    "            local = sys._getframe(1).f_locals\n",
    "            \n",
    "        # Update instance dictionary with callables\n",
    "        self.__dict__.update((key, value) for key, value in local.items() \n",
    "                            if callable(value))\n",
    "        \n",
    "    # Redirect special methods\n",
    "    def __len__(self):\n",
    "        return self.__dict__['__len__']()\n",
    "    \n",
    "\n",
    "# Example use\n",
    "def Stack():\n",
    "    items = []\n",
    "    \n",
    "    def push(item):\n",
    "        items.append(item)\n",
    "        \n",
    "    def pop():\n",
    "        return items.pop()\n",
    "    \n",
    "    def __len__():\n",
    "        return len(items)\n",
    "    return ClosureInstance()"
   ]
  },
  {
   "cell_type": "code",
   "execution_count": 47,
   "metadata": {},
   "outputs": [
    {
     "name": "stdout",
     "output_type": "stream",
     "text": [
      "<__main__.ClosureInstance object at 0x00000227E3E4A5F8>\n"
     ]
    }
   ],
   "source": [
    "s = Stack()\n",
    "print(s)"
   ]
  },
  {
   "cell_type": "code",
   "execution_count": 48,
   "metadata": {},
   "outputs": [
    {
     "data": {
      "text/plain": [
       "3"
      ]
     },
     "execution_count": 48,
     "metadata": {},
     "output_type": "execute_result"
    }
   ],
   "source": [
    "s.push(10)\n",
    "s.push(20)\n",
    "s.push('Hello')\n",
    "len(s)"
   ]
  }
 ],
 "metadata": {
  "kernelspec": {
   "display_name": "Python 3",
   "language": "python",
   "name": "python3"
  },
  "language_info": {
   "codemirror_mode": {
    "name": "ipython",
    "version": 3
   },
   "file_extension": ".py",
   "mimetype": "text/x-python",
   "name": "python",
   "nbconvert_exporter": "python",
   "pygments_lexer": "ipython3",
   "version": "3.6.1"
  }
 },
 "nbformat": 4,
 "nbformat_minor": 2
}

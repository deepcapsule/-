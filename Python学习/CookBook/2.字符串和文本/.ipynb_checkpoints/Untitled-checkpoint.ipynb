{
 "cells": [
  {
   "cell_type": "markdown",
   "metadata": {},
   "source": [
    "### 2.1 针对任意多的分割符拆分字符串"
   ]
  },
  {
   "cell_type": "code",
   "execution_count": 1,
   "metadata": {},
   "outputs": [
    {
     "name": "stdout",
     "output_type": "stream",
     "text": [
      "['asdf', 'fsds', 'aaff', 'foif', 'adfk', 'fjfk']\n"
     ]
    }
   ],
   "source": [
    "# 用re.split()\n",
    "line = 'asdf fsds; aaff, foif,adfk,         fjfk'\n",
    "import re\n",
    "print(re.split(r'[;,\\s]\\s*', line))"
   ]
  },
  {
   "cell_type": "markdown",
   "metadata": {},
   "source": [
    "在使用re.split()时，需要小心正则表达式中的捕获组。"
   ]
  },
  {
   "cell_type": "code",
   "execution_count": 5,
   "metadata": {},
   "outputs": [
    {
     "name": "stdout",
     "output_type": "stream",
     "text": [
      "['asdf', ' ', 'fsds', ';', 'aaff', ',', 'foif', ',', 'adfk', ',', 'fjfk']\n"
     ]
    }
   ],
   "source": [
    "line = 'asdf fsds; aaff, foif,adfk,         fjfk'\n",
    "import re\n",
    "fields = re.split(r'(;|,|\\s)\\s*', line)\n",
    "print(fields)"
   ]
  },
  {
   "cell_type": "code",
   "execution_count": 6,
   "metadata": {},
   "outputs": [
    {
     "name": "stdout",
     "output_type": "stream",
     "text": [
      "asdf fsds;aaff,foif,adfk,fjfk\n"
     ]
    }
   ],
   "source": [
    "values = fields[::2]\n",
    "delimiters = fields[1::2] + ['']\n",
    "result = ''.join(v+d for v,d in zip(values, delimiters))\n",
    "print(result)"
   ]
  },
  {
   "cell_type": "markdown",
   "metadata": {},
   "source": [
    "### 2.2 在字符串的开头或结尾处做文本匹配 "
   ]
  },
  {
   "cell_type": "markdown",
   "metadata": {},
   "source": [
    "用str.starswith()和str.endswith()就可以了。  \n",
    "如果需要同时针对多个选项进行检查，只需要给startswith()和endswith()提供包含可能选项的元组即可。"
   ]
  },
  {
   "cell_type": "code",
   "execution_count": 7,
   "metadata": {},
   "outputs": [
    {
     "name": "stdout",
     "output_type": "stream",
     "text": [
      "['foo.c', 'spam.h']\n"
     ]
    }
   ],
   "source": [
    "filenames = ['makefile', 'foo.c', 'bar.py', 'spam.h']\n",
    "# 这里针对多个选项，必须传入元组\n",
    "print([name for name in filenames if name.endswith(('.c', '.h'))])"
   ]
  },
  {
   "cell_type": "markdown",
   "metadata": {},
   "source": [
    "### 2.3 利用Shell通配符做字符串匹配"
   ]
  },
  {
   "cell_type": "markdown",
   "metadata": {},
   "source": [
    "fnmatch模块提供了两个函数fnmatch()和fnmatchcase()"
   ]
  },
  {
   "cell_type": "code",
   "execution_count": 8,
   "metadata": {},
   "outputs": [
    {
     "data": {
      "text/plain": [
       "True"
      ]
     },
     "execution_count": 8,
     "metadata": {},
     "output_type": "execute_result"
    }
   ],
   "source": [
    "from fnmatch import fnmatch, fnmatchcase\n",
    "fnmatch('foo.txt', '*.txt')"
   ]
  },
  {
   "cell_type": "markdown",
   "metadata": {},
   "source": [
    "fnmatch()的匹配模式所采用的大小写区分规则和底层文件系统相同。  \n",
    "可以用fnmatchcase()来根据我们提供的大小写来匹配。"
   ]
  },
  {
   "cell_type": "code",
   "execution_count": 9,
   "metadata": {},
   "outputs": [
    {
     "data": {
      "text/plain": [
       "False"
      ]
     },
     "execution_count": 9,
     "metadata": {},
     "output_type": "execute_result"
    }
   ],
   "source": [
    "fnmatchcase('foo.txt', '*.TXT')"
   ]
  },
  {
   "cell_type": "markdown",
   "metadata": {},
   "source": [
    "### 2.4 文本模式的匹配和查找"
   ]
  },
  {
   "cell_type": "markdown",
   "metadata": {},
   "source": [
    "可以用re（正则表达式）模块。"
   ]
  },
  {
   "cell_type": "code",
   "execution_count": 35,
   "metadata": {},
   "outputs": [
    {
     "data": {
      "text/plain": [
       "<_sre.SRE_Match object; span=(0, 4), match='\\\\2/3'>"
      ]
     },
     "execution_count": 35,
     "metadata": {},
     "output_type": "execute_result"
    }
   ],
   "source": [
    "import re\n",
    "re.match(r'(\\\\\\d)/(\\d)', r'\\2/3')"
   ]
  },
  {
   "cell_type": "markdown",
   "metadata": {},
   "source": [
    "### 2.5 查找和替换文本"
   ]
  },
  {
   "cell_type": "code",
   "execution_count": 36,
   "metadata": {},
   "outputs": [
    {
     "data": {
      "text/plain": [
       "'Today is 2019-09-05.'"
      ]
     },
     "execution_count": 36,
     "metadata": {},
     "output_type": "execute_result"
    }
   ],
   "source": [
    "text = \"Today is 09/05/2019.\"\n",
    "import re\n",
    "# sub()的第一个参数是要匹配的模式，\n",
    "# 第二个参数是要替换成的模式\n",
    "# \"\\3\"这样的反斜线加数字的符号代表模式捕获组\n",
    "re.sub(r'(\\d+)/(\\d+)/(\\d+)', r'\\3-\\1-\\2', text)"
   ]
  },
  {
   "cell_type": "code",
   "execution_count": 41,
   "metadata": {},
   "outputs": [
    {
     "data": {
      "text/plain": [
       "'Today is 05 Sep 2019.'"
      ]
     },
     "execution_count": 41,
     "metadata": {},
     "output_type": "execute_result"
    }
   ],
   "source": [
    "# 对于更加复杂的情况，可以指定一个替换回调函数。\n",
    "from calendar import month_abbr\n",
    "text = \"Today is 09/05/2019.\"\n",
    "def change_date(m):\n",
    "    mon_name = month_abbr[int(m.group(1))]\n",
    "    return '{} {} {}'.format(m.group(2), mon_name, m.group(3))\n",
    "datapat = re.compile(r'(\\d+)/(\\d+)/(\\d+)')\n",
    "datapat.sub(change_date, text)"
   ]
  },
  {
   "cell_type": "markdown",
   "metadata": {},
   "source": [
    "##  2.6 以不区分大小写的方式对文本做查找和替换"
   ]
  },
  {
   "cell_type": "code",
   "execution_count": 42,
   "metadata": {},
   "outputs": [
    {
     "data": {
      "text/plain": [
       "['PYTHON', 'python', 'Python']"
      ]
     },
     "execution_count": 42,
     "metadata": {},
     "output_type": "execute_result"
    }
   ],
   "source": [
    "# 用re.IGNORECASE\n",
    "text = \"UPPER PYTHON, lower python, Mixed Python\"\n",
    "re.findall('python', text, re.I)"
   ]
  },
  {
   "cell_type": "code",
   "execution_count": 44,
   "metadata": {},
   "outputs": [
    {
     "data": {
      "text/plain": [
       "'UPPER snake, lower snake, Mixed snake'"
      ]
     },
     "execution_count": 44,
     "metadata": {},
     "output_type": "execute_result"
    }
   ],
   "source": [
    "# re.I的局限性，待替换的文本与匹配的文本大小写并不吻合。\n",
    "text = \"UPPER PYTHON, lower python, Mixed Python\"\n",
    "re.sub('python', 'snake', text, flags = re.I)"
   ]
  },
  {
   "cell_type": "code",
   "execution_count": 45,
   "metadata": {},
   "outputs": [
    {
     "data": {
      "text/plain": [
       "'UPPER SNAKE, lower snake, Mixed Snake'"
      ]
     },
     "execution_count": 45,
     "metadata": {},
     "output_type": "execute_result"
    }
   ],
   "source": [
    "# 用支撑函数（support function）修正上述问题。\n",
    "def matchcase(word):\n",
    "    def replace(m):\n",
    "        text = m.group()\n",
    "        if text.isupper():\n",
    "            return word.upper()\n",
    "        elif text.islower():\n",
    "            return word.lower()\n",
    "        elif text[0].isupper():\n",
    "            return word.capitalize()\n",
    "        else:\n",
    "            return word\n",
    "    return replace\n",
    "\n",
    "text = \"UPPER PYTHON, lower python, Mixed Python\"\n",
    "import re\n",
    "re.sub('python', matchcase('snake'), text, flags = re.I)"
   ]
  },
  {
   "cell_type": "markdown",
   "metadata": {},
   "source": [
    "### 2.7 定义实现最短匹配的正则表达式"
   ]
  },
  {
   "cell_type": "markdown",
   "metadata": {},
   "source": [
    "*操作符在正则表达式中采用的是贪心策咯。  \n",
    "在*操作符后加上?操作符则表示非贪心策略，就能产生处最短的匹配了。"
   ]
  },
  {
   "cell_type": "markdown",
   "metadata": {},
   "source": [
    "### 2.8 编写多行模式的正则表达式"
   ]
  },
  {
   "cell_type": "code",
   "execution_count": 63,
   "metadata": {},
   "outputs": [
    {
     "name": "stdout",
     "output_type": "stream",
     "text": [
      "[' this is a \\n        multiline comment ']\n",
      "[' this is a \\n        multiline comment ']\n"
     ]
    }
   ],
   "source": [
    "import re\n",
    "text = \"\"\"/* this is a \n",
    "        multiline comment */\"\"\"\n",
    "# 在re.compile()函数中传入标志re.DOTALL,使正则中句点(.)能匹配所有字符。\n",
    "comment = re.compile(r'/\\*(.*?)\\*/', flags= re.DOTALL)\n",
    "# 使用(?:.|\\n)指定一个非捕获组，只做匹配但不捕获结果，也不分配组号。\n",
    "comment2 = re.compile(r'/\\*((?:.|\\n)*?)\\*/')\n",
    "print(comment.findall(text))\n",
    "print(comment2.findall(text))"
   ]
  },
  {
   "cell_type": "markdown",
   "metadata": {},
   "source": [
    "### 2.9 将Unicode文本统一表示为规范形式"
   ]
  },
  {
   "cell_type": "markdown",
   "metadata": {},
   "source": [
    "在unicode中，有些特定字符可以被表示成多种合法的代码点序列。如下："
   ]
  },
  {
   "cell_type": "code",
   "execution_count": 64,
   "metadata": {},
   "outputs": [
    {
     "name": "stdout",
     "output_type": "stream",
     "text": [
      "Spicy Jalapeño\n",
      "Spicy Jalapeño\n",
      "False 14 15\n"
     ]
    }
   ],
   "source": [
    "s1 = 'Spicy Jalape\\u00f1o'\n",
    "s2 = 'Spicy Jalapen\\u0303o'\n",
    "print(s1)\n",
    "print(s2)\n",
    "print(s1==s2, len(s1), len(s2))"
   ]
  },
  {
   "cell_type": "markdown",
   "metadata": {},
   "source": [
    "对于上述情况，可通过unicodedata模块来处理.  \n",
    "unicodedata.normalize()第一个参数指定了字符串应该如何完成规范表示。  \n",
    "NFC表示字符应该是全组成的（即如果可能的话用单个代码点）。  \n",
    "NFD表示应该使用组合字符。 \n",
    "Python还支持NFKC和KNFKD，为一些特定类型的字符增加了额外兼容功能。  \n",
    "unicodedata.combining()函数用来检测字符是否为一个组合型字符。"
   ]
  },
  {
   "cell_type": "code",
   "execution_count": 65,
   "metadata": {
    "scrolled": true
   },
   "outputs": [
    {
     "name": "stdout",
     "output_type": "stream",
     "text": [
      "True\n",
      "'Spicy Jalape\\xf1o'\n",
      "True\n",
      "'Spicy Jalapen\\u0303o'\n"
     ]
    }
   ],
   "source": [
    "import unicodedata\n",
    "s1 = 'Spicy Jalape\\u00f1o'\n",
    "s2 = 'Spicy Jalapen\\u0303o'\n",
    "t1 = unicodedata.normalize('NFC', s1)\n",
    "t2 = unicodedata.normalize('NFC', s2)\n",
    "print(t1==t2)\n",
    "print(ascii(t1))\n",
    "t3 = unicodedata.normalize('NFD', s1)\n",
    "t4 = unicodedata.normalize('NFD', s2)\n",
    "print(t3==t4)\n",
    "print(ascii(t3))"
   ]
  },
  {
   "cell_type": "markdown",
   "metadata": {},
   "source": [
    "### 2.10 用正则表达式处理Unicode字符"
   ]
  },
  {
   "cell_type": "markdown",
   "metadata": {},
   "source": [
    "把Unicode和正则表达式混在一起使用很令人头疼，如果必须这样做，应考虑安装第三方正则表达式库（http://pypi.python.org/pypi/regex）"
   ]
  },
  {
   "cell_type": "markdown",
   "metadata": {},
   "source": [
    "###  2.11 从字符串中去掉不需要的字符"
   ]
  },
  {
   "cell_type": "markdown",
   "metadata": {},
   "source": [
    "字符串的strip()方法可从字符串的开始和结尾去掉字符。  \n",
    "lstrip()和rstrip()可去掉左侧或右侧的字符。  \n",
    "这些方法默认去掉空格符和换行符，但也可以通过指定去掉其他字符。"
   ]
  },
  {
   "cell_type": "code",
   "execution_count": 75,
   "metadata": {
    "collapsed": true
   },
   "outputs": [],
   "source": [
    "s = '-- h-ello world \\n-'"
   ]
  },
  {
   "cell_type": "code",
   "execution_count": 76,
   "metadata": {},
   "outputs": [
    {
     "data": {
      "text/plain": [
       "' h-ello world \\n-'"
      ]
     },
     "execution_count": 76,
     "metadata": {},
     "output_type": "execute_result"
    }
   ],
   "source": [
    "s.lstrip('-')"
   ]
  },
  {
   "cell_type": "markdown",
   "metadata": {},
   "source": [
    "我们通常会遇到的情况是将去字符串的 操作同某些迭代操作结合起来。  \n",
    "如从文件中读取文本行，这时可以使用生成器,就会很高效。\n",
    "```python\n",
    "with open(filename) as f:\n",
    "    # 这里的作用是完成数据的转换（即去开头和结尾的空白符）\n",
    "    lines = (line.strip() for line in f)\n",
    "    for line in lines:\n",
    "        pass\n",
    "```"
   ]
  },
  {
   "cell_type": "markdown",
   "metadata": {},
   "source": [
    "###  2.12 文本过滤和清理"
   ]
  },
  {
   "cell_type": "markdown",
   "metadata": {},
   "source": [
    "简单的文本转换有str.upper()和str.lower()等。  \n",
    "简单的替换操作也可以通过str.replace()或re.sub()来完成。  \n",
    "如果想清楚整个范围内的字符，或者去掉音符标志，可以使用常被忽视的str.translate()方法。"
   ]
  },
  {
   "cell_type": "code",
   "execution_count": 85,
   "metadata": {},
   "outputs": [
    {
     "name": "stdout",
     "output_type": "stream",
     "text": [
      "pytĥon\f",
      "is\tawesome\r\n",
      "\n"
     ]
    }
   ],
   "source": [
    "s = 'pyth\\u0302on\\fis\\tawesome\\r\\n'\n",
    "print(s)"
   ]
  },
  {
   "cell_type": "markdown",
   "metadata": {},
   "source": [
    "先建立一个小型的转换表，然后使用translate()方法。"
   ]
  },
  {
   "cell_type": "code",
   "execution_count": 86,
   "metadata": {},
   "outputs": [
    {
     "name": "stdout",
     "output_type": "stream",
     "text": [
      "pytĥon is awesome\n",
      "\n"
     ]
    }
   ],
   "source": [
    "remap = {\n",
    "    ord('\\t') : ' ',\n",
    "    ord('\\f') : ' ',\n",
    "    ord('\\r') : None\n",
    "}\n",
    "a = s.translate(remap)\n",
    "print(a)"
   ]
  },
  {
   "cell_type": "markdown",
   "metadata": {},
   "source": [
    "可以利用这种重映射思想构建处庞大的转换表。  \n",
    "如我们可以把所有的Unicode组合字符都去掉。"
   ]
  },
  {
   "cell_type": "code",
   "execution_count": 89,
   "metadata": {},
   "outputs": [
    {
     "name": "stdout",
     "output_type": "stream",
     "text": [
      "python is awesome\n",
      "\n"
     ]
    }
   ],
   "source": [
    "import unicodedata\n",
    "import sys\n",
    "cmb_chrs = dict.fromkeys(c for c in range(sys.maxunicode) \n",
    "                         if unicodedata.combining(chr(c)))\n",
    "b = unicodedata.normalize('NFD', a)\n",
    "print(b.translate(cmb_chrs))"
   ]
  },
  {
   "cell_type": "code",
   "execution_count": 101,
   "metadata": {
    "scrolled": true
   },
   "outputs": [
    {
     "name": "stdout",
     "output_type": "stream",
     "text": [
      "123\n"
     ]
    }
   ],
   "source": [
    "# 将所有的Unicode十进制数字字符映射为他们对应的ASCII版本\n",
    "digitmap = {\n",
    "    c: ord('0') + unicodedata.digit(chr(c))\n",
    "    for c in range(sys.maxunicode)\n",
    "    if unicodedata.category(chr(c)) == 'Nd'\n",
    "}\n",
    "x = '\\u0661\\u0662\\u0663'\n",
    "print(x.translate(digitmap))"
   ]
  },
  {
   "cell_type": "markdown",
   "metadata": {},
   "source": [
    "### 2.13 对其文本字符串"
   ]
  },
  {
   "cell_type": "code",
   "execution_count": 102,
   "metadata": {},
   "outputs": [
    {
     "name": "stdout",
     "output_type": "stream",
     "text": [
      "Hello world!********\n",
      "        Hello world!\n",
      "====Hello world!====\n"
     ]
    }
   ],
   "source": [
    "text = \"Hello world!\"\n",
    "print(text.ljust(20,'*'))\n",
    "print(text.rjust(20))\n",
    "print(text.center(20, '='))"
   ]
  },
  {
   "cell_type": "markdown",
   "metadata": {},
   "source": [
    "format()函数也可用来对齐字符串。"
   ]
  },
  {
   "cell_type": "code",
   "execution_count": 104,
   "metadata": {},
   "outputs": [
    {
     "name": "stdout",
     "output_type": "stream",
     "text": [
      "        Hello world!\n",
      "Hello world!        \n",
      "    Hello world!    \n",
      "********Hello world!\n",
      "****Hello world!****\n"
     ]
    }
   ],
   "source": [
    "text = \"Hello world!\"\n",
    "print(format(text, '>20'))\n",
    "print(format(text, '<20'))\n",
    "print(format(text, '^20'))\n",
    "print(format(text, '*>20s'))\n",
    "print(format(text, '*^20s'))"
   ]
  },
  {
   "cell_type": "markdown",
   "metadata": {},
   "source": [
    "还可以格式化多个值。"
   ]
  },
  {
   "cell_type": "code",
   "execution_count": 107,
   "metadata": {},
   "outputs": [
    {
     "name": "stdout",
     "output_type": "stream",
     "text": [
      "     hello      World\n"
     ]
    }
   ],
   "source": [
    "print('{:>10s} {:>10s}'.format(\"hello\", \"World\"))"
   ]
  },
  {
   "cell_type": "markdown",
   "metadata": {},
   "source": [
    "### 2.14 字符串连接以及合并"
   ]
  },
  {
   "cell_type": "markdown",
   "metadata": {},
   "source": [
    "使用+操作符做大量的字符串连接是非常低效的，如下：\n",
    "```python\n",
    "s = ''\n",
    "for p in parts:\n",
    "    s += p\n",
    "```\n",
    "一个漂亮的技巧是利用生成器表达式在将数据转换为字符串同时完成连接操作，如下：\n",
    "```python\n",
    "data = ['ACME', 50, 91.1]\n",
    "','.join(str(d) for d in data)\n",
    "```"
   ]
  },
  {
   "cell_type": "markdown",
   "metadata": {},
   "source": [
    "有时候不要用不必要的字符串连接操作。如下：\n",
    "```python\n",
    "print(a + ':' + b + ':' + c) # Ugly\n",
    "print(\":\".join([a,b,c])) # Still ugly\n",
    "print(a,b,c, sep=':') # Better\n",
    "```"
   ]
  },
  {
   "cell_type": "markdown",
   "metadata": {},
   "source": [
    "将字符串连接同I/O操作混合起来时应对应用做仔细分析。\n",
    "```python\n",
    "# 当两个字符串都很小应该用这种\n",
    "f.write(chunk1 + chunk2)\n",
    "\n",
    "# 当两个字符串都很大，应该用这种\n",
    "f.write(chunk1)\n",
    "f.write(chunk2)\n",
    "```"
   ]
  },
  {
   "cell_type": "markdown",
   "metadata": {},
   "source": [
    "如果我们编写的代码要从许多段字符串中构建输出，则应该考虑编写生成器函数，  \n",
    "通过yield关键字生成字符串片段。"
   ]
  },
  {
   "cell_type": "code",
   "execution_count": 110,
   "metadata": {
    "collapsed": true
   },
   "outputs": [],
   "source": [
    "def sample():\n",
    "    yield 'Is'\n",
    "    yield 'Chicago'\n",
    "    yield 'Not'\n",
    "    yield 'Chicago?'"
   ]
  },
  {
   "cell_type": "markdown",
   "metadata": {
    "collapsed": true
   },
   "source": [
    "### 2.15 给字符串中的变量名做插值处理"
   ]
  },
  {
   "cell_type": "code",
   "execution_count": 8,
   "metadata": {},
   "outputs": [
    {
     "name": "stdout",
     "output_type": "stream",
     "text": [
      "wang has 3 messages.\n"
     ]
    }
   ],
   "source": [
    "# 通过format()方法\n",
    "s = '{name} has {n} messages.'\n",
    "news = s.format(name=\"wang\", n=3)\n",
    "print(news)"
   ]
  },
  {
   "cell_type": "code",
   "execution_count": 9,
   "metadata": {},
   "outputs": [
    {
     "data": {
      "text/plain": [
       "'zhang has 4 messages.'"
      ]
     },
     "execution_count": 9,
     "metadata": {},
     "output_type": "execute_result"
    }
   ],
   "source": [
    "# 如果要替换的值能在变量中找到\n",
    "# 可将format_map()和vars()联合起来使用。\n",
    "name = 'zhang'\n",
    "n = 4\n",
    "s.format_map(vars())"
   ]
  },
  {
   "cell_type": "code",
   "execution_count": 10,
   "metadata": {},
   "outputs": [
    {
     "data": {
      "text/plain": [
       "'zhao has 2 messages.'"
      ]
     },
     "execution_count": 10,
     "metadata": {},
     "output_type": "execute_result"
    }
   ],
   "source": [
    "# vars()有一个微妙的特性是他也能作用于类实例上。\n",
    "class Info:\n",
    "    def __init__(self, name, n):\n",
    "        self.name = name\n",
    "        self.n = n\n",
    "        \n",
    "a = Info(\"zhao\", 2)\n",
    "s.format_map(vars(a))"
   ]
  },
  {
   "cell_type": "code",
   "execution_count": 11,
   "metadata": {},
   "outputs": [
    {
     "ename": "KeyError",
     "evalue": "'n'",
     "output_type": "error",
     "traceback": [
      "\u001b[1;31m---------------------------------------------------------------------------\u001b[0m",
      "\u001b[1;31mKeyError\u001b[0m                                  Traceback (most recent call last)",
      "\u001b[1;32m<ipython-input-11-016c567e1acf>\u001b[0m in \u001b[0;36m<module>\u001b[1;34m()\u001b[0m\n\u001b[0;32m      1\u001b[0m \u001b[1;31m# format()和format_map()的一个缺点则是没法优雅地处理缺少某个值的情况。\u001b[0m\u001b[1;33m\u001b[0m\u001b[1;33m\u001b[0m\u001b[0m\n\u001b[1;32m----> 2\u001b[1;33m \u001b[0ms\u001b[0m\u001b[1;33m.\u001b[0m\u001b[0mformat\u001b[0m\u001b[1;33m(\u001b[0m\u001b[0mname\u001b[0m\u001b[1;33m=\u001b[0m\u001b[1;34m\"error\"\u001b[0m\u001b[1;33m)\u001b[0m\u001b[1;33m\u001b[0m\u001b[0m\n\u001b[0m",
      "\u001b[1;31mKeyError\u001b[0m: 'n'"
     ]
    }
   ],
   "source": [
    "# format()和format_map()的一个缺点则是没法优雅地处理缺少某个值的情况。\n",
    "s.format(name=\"error\")"
   ]
  },
  {
   "cell_type": "code",
   "execution_count": 12,
   "metadata": {},
   "outputs": [
    {
     "data": {
      "text/plain": [
       "'zhang has {n} messages.'"
      ]
     },
     "execution_count": 12,
     "metadata": {},
     "output_type": "execute_result"
    }
   ],
   "source": [
    "# 避免出现这种情况的一种方法就是单独定义一个带有__missing__()方法的字典类。\n",
    "class safesub(dict):\n",
    "    def __missing__(self, key):\n",
    "        return '{' + key + '}'\n",
    "del n\n",
    "s.format_map(safesub(vars()))"
   ]
  },
  {
   "cell_type": "markdown",
   "metadata": {},
   "source": [
    "### 2.16 以固定的列数格式化文本"
   ]
  },
  {
   "cell_type": "code",
   "execution_count": 14,
   "metadata": {},
   "outputs": [
    {
     "name": "stdout",
     "output_type": "stream",
     "text": [
      "120\n"
     ]
    }
   ],
   "source": [
    "import os\n",
    "print(os.get_terminal_size().columns)"
   ]
  },
  {
   "cell_type": "code",
   "execution_count": 19,
   "metadata": {},
   "outputs": [
    {
     "name": "stdout",
     "output_type": "stream",
     "text": [
      "对于上述情况，可通过unicodedata模块来处理.unicodedata.n\n",
      "ormalize()第一个参数指定了字符串应该如何完成规范表示.NFC表示字符应\n",
      "该是全组成的（即如果可能的话用单个代码点）.NFD表示应该使用组合字符.Pyth\n",
      "on还支持NFKC和KNFKD，为一些特定类型的字符增加了额外兼容功能.unic\n",
      "odedata.combining()函数用来检测字符是否为一个组合型字符.\n"
     ]
    }
   ],
   "source": [
    "s = \"对于上述情况，可通过unicodedata模块来处理.\\\n",
    "unicodedata.normalize()第一个参数指定了字符串应该如何完成规范表示.\\\n",
    "NFC表示字符应该是全组成的（即如果可能的话用单个代码点）.\\\n",
    "NFD表示应该使用组合字符.\\\n",
    "Python还支持NFKC和KNFKD，为一些特定类型的字符增加了额外兼容功能.\\\n",
    "unicodedata.combining()函数用来检测字符是否为一个组合型字符.\"\n",
    "import textwrap\n",
    "print(textwrap.fill(s, 40))"
   ]
  },
  {
   "cell_type": "code",
   "execution_count": 21,
   "metadata": {},
   "outputs": [
    {
     "name": "stdout",
     "output_type": "stream",
     "text": [
      "  对于上述情况，可通过unicodedata模块来处理.unicodedata\n",
      ".normalize()第一个参数指定了字符串应该如何完成规范表示.NFC表示字\n",
      "符应该是全组成的（即如果可能的话用单个代码点）.NFD表示应该使用组合字符.Py\n",
      "thon还支持NFKC和KNFKD，为一些特定类型的字符增加了额外兼容功能.un\n",
      "icodedata.combining()函数用来检测字符是否为一个组合型字符.\n"
     ]
    }
   ],
   "source": [
    "print(textwrap.fill(s, 40, initial_indent = \"  \"))"
   ]
  },
  {
   "cell_type": "code",
   "execution_count": 22,
   "metadata": {
    "scrolled": true
   },
   "outputs": [
    {
     "name": "stdout",
     "output_type": "stream",
     "text": [
      "对于上述情况，可通过unicodedata模块来处理.unicodedata.n\n",
      " ormalize()第一个参数指定了字符串应该如何完成规范表示.NFC表示字符\n",
      " 应该是全组成的（即如果可能的话用单个代码点）.NFD表示应该使用组合字符.Py\n",
      " thon还支持NFKC和KNFKD，为一些特定类型的字符增加了额外兼容功能.u\n",
      " nicodedata.combining()函数用来检测字符是否为一个组合型字\n",
      " 符.\n"
     ]
    }
   ],
   "source": [
    "print(textwrap.fill(s, 40, subsequent_indent = \" \"))"
   ]
  },
  {
   "cell_type": "markdown",
   "metadata": {},
   "source": [
    "### 2.17 在文本中处理HTMPL和XML实体 "
   ]
  },
  {
   "cell_type": "markdown",
   "metadata": {},
   "source": [
    "如果要生成文本，使用html.escape()函数来完成替换$<or>$这样的特殊字符。"
   ]
  },
  {
   "cell_type": "code",
   "execution_count": 23,
   "metadata": {
    "collapsed": true
   },
   "outputs": [],
   "source": [
    "s = 'Elements are written as \"<tag>text</tag>\".'"
   ]
  },
  {
   "cell_type": "code",
   "execution_count": 26,
   "metadata": {},
   "outputs": [
    {
     "name": "stdout",
     "output_type": "stream",
     "text": [
      "Elements are written as \"<tag>text</tag>\".\n",
      "Elements are written as &quot;&lt;tag&gt;text&lt;/tag&gt;&quot;.\n",
      "Elements are written as \"&lt;tag&gt;text&lt;/tag&gt;\".\n"
     ]
    }
   ],
   "source": [
    "import html\n",
    "print(s)\n",
    "print(html.escape(s))\n",
    "print(html.escape(s, quote =False))"
   ]
  },
  {
   "cell_type": "markdown",
   "metadata": {},
   "source": [
    "如果要替换文本中的实体，则可以用HTML或XML解析器自带的功能函数。"
   ]
  },
  {
   "cell_type": "code",
   "execution_count": null,
   "metadata": {
    "collapsed": true
   },
   "outputs": [],
   "source": []
  }
 ],
 "metadata": {
  "kernelspec": {
   "display_name": "Python 3",
   "language": "python",
   "name": "python3"
  },
  "language_info": {
   "codemirror_mode": {
    "name": "ipython",
    "version": 3
   },
   "file_extension": ".py",
   "mimetype": "text/x-python",
   "name": "python",
   "nbconvert_exporter": "python",
   "pygments_lexer": "ipython3",
   "version": "3.6.1"
  }
 },
 "nbformat": 4,
 "nbformat_minor": 2
}

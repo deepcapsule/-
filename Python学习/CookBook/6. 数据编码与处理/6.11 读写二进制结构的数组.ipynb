{
 "cells": [
  {
   "cell_type": "markdown",
   "metadata": {},
   "source": [
    "### 6.11 读写二进制结构的数组"
   ]
  },
  {
   "cell_type": "markdown",
   "metadata": {},
   "source": [
    "将一列python元组写入到二进制文件中"
   ]
  },
  {
   "cell_type": "code",
   "execution_count": 2,
   "metadata": {},
   "outputs": [],
   "source": [
    "from struct import Struct\n",
    "def write_records(records, formats, f):\n",
    "    '''\n",
    "    Write a sequence of tuples to a binary file of structures.\n",
    "    '''\n",
    "    record_struct = Struct(formats)\n",
    "    for r in records:\n",
    "        f.write(record_struct.pack(*r))\n",
    "\n",
    "records = [\n",
    "    (1, 2.3, 4.5),\n",
    "    (6, 7.8, 9.0),\n",
    "    (12, 13.4, 56.7)\n",
    "]\n",
    "\n",
    "with open('data.b', 'wb') as f:\n",
    "    write_records(records, '<idd', f)"
   ]
  },
  {
   "cell_type": "markdown",
   "metadata": {},
   "source": [
    "按块以增量的方式读取文件，读取为一列python元组。"
   ]
  },
  {
   "cell_type": "code",
   "execution_count": 4,
   "metadata": {},
   "outputs": [
    {
     "name": "stdout",
     "output_type": "stream",
     "text": [
      "(1, 2.3, 4.5)  ***\n",
      "(6, 7.8, 9.0)  ***\n",
      "(12, 13.4, 56.7)  ***\n"
     ]
    }
   ],
   "source": [
    "from struct import Struct\n",
    "def read_records(formats, f):\n",
    "    record_struct = Struct(formats)\n",
    "    chunks = iter(lambda: f.read(record_struct.size), b'')\n",
    "    return (record_struct.unpack(chunk) for chunk in chunks)\n",
    "\n",
    "with open('data.b', 'rb') as f:\n",
    "    for rec in read_records('<idd', f):\n",
    "        print(rec, ' ***')"
   ]
  },
  {
   "cell_type": "markdown",
   "metadata": {},
   "source": [
    "用一个read()调用将文件全部读取到一个字节串中，然后再一块一块的做转换："
   ]
  },
  {
   "cell_type": "code",
   "execution_count": 5,
   "metadata": {},
   "outputs": [
    {
     "name": "stdout",
     "output_type": "stream",
     "text": [
      "(1, 2.3, 4.5) ###\n",
      "(6, 7.8, 9.0) ###\n",
      "(12, 13.4, 56.7) ###\n"
     ]
    }
   ],
   "source": [
    "from struct import Struct\n",
    "def unpack_records(formats, data):\n",
    "    record_struct = Struct(formats)\n",
    "    return (record_struct.unpack_from(data, offset) \n",
    "            for offset in range(0, len(data), record_struct.size))\n",
    "\n",
    "with open('data.b', 'rb') as f:\n",
    "    data = f.read()\n",
    "    \n",
    "    for rec in unpack_records('<idd', data):\n",
    "        print(rec, '###')"
   ]
  },
  {
   "cell_type": "code",
   "execution_count": null,
   "metadata": {
    "collapsed": true
   },
   "outputs": [],
   "source": []
  }
 ],
 "metadata": {
  "kernelspec": {
   "display_name": "Python 3",
   "language": "python",
   "name": "python3"
  },
  "language_info": {
   "codemirror_mode": {
    "name": "ipython",
    "version": 3
   },
   "file_extension": ".py",
   "mimetype": "text/x-python",
   "name": "python",
   "nbconvert_exporter": "python",
   "pygments_lexer": "ipython3",
   "version": "3.6.1"
  }
 },
 "nbformat": 4,
 "nbformat_minor": 2
}

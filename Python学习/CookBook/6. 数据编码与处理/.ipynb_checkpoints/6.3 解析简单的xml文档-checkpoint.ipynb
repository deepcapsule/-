{
 "cells": [
  {
   "cell_type": "markdown",
   "metadata": {},
   "source": [
    "### 6.3 解析简单的xml文档"
   ]
  },
  {
   "cell_type": "code",
   "execution_count": null,
   "metadata": {
    "collapsed": true
   },
   "outputs": [],
   "source": [
    "from urllib.request import urlopen\n",
    "from xml.etree.ElementTree import parse\n",
    "\n",
    "## Download the RSS feed and parse it\n",
    "# u = urlopen('http://planet.python.org/rss20.xml')\n",
    "# doc = parse(u)\n",
    "\n",
    "# Extract and output tags of interest\n",
    "# for item in doc.iterfind('channel/item'):\n",
    "#     title = item.findtext('title')\n",
    "#     date = item.findtext('pubDate')\n",
    "#     link = item.findtext('link')"
   ]
  }
 ],
 "metadata": {
  "kernelspec": {
   "display_name": "Python 3",
   "language": "python",
   "name": "python3"
  },
  "language_info": {
   "codemirror_mode": {
    "name": "ipython",
    "version": 3
   },
   "file_extension": ".py",
   "mimetype": "text/x-python",
   "name": "python",
   "nbconvert_exporter": "python",
   "pygments_lexer": "ipython3",
   "version": "3.6.1"
  }
 },
 "nbformat": 4,
 "nbformat_minor": 2
}

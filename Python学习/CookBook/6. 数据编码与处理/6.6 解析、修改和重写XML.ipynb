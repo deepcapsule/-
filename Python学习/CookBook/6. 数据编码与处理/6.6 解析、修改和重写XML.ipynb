{
 "cells": [
  {
   "cell_type": "markdown",
   "metadata": {},
   "source": [
    "### 6.6 解析、修改和重写XML"
   ]
  },
  {
   "cell_type": "markdown",
   "metadata": {},
   "source": [
    "```python\n",
    "from xml.etree.ElementTree import parse, Element\n",
    "doc = parse('test.xml')\n",
    "root = doc.getroot()\n",
    "\n",
    "# Remove a few elements\n",
    "root.remove(root.find('sri'))\n",
    "\n",
    "# Insert a new element after <nm>...</nm>\n",
    "root.getchildren().index(root.find('nm'))\n",
    "\n",
    "e = Element('spam')\n",
    "e.text = 'This is a test'\n",
    "root.insert(2, e)\n",
    "\n",
    "# Write back to file\n",
    "doc.write('newtest.xml', xml_declaration=True)\n",
    "```"
   ]
  }
 ],
 "metadata": {
  "kernelspec": {
   "display_name": "Python 3",
   "language": "python",
   "name": "python3"
  },
  "language_info": {
   "codemirror_mode": {
    "name": "ipython",
    "version": 3
   },
   "file_extension": ".py",
   "mimetype": "text/x-python",
   "name": "python",
   "nbconvert_exporter": "python",
   "pygments_lexer": "ipython3",
   "version": "3.6.1"
  }
 },
 "nbformat": 4,
 "nbformat_minor": 2
}

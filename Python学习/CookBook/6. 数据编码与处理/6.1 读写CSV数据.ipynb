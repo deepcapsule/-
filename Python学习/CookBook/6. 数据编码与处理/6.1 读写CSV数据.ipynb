{
 "cells": [
  {
   "cell_type": "markdown",
   "metadata": {},
   "source": [
    "### 6.1 读写CSV数据"
   ]
  },
  {
   "cell_type": "code",
   "execution_count": 1,
   "metadata": {},
   "outputs": [
    {
     "name": "stdout",
     "output_type": "stream",
     "text": [
      "['Name', ' Age', ' Sex']\n",
      "['wang', ' 12', ' male']\n",
      "['li', ' 13', ' female']\n",
      "['zhang', ' 11', ' male']\n"
     ]
    }
   ],
   "source": [
    "import csv\n",
    "with open('stocks.txt') as f:\n",
    "    f_csv = csv.reader(f)\n",
    "    headers = next(f_csv)\n",
    "    print(headers)\n",
    "    for row in f_csv:\n",
    "        print(row)"
   ]
  },
  {
   "cell_type": "markdown",
   "metadata": {},
   "source": [
    "上面代码中，row将会是一个元组。因此，要访问特定地字段就需要用到索引，比如row[0],row[2]。  \n",
    "由于这样地索引常常容易混淆，因此可以考虑使用命名元组。"
   ]
  },
  {
   "cell_type": "code",
   "execution_count": 5,
   "metadata": {},
   "outputs": [
    {
     "name": "stdout",
     "output_type": "stream",
     "text": [
      "['Name', 'Age', 'Sex']\n",
      "wang\n",
      "li\n",
      "zhang\n"
     ]
    }
   ],
   "source": [
    "import csv\n",
    "from collections import namedtuple\n",
    "with open('stocks.txt') as f:\n",
    "    f_csv = csv.reader(f)\n",
    "    headings = next(f_csv)\n",
    "    print(headings)\n",
    "    Row = namedtuple('Row', headings)\n",
    "    for r in f_csv:\n",
    "        row = Row(*r)\n",
    "        print(row.Name)"
   ]
  },
  {
   "cell_type": "markdown",
   "metadata": {},
   "source": [
    "将数据读取为字典序列"
   ]
  },
  {
   "cell_type": "code",
   "execution_count": 8,
   "metadata": {},
   "outputs": [
    {
     "name": "stdout",
     "output_type": "stream",
     "text": [
      "OrderedDict([('Name', 'wang'), ('Age', '12'), ('Sex', 'male')]) 12\n",
      "OrderedDict([('Name', 'li'), ('Age', '13'), ('Sex', 'female')]) 13\n",
      "OrderedDict([('Name', 'zhang'), ('Age', '11'), ('Sex', 'male')]) 11\n"
     ]
    }
   ],
   "source": [
    "import csv\n",
    "with open('stocks.txt') as f:\n",
    "    f_csv = csv.DictReader(f)\n",
    "    for row in f_csv:\n",
    "        print(row, row[\"Age\"])"
   ]
  },
  {
   "cell_type": "markdown",
   "metadata": {},
   "source": [
    "写入csv数据，也可以使用csv模块来完成，但是要创建一个写入对象"
   ]
  },
  {
   "cell_type": "code",
   "execution_count": 13,
   "metadata": {
    "collapsed": true
   },
   "outputs": [],
   "source": [
    "headers = [\"Name\", \"Age\", \"Sex\"]\n",
    "rows = [\n",
    "    ('wang', '12', 'male'),\n",
    "    ('li', '13', 'female'),\n",
    "    ('zhang', '11', 'male')\n",
    "]\n",
    "with open ('stocks.txt', 'w') as f:\n",
    "    f_csv = csv.writer(f)\n",
    "    f_csv.writerow(headers)\n",
    "    f_csv.writerows(rows)"
   ]
  },
  {
   "cell_type": "markdown",
   "metadata": {},
   "source": [
    "如果是字典序列，可以这样处理："
   ]
  },
  {
   "cell_type": "code",
   "execution_count": 15,
   "metadata": {},
   "outputs": [],
   "source": [
    "headers = [\"Name\", \"Age\", \"Sex\"]\n",
    "rows = [\n",
    "    {'Name':'wang', 'Age':'24', 'Sex':'M'},\n",
    "    {'Name':'zhao', 'Age':'22', \"Sex\":'F'},\n",
    "    {'Name':'li', 'Age':'23', 'Sex':'M'}\n",
    "]\n",
    "\n",
    "with open('stocks.txt', 'w') as f:\n",
    "    f_csv = csv.DictWriter(f, headers)\n",
    "    f_csv.writeheader()\n",
    "    f_csv.writerows(rows)"
   ]
  },
  {
   "cell_type": "markdown",
   "metadata": {},
   "source": [
    "如果想读取以tab键分隔地数据，可以使用以下的代码：\n",
    "```python\n",
    "with open('stock.tsv') as f:\n",
    "    f_tsv = csv.reader(f, delimiter='\\t')\n",
    "    for row in f_tsv:\n",
    "        pass\n",
    "```"
   ]
  },
  {
   "cell_type": "markdown",
   "metadata": {},
   "source": [
    "把读取的CSV数据转换成命名元组时，CSV文件中在标题行可能包含非法的标识符字符。  \n",
    "可以用正则来对非法标识符字符进行替换。"
   ]
  },
  {
   "cell_type": "markdown",
   "metadata": {},
   "source": [
    "```python\n",
    "import re\n",
    "from collections import namedtuple\n",
    "import csv\n",
    "with open('stock.csv') as f:\n",
    "    f_csv = csv.reader(f)\n",
    "    headers = [re.sub('[^a-zA-Z_]', '_', h) for h in next(f_csv)]\n",
    "    Row = namedtuple('Row', headers)\n",
    "    for r in f_csv:\n",
    "        row = Row(*r)\n",
    "        # Process row\n",
    "        pass\n",
    "```"
   ]
  },
  {
   "cell_type": "markdown",
   "metadata": {},
   "source": [
    "csv模块不会去尝试解释数据或着将数据转换为除字符串之外的类型。  \n",
    "如果需要转换，需要自行处理，如下："
   ]
  },
  {
   "cell_type": "markdown",
   "metadata": {},
   "source": [
    "```python\n",
    "import csv\n",
    "col_types = [str, float, str, str, float, int]\n",
    "with open('stock.csv') as f:\n",
    "    f_csv = csv.reader(f)\n",
    "    headers =next(f_csv)\n",
    "    for row in f_csv:\n",
    "        row = tuple(convert(value) for convert, value in zip(col_types, row))\n",
    "```"
   ]
  }
 ],
 "metadata": {
  "kernelspec": {
   "display_name": "Python 3",
   "language": "python",
   "name": "python3"
  },
  "language_info": {
   "codemirror_mode": {
    "name": "ipython",
    "version": 3
   },
   "file_extension": ".py",
   "mimetype": "text/x-python",
   "name": "python",
   "nbconvert_exporter": "python",
   "pygments_lexer": "ipython3",
   "version": "3.6.1"
  }
 },
 "nbformat": 4,
 "nbformat_minor": 2
}

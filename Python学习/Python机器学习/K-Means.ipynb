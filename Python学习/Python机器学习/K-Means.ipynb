{
 "cells": [
  {
   "cell_type": "code",
   "execution_count": 2,
   "metadata": {
    "collapsed": true
   },
   "outputs": [],
   "source": [
    "from numpy import *\n",
    "\n",
    "#载入数据，返回列表组成的列表，使其很容易封装到矩阵中\n",
    "def loadDataSet(fileName):\n",
    "    dataMat = []\n",
    "    fr = open(fileName)\n",
    "    for line in fr.readlines():\n",
    "        curLine = line.strip().split('\\t')\n",
    "        fltLine = map(float,curLine)\n",
    "        dataMat.append(fltLine)\n",
    "    return dataMat\n",
    "\n",
    "#欧式距离\n",
    "def distEclud(vecA,vecB):\n",
    "    return sqrt(sum(power(vecA-vecB,2)))\n",
    "#随机质心\n",
    "def randCent(dataSet,k):\n",
    "    n = shape(dataSet)[1]\n",
    "    centroids = mat(zeros((k,n)))\n",
    "    for j in range(n):\n",
    "        minJ = min(dataSet[:,j])\n",
    "        rangeJ = float(max(dataSet[:,j]-minJ))\n",
    "        centroids[:,j] = minJ + rangeJ*random.rand(k,1)\n",
    "    return centroids\n",
    "        "
   ]
  },
  {
   "cell_type": "code",
   "execution_count": 13,
   "metadata": {
    "collapsed": true
   },
   "outputs": [],
   "source": [
    "#K-均值聚类算法\n",
    "def kMeans(dataSet,k,distMeas=distEclud,createCent=randCent):\n",
    "    m = shape(dataSet)[0] #列表行数，数据集行数，即条数\n",
    "    clusterAssment = mat(zeros((m,2)))\n",
    "    centroids = createCent(dataSet,k)\n",
    "    clusterChanged = True\n",
    "    while clusterChanged:\n",
    "        clusterChanged = False\n",
    "        for i in range(m):\n",
    "            minDist = inf\n",
    "            minIndex = -1\n",
    "            for j in range(k):\n",
    "                distJI = distMeas(centroids[j,:],dataSet[i,:])\n",
    "                if distJI < minDist:\n",
    "                    minDist = distJI\n",
    "                    minIndex = j\n",
    "            #如果任一数据分配发生改变，则迭代重复\n",
    "            if clusterAssment[i,0] != minIndex:\n",
    "                clusterChanged = True\n",
    "            clusterAssment[i,:] = minIndex,minDist**2    #最近质心，及其距离平方\n",
    "        #print(centroids)\n",
    "        #更新质心位置\n",
    "        for cent in range(k):\n",
    "            '''.A把矩阵转换为array数组，用==生成布尔数组，但此布尔数组为列向量数组，\n",
    "            因此用nonzero转换为布尔数组对应的列标，并取第一维，其为bool数组中True\n",
    "            对应的列标的行向量数组\n",
    "            '''\n",
    "            ptsInClust = dataSet[nonzero(clusterAssment[:,0].A==cent)[0]]\n",
    "            #mean,sum等函数的axis=0参数表示对第一维进行操作\n",
    "            #即对每一行操作，即对某一列的每一行进行计算操作\n",
    "            centroids[cent,:] = mean(ptsInClust,axis=0)\n",
    "    return centroids,clusterAssment\n",
    "    "
   ]
  },
  {
   "cell_type": "code",
   "execution_count": 4,
   "metadata": {},
   "outputs": [
    {
     "name": "stdout",
     "output_type": "stream",
     "text": [
      "[[ 2.53039573  3.54492197  2.20319838]\n",
      " [ 3.10963204  3.17487982  2.93800196]]\n",
      "[[ 1.33333333  2.33333333  2.66666667]\n",
      " [ 3.33333333  4.66666667  4.66666667]]\n",
      "[[ 1.33333333  2.33333333  2.66666667]\n",
      " [ 3.33333333  4.66666667  4.66666667]]\n",
      "[[ 0.          0.33333333]\n",
      " [ 0.          0.66666667]\n",
      " [ 1.          0.66666667]\n",
      " [ 1.          0.66666667]\n",
      " [ 0.          1.        ]\n",
      " [ 1.          0.66666667]]\n"
     ]
    }
   ],
   "source": [
    "dataList = [[1,2,3],[1,2,2],[3,4,5],[3,5,4],[2,3,3],[4,5,5]]\n",
    "dataMat = mat(dataList)\n",
    "myCentroids,clustAssing = kMeans(dataMat,2)\n",
    "print(myCentroids)\n",
    "print(clustAssing)"
   ]
  },
  {
   "cell_type": "code",
   "execution_count": 91,
   "metadata": {},
   "outputs": [
    {
     "data": {
      "text/plain": [
       "[[2.0, 3.0]]"
      ]
     },
     "execution_count": 91,
     "metadata": {},
     "output_type": "execute_result"
    }
   ],
   "source": [
    "from numpy import *\n",
    "m = mean(mat([[1,2],[2,3],[3,4]]),axis=0)\n",
    "m.tolist()"
   ]
  },
  {
   "cell_type": "markdown",
   "metadata": {},
   "source": [
    "一种用于度量聚类效果的指标是SSE(Sum of Squared Error,误差平方和)。  \n",
    "1. 将具有最大SSE值得簇划分成两个簇，然后对这些点运行K-均值算法，其中K为2。  \n",
    "2. 将某两个簇合并。  \n",
    "    a.合并最近得质心。通过计算所有质心之间的距离，然后合并最近的两个点。  \n",
    "    b.合并两个使得SSE增幅最小的质心。合并两个簇然后计算总SSE值，在所有可能的两个簇上重复，直到找到合并最佳的两个簇。\n"
   ]
  },
  {
   "cell_type": "markdown",
   "metadata": {},
   "source": [
    "\n",
    "**** 二分K-均值算法 ****  \n",
    "将所有点看成一个簇  \n",
    "当簇数目小于k时  \n",
    "$ ~ $&nbsp;&#160;对于每一个簇  \n",
    "&emsp;&#8195;计算总误差  \n",
    "&emsp;&#8195;在给定的簇上面进行K-均值聚类（k=2）  \n",
    "&emsp;&#8195;计算将该簇一分为二之后的总误差  \n",
    "&emsp;选择使得误差最小的那个簇进行划分操作 "
   ]
  },
  {
   "cell_type": "code",
   "execution_count": 47,
   "metadata": {
    "collapsed": true
   },
   "outputs": [],
   "source": [
    "\n",
    "def biKmeans(dataSet,k,distMeas=distEclud):\n",
    "    m = shape(dataSet)[0]       #数据行数，即条数\n",
    "    clusterAssment = mat(zeros((m,2)))  #数据归类，第一列表示归为第几类，第二列为距离平方，也称误差平方\n",
    "    centroid0 = mean(dataSet,axis=0).tolist()[0] #将所有点看成一个簇，生成第一个质心坐标\n",
    "    centList = [centroid0]  #质心列表，其中初始包含一个列表，即一个质心\n",
    "    print(centList)\n",
    "    for j in range(m):\n",
    "        clusterAssment[j,1] = distMeas(mat(centroid0),dataSet[j,:])**2 #计算所有点到初始质心的误差平方\n",
    "    while (len(centList) < k):\n",
    "        lowestSSE = inf   #最低SSE赋值为float类型最大实体\n",
    "        for i in range(len(centList)):  #对每一个簇\n",
    "            ptsInCurrCluster = dataSet[nonzero(clusterAssment[:,0].A==i)[0],:]  #取出属于第i簇中的所有数据集\n",
    "            #对当前簇进行K-均值聚类，令K等于2,并返回其质心和数据的分配\n",
    "            centroidMat,splitClustAss = kMeans(ptsInCurrCluster,2,distMeas)  \n",
    "            sseSplit = sum(splitClustAss[:,1])       #被二分的SSE\n",
    "            sseNotSplit = sum(clusterAssment[nonzero(clusterAssment[:,0].A!=i)[0],1])  #未被二分的SSE\n",
    "            print('sseSplit,and not Split: ',sseSplit,sseNotSplit)\n",
    "            if (sseSplit + sseNotSplit) < lowestSSE:\n",
    "                bestCentToSplit = i      #经比较后选择被分的簇号\n",
    "                bestNewCents = centroidMat   #分开后的两个新簇的质心坐标列表\n",
    "                bestClustAss = splitClustAss.copy()  #被分数据的分配矩阵,包括所属簇号和损失损失误差\n",
    "                lowestSSE = sseSplit + sseNotSplit  #更新最低SSE\n",
    "        bestClustAss[nonzero(bestClustAss[:,0].A==1)[0],0] = len(centList) #将局部分配后的簇号更新为全局簇号\n",
    "        bestClustAss[nonzero(bestClustAss[:,0].A==0)[0],0] = bestCentToSplit #将局部分配后的簇号更新为全局簇号\n",
    "        print('the bestCentToSplit is :',bestCentToSplit)\n",
    "        print('the len of bestClustAss is :',len(bestClustAss))\n",
    "        centList[bestCentToSplit] = bestNewCents[0,:].tolist()[0] #更新被分配簇的质心坐标为分开后的第一簇质心坐标\n",
    "        centList.append(bestNewCents[1,:].tolist()[0]) #将分开后的第二簇质心坐标追加在列表末尾\n",
    "        print(centList)\n",
    "        clusterAssment[nonzero(clusterAssment[:,0].A==bestCentToSplit)[0],:]=bestClustAss #更新全局分配矩阵\n",
    "    return mat(centList),clusterAssment\n",
    "                \n",
    "                "
   ]
  },
  {
   "cell_type": "code",
   "execution_count": 48,
   "metadata": {},
   "outputs": [
    {
     "name": "stdout",
     "output_type": "stream",
     "text": [
      "[[2.3333333333333335, 3.5, 3.6666666666666665]]\n",
      "sseSplit,and not Split:  4.0 0.0\n",
      "the bestCentToSplit is : 0\n",
      "the len of bestClustAss is : 6\n",
      "[[3.3333333333333335, 4.666666666666667, 4.666666666666667], [1.3333333333333333, 2.3333333333333335, 2.6666666666666665]]\n",
      "sseSplit,and not Split:  1.0 2.0\n",
      "sseSplit,and not Split:  1.0 2.0\n",
      "the bestCentToSplit is : 0\n",
      "the len of bestClustAss is : 3\n",
      "[[3.0, 5.0, 4.0], [1.3333333333333333, 2.3333333333333335, 2.6666666666666665], [3.5, 4.5, 5.0]]\n",
      "[[ 3.          5.          4.        ]\n",
      " [ 1.33333333  2.33333333  2.66666667]\n",
      " [ 3.5         4.5         5.        ]]\n",
      "[[ 1.          0.33333333]\n",
      " [ 1.          0.66666667]\n",
      " [ 2.          0.5       ]\n",
      " [ 0.          0.        ]\n",
      " [ 1.          1.        ]\n",
      " [ 2.          0.5       ]]\n"
     ]
    }
   ],
   "source": [
    "dataList = [[1,2,3],[1,2,2],[3,4,5],[3,5,4],[2,3,3],[4,5,5]]\n",
    "dataMat = mat(dataList)\n",
    "myCentroids,clustAssing = biKmeans(dataMat,3)\n",
    "print(myCentroids)\n",
    "print(clustAssing)"
   ]
  },
  {
   "cell_type": "code",
   "execution_count": 40,
   "metadata": {},
   "outputs": [
    {
     "data": {
      "text/plain": [
       "[1, 2, 3, 4]"
      ]
     },
     "execution_count": 40,
     "metadata": {},
     "output_type": "execute_result"
    }
   ],
   "source": [
    "from numpy import *\n",
    "x = [1,2,3,4]\n",
    "y = mat(x)\n",
    "y[0,:].tolist()[0]"
   ]
  }
 ],
 "metadata": {
  "kernelspec": {
   "display_name": "Python 3",
   "language": "python",
   "name": "python3"
  },
  "language_info": {
   "codemirror_mode": {
    "name": "ipython",
    "version": 3
   },
   "file_extension": ".py",
   "mimetype": "text/x-python",
   "name": "python",
   "nbconvert_exporter": "python",
   "pygments_lexer": "ipython3",
   "version": "3.6.1"
  }
 },
 "nbformat": 4,
 "nbformat_minor": 2
}

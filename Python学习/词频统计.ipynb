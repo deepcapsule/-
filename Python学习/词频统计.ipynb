{
 "cells": [
  {
   "cell_type": "code",
   "execution_count": null,
   "metadata": {
    "collapsed": true
   },
   "outputs": [],
   "source": [
    "#pip3 install pkuseg\n",
    "\n",
    "import pkuseg\n",
    "from collections import Counter\n",
    "import pprint\n",
    "content = []\n",
    "\n",
    "\n",
    "with open('yanjiang.txt',encoding='utf-8') as f:\n",
    "    content = f.read()\n",
    "\n",
    "lexicon = ['小程序','朋友圈','公众号']\n",
    "seg = pkuseg.pkuseg(user_dict=lexicon)\n",
    "text = seg.cut(content)\n",
    "\n",
    "\n",
    "stopwords = []\n",
    "\n",
    "with open('stopwort.txt',encoding='utf-8') as f:\n",
    "    stopwords = f.read()\n",
    "\n",
    "\n",
    "new_text = []\n",
    "\n",
    "for w in text:\n",
    "    if w not in stopwords:\n",
    "        new_text.append(w)\n",
    "        \n",
    "\n",
    "counter = Counter(new_text)\n",
    "pprint.pprint(counter.most_common(20))\n",
    "#词云用wordcloud    \n",
    "    "
   ]
  },
  {
   "cell_type": "code",
   "execution_count": 52,
   "metadata": {
    "collapsed": true
   },
   "outputs": [],
   "source": [
    "import random\n",
    "n = 1000000\n",
    "# a = list(random.sample(range(1000000),1000000))\n",
    "a = list(range(n))\n",
    "# print(a)"
   ]
  },
  {
   "cell_type": "code",
   "execution_count": 38,
   "metadata": {},
   "outputs": [
    {
     "name": "stdout",
     "output_type": "stream",
     "text": [
      "0\n",
      "5.21933913230896\n"
     ]
    }
   ],
   "source": [
    "import time\n",
    "start = time.time()\n",
    "n = 1000000\n",
    "d = a\n",
    "# print(d)  \n",
    "ans = 0\n",
    "for i in range(n):\n",
    "    ok = True\n",
    "    for j in range(i):\n",
    "        if d[i] < d[j]:\n",
    "            ok = False\n",
    "            break\n",
    "    for k in range(i+1,n):\n",
    "        if d[i] > d[k]:\n",
    "            ok = False\n",
    "            break\n",
    "    if ok:\n",
    "        ans += 1\n",
    "        \n",
    "print(ans)\n",
    "end = time.time()\n",
    "print(end-start)"
   ]
  },
  {
   "cell_type": "code",
   "execution_count": 42,
   "metadata": {},
   "outputs": [
    {
     "name": "stdout",
     "output_type": "stream",
     "text": [
      "0\n",
      "1.172029733657837\n"
     ]
    }
   ],
   "source": [
    "import time\n",
    "start = time.time()\n",
    "d = a\n",
    "left = [0 for _ in range(n)]\n",
    "left[0] = 0\n",
    "for i in range(1,n):\n",
    "    left[i] = max(left[i-1],d[i-1])\n",
    "\n",
    "right = [2**32-1 for _ in range(n)]\n",
    "for i in range(n-2,-1,-1):\n",
    "    right[i] = min(right[i+1],d[i+1])\n",
    "    \n",
    "ans = 0\n",
    "for i in range(n):\n",
    "    if d[i] >= left[i] and d[i] < right[i]:\n",
    "        ans +=1\n",
    "print(ans)\n",
    "end = time.time()\n",
    "print(end-start)"
   ]
  },
  {
   "cell_type": "code",
   "execution_count": 44,
   "metadata": {},
   "outputs": [
    {
     "name": "stdout",
     "output_type": "stream",
     "text": [
      "0\n",
      "0.8594672679901123\n"
     ]
    }
   ],
   "source": [
    "import time\n",
    "start = time.time()\n",
    "d = a\n",
    "right = [2**32-1 for _ in range(n)]\n",
    "for i in range(n-2,-1,-1):\n",
    "    right[i] = min(right[i+1],d[i+1])\n",
    "    \n",
    "ans = 0\n",
    "maxn = 0\n",
    "for i in range(n):\n",
    "    if d[i] >= maxn and d[i] < right[i]:\n",
    "        ans +=1\n",
    "    maxn = max(maxn,d[i])\n",
    "print(ans)\n",
    "end = time.time()\n",
    "print(end-start)"
   ]
  },
  {
   "cell_type": "code",
   "execution_count": 45,
   "metadata": {},
   "outputs": [
    {
     "name": "stdout",
     "output_type": "stream",
     "text": [
      "0\n",
      "0.640697717666626\n"
     ]
    }
   ],
   "source": [
    "import time\n",
    "start = time.time()\n",
    "d = a\n",
    "right = [2**32-1 for _ in range(n)]\n",
    "for i in range(n-2,-1,-1):\n",
    "    right[i] = right[i+1]\n",
    "    if d[i+1] < right[i]:\n",
    "        right[i] = d[i]\n",
    "    \n",
    "ans = 0\n",
    "maxn = 0\n",
    "for i in range(n):\n",
    "    if d[i] >= maxn and d[i] < right[i]:\n",
    "        ans +=1\n",
    "    if d[i] > maxn:\n",
    "        maxn = d[i]\n",
    "print(ans)\n",
    "end = time.time()\n",
    "print(end-start)"
   ]
  },
  {
   "cell_type": "code",
   "execution_count": 50,
   "metadata": {},
   "outputs": [
    {
     "name": "stdout",
     "output_type": "stream",
     "text": [
      "0\n",
      "0.4219226837158203\n"
     ]
    }
   ],
   "source": [
    "import time\n",
    "def main():\n",
    "    start = time.time()\n",
    "    d = a\n",
    "    n = 1000000\n",
    "    right = [2**32-1 for _ in range(n)]\n",
    "    for i in range(n-2,-1,-1):\n",
    "        right[i] = right[i+1]\n",
    "        if d[i+1] < right[i]:\n",
    "            right[i] = d[i]\n",
    "\n",
    "    ans = 0\n",
    "    maxn = 0\n",
    "    for i in range(n):\n",
    "        if d[i] >= maxn and d[i] < right[i]:\n",
    "            ans +=1\n",
    "        if d[i] > maxn:\n",
    "            maxn = d[i]\n",
    "    print(ans)\n",
    "    end = time.time()\n",
    "    print(end-start)\n",
    "main()"
   ]
  },
  {
   "cell_type": "code",
   "execution_count": 53,
   "metadata": {},
   "outputs": [
    {
     "name": "stdout",
     "output_type": "stream",
     "text": [
      "1000000\n",
      "0.25002431869506836\n"
     ]
    }
   ],
   "source": [
    "import time\n",
    "def main():\n",
    "    start = time.time()\n",
    "    d = a\n",
    "    n = 1000000\n",
    "    mx = -1\n",
    "    max_left = [None]*n\n",
    "    for i in range(n):\n",
    "        if d[i] > mx:\n",
    "            mx = d[i]\n",
    "        max_left[i] = mx\n",
    "    mn = mx\n",
    "\n",
    "    ans = 0\n",
    "    for i in range(n-1,-1,-1,):\n",
    "        if d[i] < mn:\n",
    "            mn = d[i]\n",
    "        if mn == max_left[i]:\n",
    "            ans += 1\n",
    "    print(ans)\n",
    "    end = time.time()\n",
    "    print(end-start)\n",
    "main()"
   ]
  }
 ],
 "metadata": {
  "kernelspec": {
   "display_name": "Python 3",
   "language": "python",
   "name": "python3"
  },
  "language_info": {
   "codemirror_mode": {
    "name": "ipython",
    "version": 3
   },
   "file_extension": ".py",
   "mimetype": "text/x-python",
   "name": "python",
   "nbconvert_exporter": "python",
   "pygments_lexer": "ipython3",
   "version": "3.6.1"
  }
 },
 "nbformat": 4,
 "nbformat_minor": 2
}

{
 "cells": [
  {
   "cell_type": "code",
   "execution_count": 115,
   "metadata": {},
   "outputs": [],
   "source": [
    "import numpy\n",
    "mylist = list(range(1000000))\n",
    "numpy.random.shuffle(mylist)"
   ]
  },
  {
   "cell_type": "code",
   "execution_count": 76,
   "metadata": {
    "collapsed": true
   },
   "outputs": [],
   "source": [
    "#选择排序\n",
    "def selection_sort(lyst):\n",
    "    i = 0\n",
    "    length = len(lyst)\n",
    "    while i < length-1:\n",
    "        min_index = i\n",
    "        j = i + 1\n",
    "        while j < length:\n",
    "            if lyst[j] < lyst[i]:\n",
    "                min_index = j\n",
    "            j += 1\n",
    "        if min_index != i:\n",
    "            lyst[min_index],lyst[i] = lyst[i],lyst[min_index]\n",
    "        i += 1\n",
    "    return lyst"
   ]
  },
  {
   "cell_type": "code",
   "execution_count": 149,
   "metadata": {
    "collapsed": true
   },
   "outputs": [],
   "source": [
    "#冒泡排序\n",
    "def bubble_sort(lyst):\n",
    "    i = len(lyst)\n",
    "    while i > 1:\n",
    "        j = 1\n",
    "        while j < i:\n",
    "            if lyst[j-1] > lyst[j]:\n",
    "                lyst[j],lyst[j-1] = lyst[j-1],lyst[j]\n",
    "            j +=1\n",
    "        i -= 1\n",
    "    return lyst"
   ]
  },
  {
   "cell_type": "code",
   "execution_count": 4,
   "metadata": {
    "collapsed": true
   },
   "outputs": [],
   "source": [
    "#插入排序\n",
    "def insertion_sort(lyst):\n",
    "#     lyst = list(lst)\n",
    "    i = 1\n",
    "    while i < len(lyst):\n",
    "        item_to_insert = lyst[i]\n",
    "        j = i - 1\n",
    "        while j >= 0:\n",
    "            if lyst[j] > item_to_insert:\n",
    "                lyst[j+1] = lyst[j]\n",
    "                j -= 1\n",
    "            else:\n",
    "                break\n",
    "        lyst[j+1] = item_to_insert\n",
    "        i += 1\n",
    "    return lyst"
   ]
  },
  {
   "cell_type": "code",
   "execution_count": 65,
   "metadata": {},
   "outputs": [],
   "source": [
    "def quick_sort(lst):\n",
    "    #这里对待排序列表实行浅复制。否则，原乱序列表经快排后为有序列表，\n",
    "    #再次测试调用快排，因列表长度过大，会出现超过最大递归深度异常，\n",
    "    #可通过基值取三数中值来减小快排的这种最坏情况\n",
    "    lyst = list(lst)\n",
    "    return quick_sort_with_args(lyst,0,len(lyst)-1)\n",
    "\n",
    "def quick_sort_with_args(lyst,begin,end):\n",
    "    if end <= begin:\n",
    "        return lyst\n",
    "##############################################################\n",
    "# 当快排中一个子列表长度小于某个数字时，执行插入排序来处理该子列表\n",
    "# 其中，在本程序中，插入排序应原位改变最终返回列表，不能只改变子列\n",
    "# 表，因为，子列表已经是一个新的对象，所以这里要对lyst[bgein:end+1]\n",
    "# 赋值，使其改变为插入排序返回的列表。\n",
    "#     if end - begin + 1 <= 20:\n",
    "#         lyst[begin:end+1] = insertion_sort(lyst[begin:end+1])\n",
    "#         return\n",
    "#     i,j = begin,end\n",
    "#     base = lyst[i]\n",
    "##############################################################\n",
    "    i,j = begin,end\n",
    "    base = lyst[i]\n",
    "    while i < j:\n",
    "        #遇到相等时索引停止前进并交换，而不是跳过\n",
    "        #这样可以在有大量和基准值重复的元素时有较好的表现\n",
    "        while i<j and base < lyst[j]:\n",
    "            j -=1\n",
    "        lyst[i] = lyst[j]\n",
    "        while i<j and base > lyst[i]:\n",
    "            i += 1\n",
    "        lyst[j] = lyst[i]\n",
    "    lyst[i] = base\n",
    "    quick_sort_with_args(lyst,begin,i-1)\n",
    "    quick_sort_with_args(lyst,i+1,end)\n",
    "    return lyst"
   ]
  },
  {
   "cell_type": "code",
   "execution_count": 97,
   "metadata": {},
   "outputs": [],
   "source": [
    "def merge_sort(lst):\n",
    "    \n",
    "    lyst = list(lst)\n",
    "    if len(lyst) <= 1:\n",
    "        return lyst\n",
    "    middle = len(lyst)//2\n",
    "    left = merge_sort(lyst[:middle])\n",
    "    right = merge_sort(lyst[middle:])\n",
    "    return merge(left,right)\n",
    "\n",
    "def merge(a,b):\n",
    "    i = j =0\n",
    "    c = []\n",
    "    while i < len(a) and j < len(b):\n",
    "        if a[i] <= b[j]:\n",
    "            c.append(a[i])\n",
    "            i += 1\n",
    "        else:\n",
    "            c.append(b[j])\n",
    "            j += 1\n",
    "    if i == len(a):\n",
    "        c.extend(b[j:])\n",
    "    if j == len(b):\n",
    "        c.extend(a[i:])\n",
    "    return c\n",
    "    "
   ]
  },
  {
   "cell_type": "code",
   "execution_count": null,
   "metadata": {},
   "outputs": [],
   "source": [
    "import time\n",
    "start = time.time()\n",
    "quick_sort(mylist)\n",
    "print(time.time()-start)"
   ]
  },
  {
   "cell_type": "code",
   "execution_count": 60,
   "metadata": {},
   "outputs": [
    {
     "name": "stdout",
     "output_type": "stream",
     "text": [
      "[1, 2, 5, 6, 7, 8, 8, 9]\n"
     ]
    }
   ],
   "source": [
    "merge_sort:8s\n",
    "timsort:   0.5s\n"
   ]
  }
 ],
 "metadata": {
  "kernelspec": {
   "display_name": "Python 3",
   "language": "python",
   "name": "python3"
  },
  "language_info": {
   "codemirror_mode": {
    "name": "ipython",
    "version": 3
   },
   "file_extension": ".py",
   "mimetype": "text/x-python",
   "name": "python",
   "nbconvert_exporter": "python",
   "pygments_lexer": "ipython3",
   "version": "3.6.1"
  }
 },
 "nbformat": 4,
 "nbformat_minor": 2
}

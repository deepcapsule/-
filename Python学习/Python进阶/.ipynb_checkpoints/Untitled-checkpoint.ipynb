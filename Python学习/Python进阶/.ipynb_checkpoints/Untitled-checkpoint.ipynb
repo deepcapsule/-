{
 "cells": [
  {
   "cell_type": "markdown",
   "metadata": {},
   "source": [
    "### python进阶教程练习\n",
    "2018年11月20日 周二 14：52\n",
    "参照简书作者我上帝可爱多"
   ]
  },
  {
   "cell_type": "markdown",
   "metadata": {},
   "source": [
    "#### 迭代器\n",
    "迭代器实现Fib数列"
   ]
  },
  {
   "cell_type": "code",
   "execution_count": 1,
   "metadata": {},
   "outputs": [
    {
     "name": "stdout",
     "output_type": "stream",
     "text": [
      "[1, 1, 2, 3, 5, 8, 13, 21, 34, 55]\n"
     ]
    }
   ],
   "source": [
    "class Fib(object):\n",
    "    def __init__(self,n):\n",
    "        self.n = n\n",
    "        self.cur = 1\n",
    "        self.prev = 0\n",
    "        \n",
    "    def __iter__(self):\n",
    "        return self\n",
    "    \n",
    "    def __next__(self):\n",
    "        if self.n>0:\n",
    "            self.cur,self.prev = self.cur+self.prev,self.cur\n",
    "            self.n -= 1\n",
    "            return self.prev\n",
    "        else:\n",
    "            raise StopIteration()\n",
    "\n",
    "f=Fib(10)\n",
    "print([i for i in f])"
   ]
  },
  {
   "cell_type": "markdown",
   "metadata": {},
   "source": [
    "#### 魔术方法 "
   ]
  },
  {
   "cell_type": "code",
   "execution_count": 3,
   "metadata": {},
   "outputs": [
    {
     "name": "stdout",
     "output_type": "stream",
     "text": [
      "my name is wangchx\n",
      "call __init__\n",
      "call __len__\n",
      "6\n",
      "call __getitem__\n",
      "2\n"
     ]
    }
   ],
   "source": [
    "class student(object):\n",
    "    def __init__(self,name):\n",
    "        self.name = name\n",
    "        \n",
    "    def __call__(self):\n",
    "        print('my name is {}'.format(self.name))\n",
    "\n",
    "aa=student('wangchx')\n",
    "aa()\n",
    "\n",
    "class A():\n",
    "    def __init__(self):\n",
    "        print('call __init__')\n",
    "        self.value=[1,2,3,4,5,6]\n",
    "        \n",
    "    def __len__(self):\n",
    "        print('call __len__')\n",
    "        return len(self.value)\n",
    "        \n",
    "    def __getitem__(self,index):\n",
    "        print('call __getitem__')\n",
    "        return self.value[index]\n",
    "    \n",
    "aa=A()\n",
    "print(len(aa))\n",
    "print(aa[1])\n"
   ]
  },
  {
   "cell_type": "markdown",
   "metadata": {},
   "source": [
    "#### 元类"
   ]
  },
  {
   "cell_type": "code",
   "execution_count": 8,
   "metadata": {},
   "outputs": [
    {
     "name": "stdout",
     "output_type": "stream",
     "text": [
      "['hi']\n"
     ]
    }
   ],
   "source": [
    "class ListMetaclass(type):\n",
    "    def __new__(cls,name,bases,attrs):\n",
    "        attrs['add']=lambda self,value:self.append(value)\n",
    "        return type.__new__(cls,name,bases,attrs)\n",
    "    \n",
    "class MyList(list,metaclass=ListMetaclass):\n",
    "    pass\n",
    "\n",
    "ld=MyList()\n",
    "ld.add('hi')\n",
    "print(ld)\n"
   ]
  },
  {
   "cell_type": "markdown",
   "metadata": {},
   "source": [
    "#### 生成器 "
   ]
  },
  {
   "cell_type": "code",
   "execution_count": 10,
   "metadata": {},
   "outputs": [
    {
     "name": "stdout",
     "output_type": "stream",
     "text": [
      "[1, 1, 2, 3, 5, 8, 13, 21, 34, 55]\n"
     ]
    }
   ],
   "source": [
    "from itertools import islice\n",
    "def fib():\n",
    "    prev,cur=0,1\n",
    "    while True:\n",
    "        yield cur\n",
    "        prev,cur=cur,prev+cur\n",
    "        \n",
    "f=fib()\n",
    "print(list(islice(f,0,10)))"
   ]
  },
  {
   "cell_type": "code",
   "execution_count": null,
   "metadata": {},
   "outputs": [],
   "source": []
  }
 ],
 "metadata": {
  "kernelspec": {
   "display_name": "Python 3",
   "language": "python",
   "name": "python3"
  },
  "language_info": {
   "codemirror_mode": {
    "name": "ipython",
    "version": 3
   },
   "file_extension": ".py",
   "mimetype": "text/x-python",
   "name": "python",
   "nbconvert_exporter": "python",
   "pygments_lexer": "ipython3",
   "version": "3.6.4"
  }
 },
 "nbformat": 4,
 "nbformat_minor": 2
}

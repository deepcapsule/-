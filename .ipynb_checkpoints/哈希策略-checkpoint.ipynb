{
 "cells": [
  {
   "cell_type": "code",
   "execution_count": 3,
   "metadata": {},
   "outputs": [],
   "source": [
    "def keyToIndexes(keys, n):\n",
    "    \"\"\"Returns the indexes corresponding to\n",
    "    the keys for an array of length n.\"\"\"\n",
    "    return list(map(lambda key: key % n, keys))"
   ]
  },
  {
   "cell_type": "code",
   "execution_count": 4,
   "metadata": {},
   "outputs": [
    {
     "data": {
      "text/plain": [
       "[3, 1, 0, 2]"
      ]
     },
     "execution_count": 4,
     "metadata": {},
     "output_type": "execute_result"
    }
   ],
   "source": [
    "keyToIndexes([3,5,8,10], 4)"
   ]
  },
  {
   "cell_type": "code",
   "execution_count": 5,
   "metadata": {},
   "outputs": [
    {
     "data": {
      "text/plain": [
       "[3, 0, 0, 2]"
      ]
     },
     "execution_count": 5,
     "metadata": {},
     "output_type": "execute_result"
    }
   ],
   "source": [
    "keyToIndexes([3, 4, 8, 10], 4)"
   ]
  },
  {
   "cell_type": "code",
   "execution_count": null,
   "metadata": {
    "collapsed": true
   },
   "outputs": [],
   "source": []
  },
  {
   "cell_type": "code",
   "execution_count": 6,
   "metadata": {},
   "outputs": [
    {
     "data": {
      "text/plain": [
       "[3, 5, 0, 2]"
      ]
     },
     "execution_count": 6,
     "metadata": {},
     "output_type": "execute_result"
    }
   ],
   "source": [
    "keyToIndexes([3,5,8,10], 8)"
   ]
  },
  {
   "cell_type": "code",
   "execution_count": 7,
   "metadata": {},
   "outputs": [
    {
     "data": {
      "text/plain": [
       "[3, 4, 0, 2]"
      ]
     },
     "execution_count": 7,
     "metadata": {},
     "output_type": "execute_result"
    }
   ],
   "source": [
    "keyToIndexes([3, 4, 8, 10], 8)"
   ]
  },
  {
   "cell_type": "markdown",
   "metadata": {},
   "source": [
    "由此可见，较小的装载因子，数组长度是素数，这都是有帮助的。"
   ]
  },
  {
   "cell_type": "markdown",
   "metadata": {},
   "source": [
    "##### 非数字键的哈希\n",
    "常规的字符串，可以考虑返回字符串中的ASCII值的加和。\n",
    "但回文字符串或包含相同的字符但字符顺序不同的字符串，\n",
    "以及英语中很多单词首字母分布的不平均，使这种方法效果并不理想。\n",
    "因此，如果字符串的长度大于某一个阈值，可以将首字母从字符串中丢弃，然后再计算加和。\n",
    "此外，如果字符串长度超过了某一个长度，可以减去最后一个字符的ASCII值。"
   ]
  },
  {
   "cell_type": "code",
   "execution_count": 8,
   "metadata": {
    "collapsed": true
   },
   "outputs": [],
   "source": [
    "def stringHash(item):\n",
    "    \"\"\"Generates an integer key from a string.\"\"\"\n",
    "    if len(item) > 4 and \\\n",
    "    (item[0].islower() or item[0].isupper()):\n",
    "        item = item[1:]\n",
    "    sum = 0\n",
    "    for ch in item:\n",
    "        sum += ord(ch)\n",
    "    if len(item) > 2:\n",
    "        sum -= 2 * ord(item[-1])\n",
    "    return sum"
   ]
  },
  {
   "cell_type": "code",
   "execution_count": 9,
   "metadata": {},
   "outputs": [
    {
     "data": {
      "text/plain": [
       "328"
      ]
     },
     "execution_count": 9,
     "metadata": {},
     "output_type": "execute_result"
    }
   ],
   "source": [
    "stringHash('cinema')"
   ]
  },
  {
   "cell_type": "code",
   "execution_count": 10,
   "metadata": {
    "scrolled": true
   },
   "outputs": [
    {
     "data": {
      "text/plain": [
       "296"
      ]
     },
     "execution_count": 10,
     "metadata": {},
     "output_type": "execute_result"
    }
   ],
   "source": [
    "stringHash('iceman')"
   ]
  },
  {
   "cell_type": "code",
   "execution_count": 11,
   "metadata": {
    "collapsed": true
   },
   "outputs": [],
   "source": [
    "def keysToIndexs(keys, n, hash = lambda key: key):\n",
    "    \"\"\"Returns the array indexes corresponding to the\n",
    "    hashed keys for an array of length n.\"\"\"\n",
    "    return list(map(lambda key: hash(key) % n, keys))"
   ]
  },
  {
   "cell_type": "code",
   "execution_count": 12,
   "metadata": {},
   "outputs": [
    {
     "data": {
      "text/plain": [
       "[3, 1, 0, 2]"
      ]
     },
     "execution_count": 12,
     "metadata": {},
     "output_type": "execute_result"
    }
   ],
   "source": [
    "keysToIndexs([3, 5, 8, 10], 4)"
   ]
  },
  {
   "cell_type": "code",
   "execution_count": 13,
   "metadata": {},
   "outputs": [
    {
     "data": {
      "text/plain": [
       "[0, 0]"
      ]
     },
     "execution_count": 13,
     "metadata": {},
     "output_type": "execute_result"
    }
   ],
   "source": [
    "keysToIndexs(['cinema', 'iceman'], 2, stringHash)"
   ]
  },
  {
   "cell_type": "code",
   "execution_count": 14,
   "metadata": {},
   "outputs": [
    {
     "data": {
      "text/plain": [
       "[1, 2]"
      ]
     },
     "execution_count": 14,
     "metadata": {},
     "output_type": "execute_result"
    }
   ],
   "source": [
    "keysToIndexs(['cinema', 'iceman'], 3, stringHash)"
   ]
  },
  {
   "cell_type": "markdown",
   "metadata": {},
   "source": [
    "##### 线性探测\n",
    "对于插入来说，解决冲突的最简单方式，就是从冲突位置开始搜索数组，找到第一个可能的位置，这个过程叫做线性探测。"
   ]
  },
  {
   "cell_type": "markdown",
   "metadata": {},
   "source": [
    "一开始的时候，数组单元格填满了EMPTY值。当一个键被删除之后，单元格的值设置为DELETED。在开始插入的时候，运行哈希函数来计算项的主索引。如果主索引的单元格不可用，算法会将索引向右移动以探测一个可用的单元格。"
   ]
  },
  {
   "cell_type": "markdown",
   "metadata": {},
   "source": [
    "假设数组没有变满并且没有重复的项，那么，向一个名为table的数组进行插入的代码如下：\n",
    "```python\n",
    "# get the home index\n",
    "index = abs(hash(item)) % len(tables)\n",
    "\n",
    "# Stop searching when an empty cell is encountered\n",
    "while not table[index] in (EMPTY, DELETED):\n",
    "\n",
    "    # Increment the index and wrap around to first\n",
    "    # position if necessary\n",
    "    index = (index + 1) % len(table)\n",
    "    \n",
    "# An empty cell is found, so store the item\n",
    "table[index] = item\n",
    "```"
   ]
  },
  {
   "cell_type": "markdown",
   "metadata": {},
   "source": [
    "访问和删除的工作方式使类似的。对于访问来说，当前的数组单元格为空或者它包含目标项的时候，就停止探测过程。"
   ]
  },
  {
   "cell_type": "markdown",
   "metadata": {},
   "source": [
    "##### 二次探测\n",
    "避免和线性探测相关的聚簇的一种方式是，从冲突位置将对空位置的搜索向前推进一定的距离。\n",
    "二次探测通过将主索引增加每一次尝试的距离的平方，从而实现这一点。如果从主索引k开始并且距离为d，每一轮使用的公式为$ k+d^2 $."
   ]
  },
  {
   "cell_type": "markdown",
   "metadata": {},
   "source": [
    "以下是使用二次探索的插入过程的代码：\n",
    "```python\n",
    "# set the initial key, index, and distance\n",
    "key = abs(hash(item))\n",
    "distance = 1\n",
    "homeIndex = key % len(table)\n",
    "index = homeIndex\n",
    "\n",
    "# Stop searching when an unocuppied cell is encountered\n",
    "while not table[index] in [EMPTY, DELETED]:\n",
    "    # Increment the index and wrap around to the\n",
    "    # first position if necessary\n",
    "    index = (homeIndex + distance ** 2) % len(table)\n",
    "    distance += 1\n",
    "    \n",
    "# An empty cell is found, so store the item\n",
    "table[index] = item\n",
    "```"
   ]
  },
  {
   "cell_type": "markdown",
   "metadata": {},
   "source": [
    "##### 链化\n",
    "在一种叫做链化的冲突处理策略中，项都存储在链表或链的一个数组中。每一项的键都会找到该项已经插入到链中的桶或索引。  \n",
    "使用链来插入一项的代码如下：\n",
    "```python\n",
    "# Get the home index\n",
    "index = abs(hash(item)) % len(table)\n",
    "\n",
    "# Access a bucket and store the item at the head\n",
    "# of its linked list\n",
    "table[index] = Node(item, table[index])"
   ]
  },
  {
   "cell_type": "code",
   "execution_count": null,
   "metadata": {},
   "outputs": [],
   "source": []
  }
 ],
 "metadata": {
  "kernelspec": {
   "display_name": "Python 3",
   "language": "python",
   "name": "python3"
  },
  "language_info": {
   "codemirror_mode": {
    "name": "ipython",
    "version": 3
   },
   "file_extension": ".py",
   "mimetype": "text/x-python",
   "name": "python",
   "nbconvert_exporter": "python",
   "pygments_lexer": "ipython3",
   "version": "3.6.1"
  }
 },
 "nbformat": 4,
 "nbformat_minor": 2
}

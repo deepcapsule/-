{
 "cells": [
  {
   "cell_type": "markdown",
   "metadata": {},
   "source": [
    "#### 公式排版 "
   ]
  },
  {
   "cell_type": "markdown",
   "metadata": {},
   "source": [
    "行内公式,用\\$包裹公式，\n",
    "例如: \\$ \\\\sum_{i=0}^{n}i^2 \\$"
   ]
  },
  {
   "cell_type": "markdown",
   "metadata": {},
   "source": [
    "$ \\sum_{i=0}^{n}i^2 $"
   ]
  },
  {
   "cell_type": "markdown",
   "metadata": {},
   "source": [
    "独立公式，用\\$\\$包裹公式，例如：\n",
    "\\$\\$ \\\\sum_{i=0}^{n}i^2 \\$\\$"
   ]
  },
  {
   "cell_type": "markdown",
   "metadata": {},
   "source": [
    "$$ \\sum_{i=0}^{n}i^2 $$"
   ]
  },
  {
   "cell_type": "markdown",
   "metadata": {},
   "source": [
    "\\boxed命令给公式加一个方框"
   ]
  },
  {
   "cell_type": "markdown",
   "metadata": {},
   "source": [
    "$ \\boxed{E=mc^2} $"
   ]
  },
  {
   "cell_type": "markdown",
   "metadata": {},
   "source": [
    "#### 希腊字母 "
   ]
  },
  {
   "cell_type": "markdown",
   "metadata": {},
   "source": [
    "$\\alpha$ \\alpa &nbsp; $\\theta$ \\theta &nbsp;  $o$ o &nbsp; $\\tau$ \\tau <br />\n",
    "$\\beta$ \\beta &nbsp; $\\vartheta$ \\vartheta &nbsp; $\\pi$ \\pi &nbsp; $\\upsilon$ \\upsilon <br />\n",
    "$\\gamma$ \\gamma &nbsp; $\\iota$ \\iota &nbsp; $\\varpi$ \\varpi &nbsp; \n",
    "$\\phi$ \\phi  \n",
    "$\\delta \\kappa  \\rho  \\varphi  \n",
    "\\epsilon  \\lambda  \\varrho  \\chi\n",
    "\\varepsilon \\mu \\sigma \\psi \n",
    "\\zeta \\nu \\varsigma \\omega \n",
    "\\eta \\xi \n",
    "\\Gamma \\Lambda \\Sigma \\Psi\n",
    "\\Delta \\Xi \\Upsilon \\Omega \n",
    "\\Theta \\Pi \\Phi\n",
    "$"
   ]
  },
  {
   "cell_type": "markdown",
   "metadata": {},
   "source": [
    "#### 上下标和根号"
   ]
  },
  {
   "cell_type": "markdown",
   "metadata": {},
   "source": [
    "用^来表示上标，用_来表示下标，根号用\\sqrt表示，上下标如果多余一个字符或符号，需要用{}括起来。  \n",
    "\\sqrt[开方次数,默认为2]{开方公式}"
   ]
  },
  {
   "cell_type": "markdown",
   "metadata": {},
   "source": [
    "$\\sum_{i=1}^n a_i$\n",
    "\n",
    "$ x_{ij}^2\\quad \\sqrt{x}\\quad \\sqrt[3]{x}$"
   ]
  },
  {
   "cell_type": "markdown",
   "metadata": {},
   "source": [
    "#### 分数"
   ]
  },
  {
   "cell_type": "markdown",
   "metadata": {},
   "source": [
    "分数用\\frac表示，字号工具环境设置，\\dfrac命令把字号设置为独立公式中的大小，\n",
    "\\tfrac则把字号设置为行间公式的大小"
   ]
  },
  {
   "cell_type": "markdown",
   "metadata": {},
   "source": [
    "$ \\frac{1}{2} \\dfrac{1}{2} $"
   ]
  },
  {
   "cell_type": "markdown",
   "metadata": {},
   "source": [
    "也可使用 over"
   ]
  },
  {
   "cell_type": "markdown",
   "metadata": {},
   "source": [
    "$ {x^2 \\over \\sqrt[4]{y}} $"
   ]
  },
  {
   "cell_type": "markdown",
   "metadata": {},
   "source": [
    "#### 运算符 "
   ]
  },
  {
   "cell_type": "markdown",
   "metadata": {},
   "source": [
    "+-*/=直接输入，特殊运算符则用以下特殊命令"
   ]
  },
  {
   "cell_type": "markdown",
   "metadata": {},
   "source": [
    "$$ \\pm\\; \\times\\; \\div\\; \\cdot\\; \n",
    "\\cap\\; \\cup\\; \\geq\\; \\leq\\; \n",
    "\\neq\\; \\approx\\; \\equiv $$"
   ]
  },
  {
   "cell_type": "markdown",
   "metadata": {},
   "source": [
    "和、积、极限、积分等运算符用\\sum,\\prod,\\lim,\\int,这些公式在行内\n",
    "公式被压缩，以适应行高，可以通过\\limits和\\nolimits命令显示制动是否压缩。"
   ]
  },
  {
   "cell_type": "markdown",
   "metadata": {},
   "source": [
    "$ \\sum\\; \\prod\\; \\lim\\; \\int\\; x\\to0$"
   ]
  },
  {
   "cell_type": "markdown",
   "metadata": {},
   "source": [
    "$ \\sum_{i=1}^n i \\quad \\prod_{i=1}^n x_i \n",
    "\\quad \\lim_{x\\to0}x^2 \\quad \\int_{a}^{b}x^2 dx $\n"
   ]
  },
  {
   "cell_type": "markdown",
   "metadata": {},
   "source": [
    "多重积分使用如下形式\\int、\\iint、\\iiint、\\iiiint、\\idotsint,环积分\\oint"
   ]
  },
  {
   "cell_type": "markdown",
   "metadata": {},
   "source": [
    "$ \\int\\int\\quad \\int\\int\\int\\quad\n",
    "\\int\\int\\int\\int\\quad \\int\\dots\\int\\quad \\oint $"
   ]
  },
  {
   "cell_type": "markdown",
   "metadata": {},
   "source": [
    "$ \\iint\\quad \\iiint\\quad \\iiiint\\quad \\idotsint $"
   ]
  },
  {
   "cell_type": "markdown",
   "metadata": {},
   "source": [
    "$ \\leftarrow \\quad \\rightarrow\\quad \\leftrightarrow \\quad\n",
    "\\Leftarrow\\quad \\Rightarrow\\quad \\Leftrightarrow\\quad\n",
    "\\longleftarrow\\quad \\Longleftrightarrow  \n",
    "\\xleftarrow{x+y+z}\\quad \\xrightarrow[x<y]{x+y+z}$"
   ]
  },
  {
   "cell_type": "markdown",
   "metadata": {},
   "source": [
    "$ \\mathrm{d} \\sin3 \\ln2 \\log_2^{10} \\lg7 \\prime \\infty \\partial \\tag{1} $"
   ]
  },
  {
   "cell_type": "markdown",
   "metadata": {},
   "source": [
    "#### 注音和标注 "
   ]
  },
  {
   "cell_type": "markdown",
   "metadata": {},
   "source": [
    "$\\bar{x} \\acute{x} \\mathring{x} \\vec{x} \\grave{x} \\dot{x}\n",
    "\\hat{x} \\tilde{x} \\ddot{x} \\check{x} \\breve{x} \\dddot{x}$"
   ]
  },
  {
   "cell_type": "markdown",
   "metadata": {},
   "source": [
    "#### 分隔符 "
   ]
  },
  {
   "cell_type": "markdown",
   "metadata": {},
   "source": [
    "括号用()[]\\{\\}\\lange\\rangle"
   ]
  },
  {
   "cell_type": "markdown",
   "metadata": {},
   "source": [
    "$ () [] \\{\\} \\langle \\rangle $\n",
    "\n",
    "$ \\overline{xxx}\\quad \\overleftrightarrow{xyz}\\quad\n",
    "\\underline{xxx}\\quad \\underleftrightarrow{xyz}\\quad\n",
    "\\overbrace{xxx}\\quad \\underbrace{xyz}\\quad\n",
    "\\widehat{xxx}\\quad \\widetilde{xxx} $"
   ]
  },
  {
   "cell_type": "markdown",
   "metadata": {},
   "source": [
    "$$ \\Bigg(\\bigg(\\Big(\\big((x)\\big)\\Big)\\bigg)\\Bigg)\\quad\n",
    "\\Bigg[\\bigg[\\Big[\\big[[x]\\big]\\Big]\\bigg]\\Bigg]\\quad\n",
    "\\Bigg\\{\\bigg\\{\\Big\\{\\big\\{\\{x\\}\\big\\}\\Big\\}\\bigg\\}\\Bigg\\} \n",
    "$$\n",
    "\n",
    "$$ \\Bigg \\langle \\bigg \\langle \\Big \\langle \\big \\langle\n",
    "\\langle x \\rangle \\big \\rangle \\Big \\rangle \\bigg \\rangle\n",
    "\\Bigg \\rangle \\quad\n",
    "\\Bigg \\lvert \\bigg \\lvert \\Big \\lvert \\big\\lvert \\lvert x\n",
    "\\rvert \\big\\rvert \\Big \\rvert \\bigg \\rvert \\Bigg \\rvert\\quad\n",
    "\\Bigg \\lVert \\bigg \\lVert \\Big \\lVert \\big\\lVert \\lVert x\n",
    "\\rVert \\big\\rVert \\Big \\rVert \\bigg \\rVert \\Bigg \\rVert\\\n",
    "$$"
   ]
  },
  {
   "cell_type": "markdown",
   "metadata": {},
   "source": [
    "#### 省略号 "
   ]
  },
  {
   "cell_type": "markdown",
   "metadata": {},
   "source": [
    "省略号用\\dots \\cdots \\vdots \\ddots表示，\\dots和\\cdots的纵向位置不同，前者一般用于有下标的序列"
   ]
  },
  {
   "cell_type": "markdown",
   "metadata": {},
   "source": [
    "$$ x_1,x_2,\\dots,x_n\\quad 1,2,\\cdots,n\\quad \\vdots\\quad \\ddots $$"
   ]
  },
  {
   "cell_type": "markdown",
   "metadata": {},
   "source": [
    "#### 空白间距 "
   ]
  },
  {
   "cell_type": "markdown",
   "metadata": {},
   "source": [
    "$ b\\, 3/18em \\:4 /18em \\; 5/18em \\quad lem \\qquad 2m \\! -3/18em $"
   ]
  },
  {
   "cell_type": "markdown",
   "metadata": {},
   "source": [
    "###### 矩阵 "
   ]
  },
  {
   "cell_type": "markdown",
   "metadata": {},
   "source": [
    "$ \\begin{array}{ccc}\n",
    "x_1 & x_2 & \\dots \\\\\n",
    "x_3 & x_4 & \\dots \\\\\n",
    "\\vdots & \\vdots & \\ddots\n",
    "\\end{array} $"
   ]
  },
  {
   "cell_type": "markdown",
   "metadata": {},
   "source": [
    "$\\begin{pmatrix} a & b \\\\ c & d \\\\ \\end{pmatrix} \\quad\n",
    "\\begin{bmatrix} a & b \\\\ c & d \\\\ \\end{bmatrix} \\quad\n",
    "\\begin{Bmatrix} a & b \\\\ c & d \\\\ \\end{Bmatrix} \\quad\n",
    "\\begin{vmatrix} a & b \\\\ c & d \\\\ \\end{vmatrix} \\quad\n",
    "\\begin{Vmatrix} a & b \\\\ c & d \\\\ \\end{Vmatrix} $"
   ]
  },
  {
   "cell_type": "markdown",
   "metadata": {},
   "source": [
    "$\\begin{smallmatrix} a & b \\\\ c & d \\end{smallmatrix} $"
   ]
  },
  {
   "cell_type": "markdown",
   "metadata": {},
   "source": [
    "#### 多行公式 "
   ]
  },
  {
   "cell_type": "markdown",
   "metadata": {},
   "source": [
    "###### 长公式 "
   ]
  },
  {
   "cell_type": "markdown",
   "metadata": {},
   "source": [
    "无需对齐可使用multline，需要对齐使用split，用\\\\和&来分行和设置对齐的位置"
   ]
  },
  {
   "cell_type": "markdown",
   "metadata": {},
   "source": [
    "$\\begin{multline}\n",
    "        x = a+b+c+{} \\\\\n",
    "d+e+f+g\n",
    "\\end{multline}$"
   ]
  },
  {
   "cell_type": "markdown",
   "metadata": {},
   "source": [
    "$\\begin{split}\n",
    "x = {} &a+b+c+{} \\\\\n",
    "        & d+e+f+g\n",
    "        \\end{split}$"
   ]
  },
  {
   "cell_type": "markdown",
   "metadata": {},
   "source": [
    "###### 公式组"
   ]
  },
  {
   "cell_type": "markdown",
   "metadata": {},
   "source": [
    "不需要对齐的公式组使用gather,需要对齐的公式组使用align："
   ]
  },
  {
   "cell_type": "markdown",
   "metadata": {},
   "source": [
    "$\\begin{gather}\n",
    "a = b+c+d \\\\\n",
    "x = y+z\n",
    "\\end{gather}$"
   ]
  },
  {
   "cell_type": "markdown",
   "metadata": {},
   "source": [
    "$\\begin{align}\n",
    "a &= b+c+d \\\\\n",
    "x &= y+z\n",
    "\\end{align}$"
   ]
  },
  {
   "cell_type": "markdown",
   "metadata": {},
   "source": [
    "###### 分支公式"
   ]
  },
  {
   "cell_type": "markdown",
   "metadata": {},
   "source": [
    "分段函数通常用cases次环境携程分支公式："
   ]
  },
  {
   "cell_type": "markdown",
   "metadata": {},
   "source": [
    "$ y=\\begin{cases}\n",
    "-x,\\quad x \\leq 0 \\\\\n",
    "x, \\quad x>0\n",
    "\\end{cases} $"
   ]
  },
  {
   "cell_type": "markdown",
   "metadata": {},
   "source": [
    "$x_2\\mathrm{d}d\n",
    "x$"
   ]
  },
  {
   "cell_type": "markdown",
   "metadata": {},
   "source": [
    "$$ l(x_i)=-log_2p(x_i) $$\n",
    "\n",
    "$$ H=-\\sum_{i=1}^n p(x_i)log_2p(x_i) $$"
   ]
  }
 ],
 "metadata": {
  "kernelspec": {
   "display_name": "Python 3",
   "language": "python",
   "name": "python3"
  },
  "language_info": {
   "codemirror_mode": {
    "name": "ipython",
    "version": 3
   },
   "file_extension": ".py",
   "mimetype": "text/x-python",
   "name": "python",
   "nbconvert_exporter": "python",
   "pygments_lexer": "ipython3",
   "version": "3.6.1"
  }
 },
 "nbformat": 4,
 "nbformat_minor": 2
}

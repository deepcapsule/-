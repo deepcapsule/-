{
 "cells": [
  {
   "cell_type": "code",
   "execution_count": 2,
   "metadata": {
    "scrolled": false
   },
   "outputs": [
    {
     "name": "stdout",
     "output_type": "stream",
     "text": [
      "1\n",
      "1\n",
      "2\n",
      "3\n",
      "5\n",
      "8\n"
     ]
    }
   ],
   "source": [
    "\"\"\"生成器\"\"\"\n",
    "'''Fibo'''\n",
    "def fib(max):\n",
    "    n,a,b=0,0,1\n",
    "    while n<max:\n",
    "        yield b\n",
    "        a,b=b,a+b\n",
    "        n+=1\n",
    "    return\n",
    "for x in fib(6):\n",
    "    print (x)\n"
   ]
  },
  {
   "cell_type": "code",
   "execution_count": 5,
   "metadata": {},
   "outputs": [
    {
     "name": "stdout",
     "output_type": "stream",
     "text": [
      "[1]\n",
      "[1, 1]\n",
      "[1, 2, 1]\n",
      "[1, 3, 3, 1]\n",
      "[1, 4, 6, 4, 1]\n",
      "[1, 5, 10, 10, 5, 1]\n",
      "[1, 6, 15, 20, 15, 6, 1]\n",
      "[1, 7, 21, 35, 35, 21, 7, 1]\n",
      "[1, 8, 28, 56, 70, 56, 28, 8, 1]\n",
      "[1, 9, 36, 84, 126, 126, 84, 36, 9, 1]\n"
     ]
    }
   ],
   "source": [
    "\"\"\"生成器\"\"\"\n",
    "'''杨辉三角'''\n",
    "def triangles():\n",
    "    list1=[1]\n",
    "    while True:\n",
    "        yield list1\n",
    "        list1=[x+y for x,y in zip([0]+list1,list1+[0])]\n",
    "        #list1=[1]+[list1[n]+list1[n-1] for n in range(1,len(list1))]+[1]\n",
    "    return\n",
    "n=0\n",
    "for t in triangles():\n",
    "    print (t)\n",
    "    n=n+1\n",
    "    if n==10:\n",
    "        break"
   ]
  },
  {
   "cell_type": "code",
   "execution_count": 6,
   "metadata": {},
   "outputs": [
    {
     "data": {
      "text/plain": [
       "[1, 4, 9, 16, 25, 36, 49, 64]"
      ]
     },
     "execution_count": 6,
     "metadata": {},
     "output_type": "execute_result"
    }
   ],
   "source": [
    "\"\"\"map函数，接收两个参数，一个是函数，一个是Iterable，map将传入的函数依次作用到序列\n",
    "的每个元素，并把结果作为新的Iterator返回。\"\"\"\n",
    "def f(x):\n",
    "    return x*x\n",
    "L1=[1,2,3,4,5,6,7,8]\n",
    "list(map(f,L1))"
   ]
  },
  {
   "cell_type": "code",
   "execution_count": 7,
   "metadata": {},
   "outputs": [
    {
     "data": {
      "text/plain": [
       "123456"
      ]
     },
     "execution_count": 7,
     "metadata": {},
     "output_type": "execute_result"
    }
   ],
   "source": [
    "\"\"\"reduce函数，把一个函数f作用在一个序列上，这个函数f必须接收两个参数，reduce把结果\n",
    "继续和序列下一个元素做累积计算，其效果如下：\n",
    "reduce(f,[x1,x2,x3,x4])=f(f(f(x1,x2),x3),x4)\"\"\"\n",
    "from functools import reduce\n",
    "def fn(x,y):\n",
    "    return x*10+y\n",
    "reduce(fn,[1,2,3,4,5,6])"
   ]
  },
  {
   "cell_type": "code",
   "execution_count": 37,
   "metadata": {},
   "outputs": [
    {
     "name": "stdout",
     "output_type": "stream",
     "text": [
      "9592\n"
     ]
    }
   ],
   "source": [
    "\"\"\"filter函数用于过滤序列，filter接受一个函数和一个序列，把传入的函数依次作用于每个元素，\n",
    "然后根据返回值是True还是False决定保留还是丢弃该元素\"\"\"\n",
    "\"\"\"埃氏筛法求素数\"\"\"\n",
    "def odd_iter():\n",
    "    n=1\n",
    "    while True:\n",
    "        n=n+2\n",
    "        yield n\n",
    "def not_divisible(n):\n",
    "    return lambda x:x%n>0\n",
    "def primes():\n",
    "    yield 2\n",
    "    it=odd_iter()\n",
    "    while True:\n",
    "        n=next(it)\n",
    "        yield n\n",
    "        it=filter(not_divisible(n),it)\n",
    "counts=0\n",
    "for n in primes():\n",
    "    if n<100000:\n",
    "        counts+=1\n",
    "    else:\n",
    "        break\n",
    "print(counts)"
   ]
  },
  {
   "cell_type": "code",
   "execution_count": 33,
   "metadata": {},
   "outputs": [
    {
     "name": "stdout",
     "output_type": "stream",
     "text": [
      "[-21, -12, 5, 9, 36]\n",
      "[5, 9, -12, -21, 36]\n"
     ]
    },
    {
     "data": {
      "text/plain": [
       "'如果要进行反向排序，不必改动key函数，可传入第三个参数reverse=True'"
      ]
     },
     "execution_count": 33,
     "metadata": {},
     "output_type": "execute_result"
    }
   ],
   "source": [
    "\"\"\"sorted()函数也是一个高阶函数，可以接收一个key函数来实现自定义的排序，如按绝对值大小排序\"\"\"\n",
    "print (sorted([36,5,-12,9,-21]))\n",
    "print (sorted([36,5,-12,9,-21],key=abs))\n",
    "\"\"\"key指定的函数将作用于list的每一个元素上，并根据key函数返回的结果进行排序，并按照对应\n",
    "关系返回list相对应的元素\"\"\"\n",
    "\"\"\"如果要进行反向排序，不必改动key函数，可传入第三个参数reverse=True\"\"\""
   ]
  },
  {
   "cell_type": "code",
   "execution_count": 18,
   "metadata": {},
   "outputs": [
    {
     "name": "stdout",
     "output_type": "stream",
     "text": [
      "[('Adam', 92), ('Bart', 66), ('Bob', 75), ('Lisa', 88)]\n",
      "[('Bart', 66), ('Bob', 75), ('Lisa', 88), ('Adam', 92)]\n"
     ]
    }
   ],
   "source": [
    "L = [('Bob', 75), ('Adam', 92), ('Bart', 66), ('Lisa', 88)]\n",
    "def by_name(t):\n",
    "    return t[0]\n",
    "L2=sorted(L,key=by_name)\n",
    "print(L2)\n",
    "def by_score(t):\n",
    "    return t[1]\n",
    "L1=sorted(L,key=by_score)\n",
    "print(L1)"
   ]
  },
  {
   "cell_type": "code",
   "execution_count": 20,
   "metadata": {},
   "outputs": [
    {
     "name": "stdout",
     "output_type": "stream",
     "text": [
      "run now()\n",
      "2018-10-30\n"
     ]
    }
   ],
   "source": [
    "\"\"\"装饰器decorator\"\"\"\n",
    "import functools\n",
    "def log(text):\n",
    "    def decorator(func):\n",
    "        @functools.wraps(func)\n",
    "        def wrapper(*args,**kw):\n",
    "            print('%s %s()'%(text,func.__name__))\n",
    "            return func(*args,**kw)\n",
    "        return wrapper\n",
    "    return decorator\n",
    "@log('run')\n",
    "def now():\n",
    "    print('2018-10-30')\n",
    "now()"
   ]
  },
  {
   "cell_type": "code",
   "execution_count": 21,
   "metadata": {},
   "outputs": [
    {
     "data": {
      "text/plain": [
       "18"
      ]
     },
     "execution_count": 21,
     "metadata": {},
     "output_type": "execute_result"
    }
   ],
   "source": [
    "\"\"\"偏函数Partial function\"\"\"\n",
    "\"\"\"functools.partial帮助我们创建一个偏函数，把一个函数的某些参数给固定住，设置成默认值，\n",
    "返回一个新的函数，调用这个新函数会更简单\"\"\"\n",
    "import functools\n",
    "int2=functools.partial(int,base=2)\n",
    "int2('10010')\n",
    "\n"
   ]
  },
  {
   "cell_type": "code",
   "execution_count": 34,
   "metadata": {},
   "outputs": [
    {
     "name": "stdout",
     "output_type": "stream",
     "text": [
      "wang chuanxin\n",
      "24\n"
     ]
    }
   ],
   "source": [
    "\"\"\"我们定义一个class，创建一个class实例，可以给该实例绑定任何属性和方法\"\"\"\n",
    "class Student(object):\n",
    "    pass\n",
    "s=Student()\n",
    "#绑定属性\n",
    "s.name=\"wang chuanxin\"\n",
    "print(s.name)\n",
    "#绑定方法\n",
    "def set_age(self,age):\n",
    "    self.age=age\n",
    "from types import MethodType\n",
    "s.set_age=MethodType(set_age,s)\n",
    "s.set_age(24)\n",
    "print(s.age)\n",
    "#dir(s)\n",
    "#给一个实例绑定方法，对另一个实例不起作用，给类绑定方法，所有实例均可调用\n",
    "def set_score(self,score):\n",
    "    self.score=score\n",
    "Student.set_score=MethodType(set_score,Student)\n"
   ]
  },
  {
   "cell_type": "code",
   "execution_count": 35,
   "metadata": {
    "collapsed": true
   },
   "outputs": [],
   "source": [
    "\"\"\"用__slots__限制class实例能添加的属性\"\"\"\n",
    "class Student(object):\n",
    "    __slots__=('name','age')\n",
    "    pass\n",
    "#__slots__定义的属性仅对当前类实例起作用，对继承的子类不起作用"
   ]
  },
  {
   "cell_type": "code",
   "execution_count": 41,
   "metadata": {},
   "outputs": [
    {
     "name": "stdout",
     "output_type": "stream",
     "text": [
      "88\n"
     ]
    }
   ],
   "source": [
    "\"\"\"@property装饰器负责把一个方法变成属性调用\"\"\"\n",
    "class Student(object):\n",
    "    @property\n",
    "    def score(self):\n",
    "        return self._score\n",
    "    \n",
    "    @score.setter\n",
    "    def score(self,value):\n",
    "        if not isinstance(value,int):\n",
    "            raise ValueError('Score must be an integer!')\n",
    "        if value<0 or value>100:\n",
    "            raise ValueError('Score must between 0~100!')\n",
    "        self._score=value\n",
    "s=Student()\n",
    "s.score=88\n",
    "print (s.score)"
   ]
  },
  {
   "cell_type": "code",
   "execution_count": null,
   "metadata": {
    "collapsed": true
   },
   "outputs": [],
   "source": [
    "\"\"\"。把一个getter方法变成属性，只需要加上@property就可以了，此时，\n",
    "@property本身又创建了另一个装饰器@score.setter，\n",
    "负责把一个setter方法变成属性赋值，\"\"\"\n",
    "class Student(object):\n",
    "    \n",
    "    @property\n",
    "    def birth(self):\n",
    "        return self._birth\n",
    "    @birth.setter \n",
    "    def birth(self,value):\n",
    "        self._birth=value\n",
    "    @property\n",
    "    def age(self):\n",
    "        return 2018-self._birth"
   ]
  },
  {
   "cell_type": "code",
   "execution_count": 47,
   "metadata": {},
   "outputs": [
    {
     "name": "stdout",
     "output_type": "stream",
     "text": [
      "Jan => Month.Jan , 1\n",
      "Feb => Month.Feb , 2\n",
      "Mar => Month.Mar , 3\n",
      "Apr => Month.Apr , 4\n",
      "May => Month.May , 5\n",
      "Jun => Month.Jun , 6\n",
      "Jul => Month.Jul , 7\n",
      "Aug => Month.Aug , 8\n",
      "Sep => Month.Sep , 9\n",
      "Oct => Month.Oct , 10\n",
      "Nov => Month.Nov , 11\n",
      "Dev => Month.Dev , 12\n"
     ]
    }
   ],
   "source": [
    "from enum import Enum\n",
    "Month=Enum('Month',('Jan','Feb','Mar','Apr','May','Jun','Jul','Aug','Sep','Oct','Nov','Dev'))\n",
    "for name,member in Month.__members__.items():\n",
    "    print (name,'=>',member,',',member.value)"
   ]
  },
  {
   "cell_type": "code",
   "execution_count": 2,
   "metadata": {},
   "outputs": [
    {
     "name": "stdout",
     "output_type": "stream",
     "text": [
      "Hello,world.\n"
     ]
    }
   ],
   "source": [
    "\"\"\"type()创建类\"\"\"\n",
    "def fn(self,name=\"world\"):\n",
    "    print(\"Hello,%s.\"%name)\n",
    "Hello=type('Hello',(object,),dict(hello=fn))\n",
    "h=Hello()\n",
    "h.hello()"
   ]
  },
  {
   "cell_type": "code",
   "execution_count": 4,
   "metadata": {},
   "outputs": [
    {
     "data": {
      "text/plain": [
       "[1]"
      ]
     },
     "execution_count": 4,
     "metadata": {},
     "output_type": "execute_result"
    }
   ],
   "source": [
    "\"\"\"元类metaclass，类的模板，，，可以理解为类是元类的实例\"\"\"\n",
    "class ListMetaclass(type):\n",
    "    def __new__(cls,name,bases,attrs):\n",
    "        attrs['add']=lambda self,value:self.append(value)\n",
    "        return type.__new__(cls,name,bases,attrs)\n",
    "class MyList(list,metaclass=ListMetaclass):\n",
    "    pass\n",
    "L=MyList()\n",
    "L.add(1)\n",
    "L"
   ]
  },
  {
   "cell_type": "code",
   "execution_count": 5,
   "metadata": {
    "scrolled": true
   },
   "outputs": [
    {
     "name": "stdout",
     "output_type": "stream",
     "text": [
      "Found model: User\n",
      "Found mapping: id==> <IntegerField:id>\n",
      "Found mapping: name==> <StringField:username>\n",
      "Found mapping: email==> <StringField:email>\n",
      "Found mapping: password==> <StringField:password>\n",
      "SQL: insert into User (id,username,email,password) values (?,?,?,?)\n",
      "ARGS: [12345, 'wang', 'test@orm.org', 'passwd']\n"
     ]
    }
   ],
   "source": [
    "\"\"\"ORM框架，Object Relational Mapping\"\"\"\n",
    "#Field类，负责保存数据库表的字段名和字段类型\n",
    "class Field(object):\n",
    "    def __init__(self, name, column_type):\n",
    "        self.name = name\n",
    "        self.column_type = column_type\n",
    "    def __str__(self):\n",
    "        return '<%s:%s>' % (self.__class__.__name__, self.name)\n",
    "\n",
    "#定义各种类型的Field\n",
    "class StringField(Field):\n",
    "    def __init__(self,name):\n",
    "        super(StringField,self).__init__(name,'varchar(100)')\n",
    "class IntegerField(Field):\n",
    "    def __init__(self,name):\n",
    "        super(IntegerField,self).__init__(name,'bigint')\n",
    "\n",
    "class ModelMetaclass(type):\n",
    "    def __new__(cls,name,bases,attrs):\n",
    "        if name==\"Model\":\n",
    "            return type.__new__(cls,name,bases,attrs)\n",
    "        print('Found model: %s' % name)\n",
    "        mappings=dict()\n",
    "        for k,v in attrs.items():\n",
    "            if isinstance(v,Field):\n",
    "                print('Found mapping: %s==> %s' % (k,v))\n",
    "                mappings[k]=v\n",
    "        for k in mappings.keys():\n",
    "            attrs.pop(k)\n",
    "        attrs['__mappings__']=mappings  #保存属性和列的映射关系\n",
    "        attrs['__table__']=name      #假设表名和类名一致\n",
    "        return type.__new__(cls,name,bases,attrs)\n",
    "    \n",
    "class Model(dict, metaclass=ModelMetaclass):\n",
    "    def __init__(self, **kw):\n",
    "        super(Model, self).__init__(**kw)\n",
    "    def __getattr__(self, key):\n",
    "        try:\n",
    "            return self[key]\n",
    "        except KeyError:\n",
    "            raise AttributeError(r\"'Model' object has no attribute '%s'\" % key)\n",
    "    def __setattr__(self, key, value):\n",
    "        self[key] = value\n",
    "    def save(self):\n",
    "        fields = []\n",
    "        params = []\n",
    "        args = []\n",
    "        for k, v in self.__mappings__.items():\n",
    "            fields.append(v.name)\n",
    "            params.append('?')\n",
    "            args.append(getattr(self, k, None))\n",
    "        sql = 'insert into %s (%s) values (%s)' % (self.__table__, ','.join(fields), ','.join(params))\n",
    "        print('SQL: %s' % sql)\n",
    "        print('ARGS: %s' % str(args))\n",
    "\n",
    "class User(Model):\n",
    "    id=IntegerField('id')\n",
    "    name=StringField('username')\n",
    "    email=StringField('email')\n",
    "    password=StringField('password')\n",
    "u=User(id=12345,name='wang',email='test@orm.org',password='passwd')\n",
    "u.save()"
   ]
  },
  {
   "cell_type": "code",
   "execution_count": 2,
   "metadata": {},
   "outputs": [
    {
     "name": "stdout",
     "output_type": "stream",
     "text": [
      "Process (4551) start...\n",
      "I (4551) just created a child process (4986).\n",
      "I am child process (4986) and my parent is 4551.\n"
     ]
    }
   ],
   "source": [
    "\"\"\"fork()系统调用非常特殊，因为它调用一次，返回两次。操作系统自动把当前进程（成为父进程）复制了\n",
    "份（称为子进程），然后分别在父进程和子进程返回。\n",
    "子进程永远返回0，父进程返回子进程的ID。一个父进程可以fork出很多子进程，父进程要记下每个\n",
    "子进程的ID，而子进程只需要调用getppid（）就可以拿到父进程的ID。\"\"\"\n",
    "import os\n",
    "print ('Process (%s) start...' % os.getpid())\n",
    "\n",
    "pid =os.fork()\n",
    "if pid==0:\n",
    "    print ('I am child process (%s) and my parent is %s.' % (os.getpid(),os.getppid()))\n",
    "else:\n",
    "    print ('I (%s) just created a child process (%s).' % (os.getpid(),pid))"
   ]
  },
  {
   "cell_type": "code",
   "execution_count": 9,
   "metadata": {},
   "outputs": [
    {
     "name": "stdout",
     "output_type": "stream",
     "text": [
      "Parent process 4551.\n",
      "Run task 1 (8433).\n",
      "Run task 0 (8432).\n",
      "Run task 2 (8434).\n",
      "Run task 3 (8431).\n",
      "Waiting for all subprocesses done...\n",
      "Task 1 runs 0.65 seconds.\n",
      "Run task 4 (8433).\n",
      "Task 3 runs 1.02 seconds.\n",
      "Task 2 runs 1.30 seconds.\n",
      "Task 4 runs 1.18 seconds.\n",
      "Task 0 runs 2.13 seconds.\n",
      "All subprocesss done\n"
     ]
    }
   ],
   "source": [
    "\"\"\"进程池\"\"\"\n",
    "from multiprocessing import Pool\n",
    "import os,time,random\n",
    "\n",
    "def long_time_task(name):\n",
    "    print('Run task %s (%s).' % (name,os.getpid()))\n",
    "    start=time.time()\n",
    "    time.sleep(random.random()*3)\n",
    "    end=time.time()\n",
    "    print ('Task %s runs %0.2f seconds.' % (name,(end-start)))\n",
    "    \n",
    "if __name__=='__main__':\n",
    "    print ('Parent process %s.' % os.getpid())\n",
    "    p=Pool(4)\n",
    "    for i in range(5):\n",
    "        p.apply_async(long_time_task,args=(i,))\n",
    "    print('Waiting for all subprocesses done...')\n",
    "    p.close()\n",
    "    p.join()\n",
    "    print (\"All subprocesss done\")"
   ]
  },
  {
   "cell_type": "code",
   "execution_count": 13,
   "metadata": {},
   "outputs": [
    {
     "name": "stdout",
     "output_type": "stream",
     "text": [
      "Process to write: 11856\n",
      "Put A to queue..\n",
      "Process to read: 11857\n",
      "Get A from queue.\n",
      "Put B to queue..\n",
      "Get B from queue.\n",
      "Put C to queue..\n",
      "Get C from queue.\n"
     ]
    }
   ],
   "source": [
    "\"\"\"进程通信\"\"\"\n",
    "from multiprocessing import Process,Queue\n",
    "import os,time,random\n",
    "#写数据进程执行的代码\n",
    "def write(q):\n",
    "    print ('Process to write: %s' % os.getpid())\n",
    "    for value in ['A','B','C']:\n",
    "        print ('Put %s to queue..' %value)\n",
    "        q.put(value)\n",
    "        time.sleep(random.random())\n",
    "        \n",
    "#读数据进程执行代码\n",
    "def read(q):\n",
    "    print('Process to read: %s' % os.getpid())\n",
    "    while True:\n",
    "        value=q.get(True)\n",
    "        print('Get %s from queue.' % value)\n",
    "        \n",
    "if __name__=='__main__':\n",
    "    #父进程创建Queue，并传给各个子进程\n",
    "    q=Queue()\n",
    "    pw=Process(target=write,args=(q,))\n",
    "    pr=Process(target=read,args=(q,))\n",
    "    #启动子进程pw,写入:\n",
    "    pw.start()\n",
    "    #启动子进程pr,读取:\n",
    "    pr.start()\n",
    "    #等待pw结束：\n",
    "    pw.join()\n",
    "    #pr进程里是死循环，无法等待其结束，只能强行终止：\n",
    "    pr.terminate()"
   ]
  },
  {
   "cell_type": "code",
   "execution_count": 2,
   "metadata": {},
   "outputs": [
    {
     "name": "stdout",
     "output_type": "stream",
     "text": [
      "thread MainThread is running...\n",
      "thread LoopThread is running...\n",
      "thread LoopThread >>> 1\n",
      "thread LoopThread >>> 2\n",
      "thread LoopThread >>> 3\n",
      "thread LoopThread >>> 4\n",
      "thread LoopThread >>> 5\n",
      "thread LoopThread ended.\n",
      "thread MainThread ended.\n"
     ]
    }
   ],
   "source": [
    "\"\"\"线程\"\"\"\n",
    "import time,threading\n",
    "def loop():\n",
    "    print('thread %s is running...' % threading.current_thread().name)\n",
    "    n=0\n",
    "    while n<5:\n",
    "        n+=1\n",
    "        print ('thread %s >>> %s' % (threading.current_thread().name,n))\n",
    "        time.sleep(1)\n",
    "    print ('thread %s ended.' % threading.current_thread().name)\n",
    "    \n",
    "print('thread %s is running...' % threading.current_thread().name)\n",
    "t=threading.Thread(target=loop,name='LoopThread')\n",
    "t.start()\n",
    "t.join()\n",
    "print('thread %s ended.' % threading.current_thread().name)"
   ]
  },
  {
   "cell_type": "code",
   "execution_count": 4,
   "metadata": {},
   "outputs": [
    {
     "name": "stdout",
     "output_type": "stream",
     "text": [
      "Hello, Alice (in Thread-A)\n",
      "Hello, Bob (in Thread-B)\n"
     ]
    }
   ],
   "source": [
    "'''ThreadLocal'''\n",
    "import threading\n",
    "local_school=threading.local()\n",
    "\n",
    "def process_student():\n",
    "    #获取当前线程关联的student:\n",
    "    std=local_school.student\n",
    "    print('Hello, %s (in %s)' % (std,threading.current_thread().name))\n",
    "    \n",
    "def process_thread(name):\n",
    "    #绑定ThreadLocal 的student:\n",
    "    local_school.student=name\n",
    "    process_student()\n",
    "    \n",
    "t1=threading.Thread(target=process_thread,args=('Alice',),name='Thread-A')\n",
    "t2=threading.Thread(target=process_thread,args=('Bob',),name='Thread-B')\n",
    "t1.start()\n",
    "t2.start()\n",
    "t1.join()\n",
    "t2.join()\n"
   ]
  },
  {
   "cell_type": "code",
   "execution_count": 16,
   "metadata": {},
   "outputs": [
    {
     "name": "stderr",
     "output_type": "stream",
     "text": [
      "Process QueueManager-10:\n",
      "Traceback (most recent call last):\n",
      "  File \"/home/wangchx/anaconda3/lib/python3.6/multiprocessing/process.py\", line 258, in _bootstrap\n",
      "    self.run()\n",
      "  File \"/home/wangchx/anaconda3/lib/python3.6/multiprocessing/process.py\", line 93, in run\n",
      "    self._target(*self._args, **self._kwargs)\n",
      "  File \"/home/wangchx/anaconda3/lib/python3.6/multiprocessing/managers.py\", line 539, in _run_server\n",
      "    server = cls._Server(registry, address, authkey, serializer)\n",
      "  File \"/home/wangchx/anaconda3/lib/python3.6/multiprocessing/managers.py\", line 139, in __init__\n",
      "    self.listener = Listener(address=address, backlog=16)\n",
      "  File \"/home/wangchx/anaconda3/lib/python3.6/multiprocessing/connection.py\", line 438, in __init__\n",
      "    self._listener = SocketListener(address, family, backlog)\n",
      "  File \"/home/wangchx/anaconda3/lib/python3.6/multiprocessing/connection.py\", line 576, in __init__\n",
      "    self._socket.bind(address)\n",
      "OSError: [Errno 98] Address already in use\n"
     ]
    },
    {
     "ename": "EOFError",
     "evalue": "",
     "output_type": "error",
     "traceback": [
      "\u001b[0;31m---------------------------------------------------------------------------\u001b[0m",
      "\u001b[0;31mEOFError\u001b[0m                                  Traceback (most recent call last)",
      "\u001b[0;32m<ipython-input-16-c2ac1816dab4>\u001b[0m in \u001b[0;36m<module>\u001b[0;34m()\u001b[0m\n\u001b[1;32m     20\u001b[0m \u001b[0mmanager\u001b[0m\u001b[0;34m=\u001b[0m\u001b[0mQueueManager\u001b[0m\u001b[0;34m(\u001b[0m\u001b[0maddress\u001b[0m\u001b[0;34m=\u001b[0m\u001b[0;34m(\u001b[0m\u001b[0;34m''\u001b[0m\u001b[0;34m,\u001b[0m\u001b[0;36m5000\u001b[0m\u001b[0;34m)\u001b[0m\u001b[0;34m,\u001b[0m\u001b[0mauthkey\u001b[0m\u001b[0;34m=\u001b[0m\u001b[0;34mb'abc'\u001b[0m\u001b[0;34m)\u001b[0m\u001b[0;34m\u001b[0m\u001b[0m\n\u001b[1;32m     21\u001b[0m \u001b[0;31m#启动Queue\u001b[0m\u001b[0;34m\u001b[0m\u001b[0;34m\u001b[0m\u001b[0m\n\u001b[0;32m---> 22\u001b[0;31m \u001b[0mmanager\u001b[0m\u001b[0;34m.\u001b[0m\u001b[0mstart\u001b[0m\u001b[0;34m(\u001b[0m\u001b[0;34m)\u001b[0m\u001b[0;34m\u001b[0m\u001b[0m\n\u001b[0m\u001b[1;32m     23\u001b[0m \u001b[0;31m#获得通过网络访问的Queue对象：\u001b[0m\u001b[0;34m\u001b[0m\u001b[0;34m\u001b[0m\u001b[0m\n\u001b[1;32m     24\u001b[0m \u001b[0mtask\u001b[0m\u001b[0;34m=\u001b[0m\u001b[0mmanager\u001b[0m\u001b[0;34m.\u001b[0m\u001b[0mget_task_queue\u001b[0m\u001b[0;34m(\u001b[0m\u001b[0;34m)\u001b[0m\u001b[0;34m\u001b[0m\u001b[0m\n",
      "\u001b[0;32m~/anaconda3/lib/python3.6/multiprocessing/managers.py\u001b[0m in \u001b[0;36mstart\u001b[0;34m(self, initializer, initargs)\u001b[0m\n\u001b[1;32m    515\u001b[0m         \u001b[0;31m# get address of server\u001b[0m\u001b[0;34m\u001b[0m\u001b[0;34m\u001b[0m\u001b[0m\n\u001b[1;32m    516\u001b[0m         \u001b[0mwriter\u001b[0m\u001b[0;34m.\u001b[0m\u001b[0mclose\u001b[0m\u001b[0;34m(\u001b[0m\u001b[0;34m)\u001b[0m\u001b[0;34m\u001b[0m\u001b[0m\n\u001b[0;32m--> 517\u001b[0;31m         \u001b[0mself\u001b[0m\u001b[0;34m.\u001b[0m\u001b[0m_address\u001b[0m \u001b[0;34m=\u001b[0m \u001b[0mreader\u001b[0m\u001b[0;34m.\u001b[0m\u001b[0mrecv\u001b[0m\u001b[0;34m(\u001b[0m\u001b[0;34m)\u001b[0m\u001b[0;34m\u001b[0m\u001b[0m\n\u001b[0m\u001b[1;32m    518\u001b[0m         \u001b[0mreader\u001b[0m\u001b[0;34m.\u001b[0m\u001b[0mclose\u001b[0m\u001b[0;34m(\u001b[0m\u001b[0;34m)\u001b[0m\u001b[0;34m\u001b[0m\u001b[0m\n\u001b[1;32m    519\u001b[0m \u001b[0;34m\u001b[0m\u001b[0m\n",
      "\u001b[0;32m~/anaconda3/lib/python3.6/multiprocessing/connection.py\u001b[0m in \u001b[0;36mrecv\u001b[0;34m(self)\u001b[0m\n\u001b[1;32m    248\u001b[0m         \u001b[0mself\u001b[0m\u001b[0;34m.\u001b[0m\u001b[0m_check_closed\u001b[0m\u001b[0;34m(\u001b[0m\u001b[0;34m)\u001b[0m\u001b[0;34m\u001b[0m\u001b[0m\n\u001b[1;32m    249\u001b[0m         \u001b[0mself\u001b[0m\u001b[0;34m.\u001b[0m\u001b[0m_check_readable\u001b[0m\u001b[0;34m(\u001b[0m\u001b[0;34m)\u001b[0m\u001b[0;34m\u001b[0m\u001b[0m\n\u001b[0;32m--> 250\u001b[0;31m         \u001b[0mbuf\u001b[0m \u001b[0;34m=\u001b[0m \u001b[0mself\u001b[0m\u001b[0;34m.\u001b[0m\u001b[0m_recv_bytes\u001b[0m\u001b[0;34m(\u001b[0m\u001b[0;34m)\u001b[0m\u001b[0;34m\u001b[0m\u001b[0m\n\u001b[0m\u001b[1;32m    251\u001b[0m         \u001b[0;32mreturn\u001b[0m \u001b[0m_ForkingPickler\u001b[0m\u001b[0;34m.\u001b[0m\u001b[0mloads\u001b[0m\u001b[0;34m(\u001b[0m\u001b[0mbuf\u001b[0m\u001b[0;34m.\u001b[0m\u001b[0mgetbuffer\u001b[0m\u001b[0;34m(\u001b[0m\u001b[0;34m)\u001b[0m\u001b[0;34m)\u001b[0m\u001b[0;34m\u001b[0m\u001b[0m\n\u001b[1;32m    252\u001b[0m \u001b[0;34m\u001b[0m\u001b[0m\n",
      "\u001b[0;32m~/anaconda3/lib/python3.6/multiprocessing/connection.py\u001b[0m in \u001b[0;36m_recv_bytes\u001b[0;34m(self, maxsize)\u001b[0m\n\u001b[1;32m    405\u001b[0m \u001b[0;34m\u001b[0m\u001b[0m\n\u001b[1;32m    406\u001b[0m     \u001b[0;32mdef\u001b[0m \u001b[0m_recv_bytes\u001b[0m\u001b[0;34m(\u001b[0m\u001b[0mself\u001b[0m\u001b[0;34m,\u001b[0m \u001b[0mmaxsize\u001b[0m\u001b[0;34m=\u001b[0m\u001b[0;32mNone\u001b[0m\u001b[0;34m)\u001b[0m\u001b[0;34m:\u001b[0m\u001b[0;34m\u001b[0m\u001b[0m\n\u001b[0;32m--> 407\u001b[0;31m         \u001b[0mbuf\u001b[0m \u001b[0;34m=\u001b[0m \u001b[0mself\u001b[0m\u001b[0;34m.\u001b[0m\u001b[0m_recv\u001b[0m\u001b[0;34m(\u001b[0m\u001b[0;36m4\u001b[0m\u001b[0;34m)\u001b[0m\u001b[0;34m\u001b[0m\u001b[0m\n\u001b[0m\u001b[1;32m    408\u001b[0m         \u001b[0msize\u001b[0m\u001b[0;34m,\u001b[0m \u001b[0;34m=\u001b[0m \u001b[0mstruct\u001b[0m\u001b[0;34m.\u001b[0m\u001b[0munpack\u001b[0m\u001b[0;34m(\u001b[0m\u001b[0;34m\"!i\"\u001b[0m\u001b[0;34m,\u001b[0m \u001b[0mbuf\u001b[0m\u001b[0;34m.\u001b[0m\u001b[0mgetvalue\u001b[0m\u001b[0;34m(\u001b[0m\u001b[0;34m)\u001b[0m\u001b[0;34m)\u001b[0m\u001b[0;34m\u001b[0m\u001b[0m\n\u001b[1;32m    409\u001b[0m         \u001b[0;32mif\u001b[0m \u001b[0mmaxsize\u001b[0m \u001b[0;32mis\u001b[0m \u001b[0;32mnot\u001b[0m \u001b[0;32mNone\u001b[0m \u001b[0;32mand\u001b[0m \u001b[0msize\u001b[0m \u001b[0;34m>\u001b[0m \u001b[0mmaxsize\u001b[0m\u001b[0;34m:\u001b[0m\u001b[0;34m\u001b[0m\u001b[0m\n",
      "\u001b[0;32m~/anaconda3/lib/python3.6/multiprocessing/connection.py\u001b[0m in \u001b[0;36m_recv\u001b[0;34m(self, size, read)\u001b[0m\n\u001b[1;32m    381\u001b[0m             \u001b[0;32mif\u001b[0m \u001b[0mn\u001b[0m \u001b[0;34m==\u001b[0m \u001b[0;36m0\u001b[0m\u001b[0;34m:\u001b[0m\u001b[0;34m\u001b[0m\u001b[0m\n\u001b[1;32m    382\u001b[0m                 \u001b[0;32mif\u001b[0m \u001b[0mremaining\u001b[0m \u001b[0;34m==\u001b[0m \u001b[0msize\u001b[0m\u001b[0;34m:\u001b[0m\u001b[0;34m\u001b[0m\u001b[0m\n\u001b[0;32m--> 383\u001b[0;31m                     \u001b[0;32mraise\u001b[0m \u001b[0mEOFError\u001b[0m\u001b[0;34m\u001b[0m\u001b[0m\n\u001b[0m\u001b[1;32m    384\u001b[0m                 \u001b[0;32melse\u001b[0m\u001b[0;34m:\u001b[0m\u001b[0;34m\u001b[0m\u001b[0m\n\u001b[1;32m    385\u001b[0m                     \u001b[0;32mraise\u001b[0m \u001b[0mOSError\u001b[0m\u001b[0;34m(\u001b[0m\u001b[0;34m\"got end of file during message\"\u001b[0m\u001b[0;34m)\u001b[0m\u001b[0;34m\u001b[0m\u001b[0m\n",
      "\u001b[0;31mEOFError\u001b[0m: "
     ]
    }
   ],
   "source": [
    "\"\"\"分布式进程\"\"\"\n",
    "#task_maskter.py\n",
    "\n",
    "import random,time,queue\n",
    "from multiprocessing.managers import BaseManager\n",
    "\n",
    "#发送任务的队列\n",
    "task_queue=queue.Queue()\n",
    "#接收结果的队列\n",
    "result_queue=queue.Queue()\n",
    "\n",
    "#从BaseManager继承的QueueManager:\n",
    "class QueueManager(BaseManager):\n",
    "    pass\n",
    "\n",
    "#把两个Queue都注册到网络上，callable参数关联了Queue对象：\n",
    "QueueManager.register('get_task_queue',callable=lambda: task_queue)\n",
    "QueueManager.register('get_result_queue',callable=lambda: result_queue)\n",
    "#绑定端口5000，设置验证码‘abc'\n",
    "manager=QueueManager(address=('',5000),authkey=b'abc')\n",
    "#启动Queue\n",
    "manager.start()\n",
    "#获得通过网络访问的Queue对象：\n",
    "task=manager.get_task_queue()\n",
    "result=manager.get_result_queue()\n",
    "#放几个任务进去\n",
    "for i in range(10):\n",
    "    n=random.randint(0,10000)\n",
    "    print('Put task %d...' % n)\n",
    "    task.put(n)\n",
    "#从rusult队列读取结果：\n",
    "print ('Try get results...')\n",
    "for i in range(10):\n",
    "    r=result.get(timeout=10)\n",
    "    print('Result:%s' % r)\n",
    "\n",
    "#关闭\n",
    "manager.shutdown()\n",
    "print('master exit.')"
   ]
  },
  {
   "cell_type": "code",
   "execution_count": 15,
   "metadata": {},
   "outputs": [
    {
     "name": "stdout",
     "output_type": "stream",
     "text": [
      "Connect to server 127.0.0.1...\n"
     ]
    },
    {
     "ename": "NameError",
     "evalue": "name 'Queue' is not defined",
     "output_type": "error",
     "traceback": [
      "\u001b[0;31m---------------------------------------------------------------------------\u001b[0m",
      "\u001b[0;31mEmpty\u001b[0m                                     Traceback (most recent call last)",
      "\u001b[0;32m<ipython-input-15-31c7c02fc51e>\u001b[0m in \u001b[0;36m<module>\u001b[0;34m()\u001b[0m\n\u001b[1;32m     24\u001b[0m     \u001b[0;32mtry\u001b[0m\u001b[0;34m:\u001b[0m\u001b[0;34m\u001b[0m\u001b[0m\n\u001b[0;32m---> 25\u001b[0;31m         \u001b[0mn\u001b[0m\u001b[0;34m=\u001b[0m\u001b[0mtask\u001b[0m\u001b[0;34m.\u001b[0m\u001b[0mget\u001b[0m\u001b[0;34m(\u001b[0m\u001b[0mtimeout\u001b[0m\u001b[0;34m=\u001b[0m\u001b[0;36m1\u001b[0m\u001b[0;34m)\u001b[0m\u001b[0;34m\u001b[0m\u001b[0m\n\u001b[0m\u001b[1;32m     26\u001b[0m         \u001b[0mprint\u001b[0m\u001b[0;34m(\u001b[0m\u001b[0;34m'run task %d * %d...'\u001b[0m \u001b[0;34m%\u001b[0m \u001b[0;34m(\u001b[0m\u001b[0mn\u001b[0m\u001b[0;34m,\u001b[0m\u001b[0mn\u001b[0m\u001b[0;34m)\u001b[0m\u001b[0;34m)\u001b[0m\u001b[0;34m\u001b[0m\u001b[0m\n",
      "\u001b[0;32m<string>\u001b[0m in \u001b[0;36mget\u001b[0;34m(self, *args, **kwds)\u001b[0m\n",
      "\u001b[0;32m~/anaconda3/lib/python3.6/multiprocessing/managers.py\u001b[0m in \u001b[0;36m_callmethod\u001b[0;34m(self, methodname, args, kwds)\u001b[0m\n\u001b[1;32m    771\u001b[0m             \u001b[0;32mreturn\u001b[0m \u001b[0mproxy\u001b[0m\u001b[0;34m\u001b[0m\u001b[0m\n\u001b[0;32m--> 772\u001b[0;31m         \u001b[0;32mraise\u001b[0m \u001b[0mconvert_to_error\u001b[0m\u001b[0;34m(\u001b[0m\u001b[0mkind\u001b[0m\u001b[0;34m,\u001b[0m \u001b[0mresult\u001b[0m\u001b[0;34m)\u001b[0m\u001b[0;34m\u001b[0m\u001b[0m\n\u001b[0m\u001b[1;32m    773\u001b[0m \u001b[0;34m\u001b[0m\u001b[0m\n",
      "\u001b[0;31mEmpty\u001b[0m: ",
      "\nDuring handling of the above exception, another exception occurred:\n",
      "\u001b[0;31mNameError\u001b[0m                                 Traceback (most recent call last)",
      "\u001b[0;32m<ipython-input-15-31c7c02fc51e>\u001b[0m in \u001b[0;36m<module>\u001b[0;34m()\u001b[0m\n\u001b[1;32m     28\u001b[0m         \u001b[0mtime\u001b[0m\u001b[0;34m.\u001b[0m\u001b[0msleep\u001b[0m\u001b[0;34m(\u001b[0m\u001b[0;36m1\u001b[0m\u001b[0;34m)\u001b[0m\u001b[0;34m\u001b[0m\u001b[0m\n\u001b[1;32m     29\u001b[0m         \u001b[0mresult\u001b[0m\u001b[0;34m.\u001b[0m\u001b[0mput\u001b[0m\u001b[0;34m(\u001b[0m\u001b[0mr\u001b[0m\u001b[0;34m)\u001b[0m\u001b[0;34m\u001b[0m\u001b[0m\n\u001b[0;32m---> 30\u001b[0;31m     \u001b[0;32mexcept\u001b[0m \u001b[0mQueue\u001b[0m\u001b[0;34m.\u001b[0m\u001b[0mEmpty\u001b[0m\u001b[0;34m:\u001b[0m\u001b[0;34m\u001b[0m\u001b[0m\n\u001b[0m\u001b[1;32m     31\u001b[0m         \u001b[0mprint\u001b[0m\u001b[0;34m(\u001b[0m\u001b[0;34m'task queue is empty.'\u001b[0m\u001b[0;34m)\u001b[0m\u001b[0;34m\u001b[0m\u001b[0m\n\u001b[1;32m     32\u001b[0m \u001b[0;34m\u001b[0m\u001b[0m\n",
      "\u001b[0;31mNameError\u001b[0m: name 'Queue' is not defined"
     ]
    }
   ],
   "source": [
    "#task_worker.py\n",
    "import time,sys,queue\n",
    "from multiprocessing.managers import BaseManager\n",
    "\n",
    "#创建类似的QueueManager:\n",
    "class QueueManager(BaseManager):\n",
    "    pass\n",
    "#由于这个QueueManager只从网络上获取Queue，所以注册时只提供名字：\n",
    "QueueManager.register('get_task_queue')\n",
    "QueueManager.register('get_result_queue')\n",
    "\n",
    "#连接到服务器，也就是运行task_master.py的机器：\n",
    "server_addr='127.0.0.1'\n",
    "print('Connect to server %s...' % server_addr)\n",
    "#端口和验证码注意保持与task_master.py设置的完全一致\n",
    "m=QueueManager(address=(server_addr,5000),authkey=b'abc')\n",
    "#从网路连接\n",
    "m.connect()\n",
    "#获取Queue的对象\n",
    "task=m.get_task_queue()\n",
    "result=m.get_result_queue()\n",
    "#从task队列取任务，并把结果写入result队列:\n",
    "for i in range(10):\n",
    "    try:\n",
    "        n=task.get(timeout=1)\n",
    "        print('run task %d * %d...' % (n,n))\n",
    "        r='%d*%d=%d' % (n,n,n*n)\n",
    "        time.sleep(1)\n",
    "        result.put(r)\n",
    "    except Queue.Empty:\n",
    "        print('task queue is empty.')\n",
    "    \n",
    "#处理结束：\n",
    "print ('worker exit.')"
   ]
  },
  {
   "cell_type": "code",
   "execution_count": null,
   "metadata": {
    "collapsed": true
   },
   "outputs": [],
   "source": []
  },
  {
   "cell_type": "code",
   "execution_count": null,
   "metadata": {
    "collapsed": true
   },
   "outputs": [],
   "source": []
  },
  {
   "cell_type": "code",
   "execution_count": null,
   "metadata": {
    "collapsed": true
   },
   "outputs": [],
   "source": []
  },
  {
   "cell_type": "code",
   "execution_count": null,
   "metadata": {
    "collapsed": true
   },
   "outputs": [],
   "source": []
  },
  {
   "cell_type": "code",
   "execution_count": null,
   "metadata": {
    "collapsed": true
   },
   "outputs": [],
   "source": []
  },
  {
   "cell_type": "code",
   "execution_count": null,
   "metadata": {
    "collapsed": true
   },
   "outputs": [],
   "source": []
  },
  {
   "cell_type": "code",
   "execution_count": null,
   "metadata": {
    "collapsed": true
   },
   "outputs": [],
   "source": []
  },
  {
   "cell_type": "code",
   "execution_count": null,
   "metadata": {
    "collapsed": true
   },
   "outputs": [],
   "source": []
  },
  {
   "cell_type": "code",
   "execution_count": 43,
   "metadata": {},
   "outputs": [
    {
     "name": "stdout",
     "output_type": "stream",
     "text": [
      "please input the range you want:100000\n",
      "\n",
      " 9592\n",
      "0.270273\n"
     ]
    }
   ],
   "source": [
    "#大于等于5的质数一定和6的倍数相邻\n",
    "import datetime\n",
    "n=int(input('please input the range you want:'))\n",
    "counts=2\n",
    "start=datetime.datetime.now()\n",
    "for num in range(5,n,2):\n",
    "    if num%6!=1 and num%6!=5:\n",
    "        continue\n",
    "    else:\n",
    "        rnum=int(num**0.5)+1\n",
    "        for i in range(5,rnum,2):\n",
    "            if not num%i:\n",
    "                break\n",
    "        else:\n",
    "            counts+=1\n",
    "            #print(num,end='\\t')\n",
    "print('\\n',counts)\n",
    "print((datetime.datetime.now()-start).total_seconds())"
   ]
  },
  {
   "cell_type": "code",
   "execution_count": 22,
   "metadata": {},
   "outputs": [
    {
     "name": "stdout",
     "output_type": "stream",
     "text": [
      "2\t3\t5\t7\t11\t13\t17\t19\t23\t29\t31\t37\t41\t43\t47\t53\t59\t61\t67\t71\t73\t79\t83\t89\t97\t101\t103\t107\t109\t113\t127\t131\t137\t139\t149\t151\t157\t163\t167\t173\t179\t181\t191\t193\t197\t199\t211\t223\t227\t229\t233\t239\t241\t251\t257\t263\t269\t271\t277\t281\t283\t293\t307\t311\t313\t317\t331\t337\t347\t349\t353\t359\t367\t373\t379\t383\t389\t397\t401\t409\t419\t421\t431\t433\t439\t443\t449\t457\t461\t463\t467\t479\t487\t491\t499\t503\t509\t521\t523\t541\t547\t557\t563\t569\t571\t577\t587\t593\t599\t601\t607\t613\t617\t619\t631\t641\t643\t647\t653\t659\t661\t673\t677\t683\t691\t701\t709\t719\t727\t733\t739\t743\t751\t757\t761\t769\t773\t787\t797\t809\t811\t821\t823\t827\t829\t839\t853\t857\t859\t863\t877\t881\t883\t887\t907\t911\t919\t929\t937\t941\t947\t953\t967\t971\t977\t983\t991\t997\t1009\t1013\t1019\t1021\t1031\t1033\t1039\t1049\t1051\t1061\t1063\t1069\t1087\t1091\t1093\t1097\t1103\t1109\t1117\t1123\t1129\t1151\t1153\t1163\t1171\t1181\t1187\t1193\t1201\t1213\t1217\t1223\t1229\t1231\t1237\t1249\t1259\t1277\t1279\t1283\t1289\t1291\t1297\t1301\t1303\t1307\t1319\t1321\t1327\t1361\t1367\t1373\t1381\t1399\t1409\t1423\t1427\t1429\t1433\t1439\t1447\t1451\t1453\t1459\t1471\t1481\t1483\t1487\t1489\t1493\t1499\t1511\t1523\t1531\t1543\t1549\t1553\t1559\t1567\t1571\t1579\t1583\t1597\t1601\t1607\t1609\t1613\t1619\t1621\t1627\t1637\t1657\t1663\t1667\t1669\t1693\t1697\t1699\t1709\t1721\t1723\t1733\t1741\t1747\t1753\t1759\t1777\t1783\t1787\t1789\t1801\t1811\t1823\t1831\t1847\t1861\t1867\t1871\t1873\t1877\t1879\t1889\t1901\t1907\t1913\t1931\t1933\t1949\t1951\t1973\t1979\t1987\t1993\t1997\t1999\t2003\t2011\t2017\t2027\t2029\t2039\t2053\t2063\t2069\t2081\t2083\t2087\t2089\t2099\t2111\t2113\t2129\t2131\t2137\t2141\t2143\t2153\t2161\t2179\t2203\t2207\t2213\t2221\t2237\t2239\t2243\t2251\t2267\t2269\t2273\t2281\t2287\t2293\t2297\t2309\t2311\t2333\t2339\t2341\t2347\t2351\t2357\t2371\t2377\t2381\t2383\t2389\t2393\t2399\t2411\t2417\t2423\t2437\t2441\t2447\t2459\t2467\t2473\t2477\t2503\t2521\t2531\t2539\t2543\t2549\t2551\t2557\t2579\t2591\t2593\t2609\t2617\t2621\t2633\t2647\t2657\t2659\t2663\t2671\t2677\t2683\t2687\t2689\t2693\t2699\t2707\t2711\t2713\t2719\t2729\t2731\t2741\t2749\t2753\t2767\t2777\t2789\t2791\t2797\t2801\t2803\t2819\t2833\t2837\t2843\t2851\t2857\t2861\t2879\t2887\t2897\t2903\t2909\t2917\t2927\t2939\t2953\t2957\t2963\t2969\t2971\t2999\t3001\t3011\t3019\t3023\t3037\t3041\t3049\t3061\t3067\t3079\t3083\t3089\t3109\t3119\t3121\t3137\t3163\t3167\t3169\t3181\t3187\t3191\t3203\t3209\t3217\t3221\t3229\t3251\t3253\t3257\t3259\t3271\t3299\t3301\t3307\t3313\t3319\t3323\t3329\t3331\t3343\t3347\t3359\t3361\t3371\t3373\t3389\t3391\t3407\t3413\t3433\t3449\t3457\t3461\t3463\t3467\t3469\t3491\t3499\t3511\t3517\t3527\t3529\t3533\t3539\t3541\t3547\t3557\t3559\t3571\t3581\t3583\t3593\t3607\t3613\t3617\t3623\t3631\t3637\t3643\t3659\t3671\t3673\t3677\t3691\t3697\t3701\t3709\t3719\t3727\t3733\t3739\t3761\t3767\t3769\t3779\t3793\t3797\t3803\t3821\t3823\t3833\t3847\t3851\t3853\t3863\t3877\t3881\t3889\t3907\t3911\t3917\t3919\t3923\t3929\t3931\t3943\t3947\t3967\t3989\t4001\t4003\t4007\t4013\t4019\t4021\t4027\t4049\t4051\t4057\t4073\t4079\t4091\t4093\t4099\t4111\t4127\t4129\t4133\t4139\t4153\t4157\t4159\t4177\t4201\t4211\t4217\t4219\t4229\t4231\t4241\t4243\t4253\t4259\t4261\t4271\t4273\t4283\t4289\t4297\t4327\t4337\t4339\t4349\t4357\t4363\t4373\t4391\t4397\t4409\t4421\t4423\t4441\t4447\t4451\t4457\t4463\t4481\t4483\t4493\t4507\t4513\t4517\t4519\t4523\t4547\t4549\t4561\t4567\t4583\t4591\t4597\t4603\t4621\t4637\t4639\t4643\t4649\t4651\t4657\t4663\t4673\t4679\t4691\t4703\t4721\t4723\t4729\t4733\t4751\t4759\t4783\t4787\t4789\t4793\t4799\t4801\t4813\t4817\t4831\t4861\t4871\t4877\t4889\t4903\t4909\t4919\t4931\t4933\t4937\t4943\t4951\t4957\t4967\t4969\t4973\t4987\t4993\t4999\t5003\t5009\t5011\t5021\t5023\t5039\t5051\t5059\t5077\t5081\t5087\t5099\t5101\t5107\t5113\t5119\t5147\t5153\t5167\t5171\t5179\t5189\t5197\t5209\t5227\t5231\t5233\t5237\t5261\t5273\t5279\t5281\t5297\t5303\t5309\t5323\t5333\t5347\t5351\t5381\t5387\t5393\t5399\t5407\t5413\t5417\t5419\t5431\t5437\t5441\t5443\t5449\t5471\t5477\t5479\t5483\t5501\t5503\t5507\t5519\t5521\t5527\t5531\t5557\t5563\t5569\t5573\t5581\t5591\t5623\t5639\t5641\t5647\t5651\t5653\t5657\t5659\t5669\t5683\t5689\t5693\t5701\t5711\t5717\t5737\t5741\t5743\t5749\t5779\t5783\t5791\t5801\t5807\t5813\t5821\t5827\t5839\t5843\t5849\t5851\t5857\t5861\t5867\t5869\t5879\t5881\t5897\t5903\t5923\t5927\t5939\t5953\t5981\t5987\t6007\t6011\t6029\t6037\t6043\t6047\t6053\t6067\t6073\t6079\t6089\t6091\t6101\t6113\t6121\t6131\t6133\t6143\t6151\t6163\t6173\t6197\t6199\t6203\t6211\t6217\t6221\t6229\t6247\t6257\t6263\t6269\t6271\t6277\t6287\t6299\t6301\t6311\t6317\t6323\t6329\t6337\t6343\t6353\t6359\t6361\t6367\t6373\t6379\t6389\t6397\t6421\t6427\t6449\t6451\t6469\t6473\t6481\t6491\t6521\t6529\t6547\t6551\t6553\t6563\t6569\t6571\t6577\t6581\t6599\t6607\t6619\t6637\t6653\t6659\t6661\t6673\t6679\t6689\t6691\t6701\t6703\t6709\t6719\t6733\t6737\t6761\t6763\t6779\t6781\t6791\t6793\t6803\t6823\t6827\t6829\t6833\t6841\t6857\t6863\t6869\t6871\t6883\t6899\t6907\t6911\t6917\t6947\t6949\t6959\t6961\t6967\t6971\t6977\t6983\t6991\t6997\t7001\t7013\t7019\t7027\t7039\t7043\t7057\t7069\t7079\t7103\t7109\t7121\t7127\t7129\t7151\t7159\t7177\t7187\t7193\t7207\t7211\t7213\t7219\t7229\t7237\t7243\t7247\t7253\t7283\t7297\t7307\t7309\t7321\t7331\t7333\t7349\t7351\t7369\t7393\t7411\t7417\t7433\t7451\t7457\t7459\t7477\t7481\t7487\t7489\t7499\t7507\t7517\t7523\t7529\t7537\t7541\t7547\t7549\t7559\t7561\t7573\t7577\t7583\t7589\t7591\t7603\t7607\t7621\t7639\t7643\t7649\t7669\t7673\t7681\t7687\t7691\t7699\t7703\t7717\t7723\t7727\t7741\t7753\t7757\t7759\t7789\t7793\t7817\t7823\t7829\t7841\t7853\t7867\t7873\t7877\t7879\t7883\t7901\t7907\t7919\t7927\t7933\t7937\t7949\t7951\t7963\t7993\t8009\t8011\t8017\t8039\t8053\t8059\t8069\t8081\t8087\t8089\t8093\t8101\t8111\t8117\t8123\t8147\t8161\t8167\t8171\t8179\t8191\t8209\t8219\t8221\t8231\t8233\t8237\t8243\t8263\t8269\t8273\t8287\t8291\t8293\t8297\t8311\t8317\t8329\t8353\t8363\t8369\t8377\t8387\t8389\t8419\t8423\t8429\t8431\t8443\t8447\t8461\t8467\t8501\t8513\t8521\t8527\t8537\t8539\t8543\t8563\t8573\t8581\t8597\t8599\t8609\t8623\t8627\t8629\t8641\t8647\t8663\t8669\t8677\t8681\t8689\t8693\t8699\t8707\t8713\t8719\t8731\t8737\t8741\t8747\t8753\t8761\t8779\t8783\t8803\t8807\t8819\t8821\t8831\t8837\t8839\t8849\t8861\t8863\t8867\t8887\t8893\t8923\t8929\t8933\t8941\t8951\t8963\t8969\t8971\t8999\t9001\t9007\t9011\t9013\t9029\t9041\t9043\t9049\t9059\t9067\t9091\t9103\t9109\t9127\t9133\t9137\t9151\t9157\t9161\t9173\t9181\t9187\t9199\t9203\t9209\t9221\t9227\t9239\t9241\t9257\t9277\t9281\t9283\t9293\t9311\t9319\t9323\t9337\t9341\t9343\t9349\t9371\t9377\t9391\t9397\t9403\t9413\t9419\t9421\t9431\t9433\t9437\t9439\t9461\t9463\t9467\t9473\t9479\t9491\t9497\t9511\t9521\t9533\t9539\t9547\t9551\t9587\t9601\t9613\t9619\t9623\t9629\t9631\t9643\t9649\t9661\t9677\t9679\t9689\t9697\t9719\t9721\t9733\t9739\t9743\t9749\t9767\t9769\t9781\t9787\t9791\t9803\t9811\t9817\t9829\t9833\t9839\t9851\t9857\t9859\t9871\t9883\t9887\t9901\t9907\t9923\t9929\t9931\t9941\t9949\t9967\t9973\t"
     ]
    }
   ],
   "source": [
    "for i in range(2,10000):\n",
    "    for j in range(2,int(i**0.5)+1):\n",
    "        if i%j==0:\n",
    "            break\n",
    "    else:\n",
    "        print(i,end='\\t')\n",
    "        "
   ]
  },
  {
   "cell_type": "raw",
   "metadata": {},
   "source": []
  }
 ],
 "metadata": {
  "kernelspec": {
   "display_name": "Python 3",
   "language": "python",
   "name": "python3"
  },
  "language_info": {
   "codemirror_mode": {
    "name": "ipython",
    "version": 3
   },
   "file_extension": ".py",
   "mimetype": "text/x-python",
   "name": "python",
   "nbconvert_exporter": "python",
   "pygments_lexer": "ipython3",
   "version": "3.6.1"
  }
 },
 "nbformat": 4,
 "nbformat_minor": 2
}

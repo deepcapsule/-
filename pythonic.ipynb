{
 "cells": [
  {
   "cell_type": "code",
   "execution_count": 1,
   "metadata": {},
   "outputs": [
    {
     "name": "stdout",
     "output_type": "stream",
     "text": [
      "5 10\n",
      "10 5\n"
     ]
    }
   ],
   "source": [
    "\"\"\"交换两个值\"\"\"\n",
    "\"\"\"pythonic way of value swapping\"\"\"\n",
    "a,b=5,10\n",
    "print(a,b)\n",
    "a,b=b,a\n",
    "print(a,b)"
   ]
  },
  {
   "cell_type": "code",
   "execution_count": 8,
   "metadata": {},
   "outputs": [
    {
     "name": "stdout",
     "output_type": "stream",
     "text": [
      "Python is awesome\n"
     ]
    }
   ],
   "source": [
    "\"\"\"拼接列表中的字符串\"\"\"\n",
    "a=[\"Python\",\"is\",\"awesome\"]\n",
    "print(\" \".join(a))"
   ]
  },
  {
   "cell_type": "code",
   "execution_count": 2,
   "metadata": {},
   "outputs": [
    {
     "name": "stdout",
     "output_type": "stream",
     "text": [
      "2\n",
      "[(2, 4), (1, 3), (3, 2)]\n"
     ]
    }
   ],
   "source": [
    "\"\"\"查找列表中出现最频繁的元素\"\"\"\n",
    "\"\"\"most frequent element in a list\"\"\"\n",
    "a=[1,2,3,1,2,3,2,2,4,5,1]\n",
    "print(max(set(a),key=a.count))\n",
    "\"\"\"using counter from collections\"\"\"\n",
    "from collections import Counter\n",
    "cnt=Counter(a)\n",
    "print(cnt.most_common(3))"
   ]
  },
  {
   "cell_type": "code",
   "execution_count": 9,
   "metadata": {},
   "outputs": [
    {
     "name": "stdout",
     "output_type": "stream",
     "text": [
      "True\n"
     ]
    }
   ],
   "source": [
    "\"\"\"检查两个字符串是否有相同的字符构成\"\"\"\n",
    "str1=\"abcdefg\"\n",
    "str2=\"bdcagfe\"\n",
    "from collections import Counter\n",
    "print(Counter(str1)==Counter(str2))"
   ]
  },
  {
   "cell_type": "code",
   "execution_count": 11,
   "metadata": {},
   "outputs": [
    {
     "name": "stdout",
     "output_type": "stream",
     "text": [
      "zyxwvutsrqponmlkjihgfedcba\n",
      "z\n",
      "y\n",
      "x\n",
      "w\n",
      "v\n",
      "u\n",
      "t\n",
      "s\n",
      "r\n",
      "q\n",
      "p\n",
      "o\n",
      "n\n",
      "m\n",
      "l\n",
      "k\n",
      "j\n",
      "i\n",
      "h\n",
      "g\n",
      "f\n",
      "e\n",
      "d\n",
      "c\n",
      "b\n",
      "a\n",
      "987654321\n"
     ]
    }
   ],
   "source": [
    "\"\"\"字符串反转\"\"\"\n",
    "\"\"\"reversing string with special case of slice step  param\"\"\"\n",
    "a=\"abcdefghijklmnopqrstuvwxyz\"\n",
    "print(a[::-1])\n",
    "\n",
    "\"\"\"iterrating over string contents in reverse efficinety\"\"\"\n",
    "for char in reversed(a):\n",
    "    print(char)\n",
    "    \n",
    "\"\"\"reversing an integer through type conversion and slicing.\"\"\"\n",
    "num=123456789\n",
    "print(int(str(num)[::-1]))"
   ]
  },
  {
   "cell_type": "code",
   "execution_count": 12,
   "metadata": {},
   "outputs": [
    {
     "name": "stdout",
     "output_type": "stream",
     "text": [
      "[1, 2, 3, 4, 5]\n",
      "1\n",
      "2\n",
      "3\n",
      "4\n",
      "5\n"
     ]
    }
   ],
   "source": [
    "\"\"\"列表反转\"\"\"\n",
    "\"\"\"reversing list with special case of slice step param\"\"\"\n",
    "a=[5,4,3,2,1]\n",
    "print(a[::-1])\n",
    "\n",
    "\"\"\"iterating over list contents in reverse efficiently.\"\"\"\n",
    "for ele in reversed(a):\n",
    "    print(ele)"
   ]
  },
  {
   "cell_type": "code",
   "execution_count": 13,
   "metadata": {},
   "outputs": [
    {
     "name": "stdout",
     "output_type": "stream",
     "text": [
      "[('a', 'c', 'e'), ('b', 'd', 'f')]\n"
     ]
    }
   ],
   "source": [
    "\"\"\"转置二位数组\"\"\"\n",
    "\"\"\"transpose 2d array [[a,b],[c,d],[e,f]] ->  [[a,c,e],[b,d,f]]\"\"\"\n",
    "original=[['a','b'],['c','d'],['e','f']]\n",
    "transposed=zip(*original)\n",
    "print(list(transposed))"
   ]
  },
  {
   "cell_type": "code",
   "execution_count": 14,
   "metadata": {},
   "outputs": [
    {
     "name": "stdout",
     "output_type": "stream",
     "text": [
      "True\n",
      "False\n"
     ]
    }
   ],
   "source": [
    "\"\"\"链式比较\"\"\"\n",
    "\"\"\"chainde comparison with all kind of eperators\"\"\"\n",
    "b=6\n",
    "print(4<b<7)\n",
    "print(1==b<20)"
   ]
  },
  {
   "cell_type": "code",
   "execution_count": 15,
   "metadata": {},
   "outputs": [
    {
     "name": "stdout",
     "output_type": "stream",
     "text": [
      "35\n"
     ]
    }
   ],
   "source": [
    "\"\"\"链式函数调用\"\"\"\n",
    "\"\"\"calling different functions with same arguments based on condition\"\"\"\n",
    "def product(a,b):\n",
    "    return(a*b)\n",
    "def add(a,b):\n",
    "    return (a+b)\n",
    "b=True\n",
    "print((product if b else add)(5,7))"
   ]
  },
  {
   "cell_type": "code",
   "execution_count": 16,
   "metadata": {},
   "outputs": [
    {
     "name": "stdout",
     "output_type": "stream",
     "text": [
      "[1, 2, 3, 4, 5]\n",
      "[1, 2, 3, 4, 5]\n",
      "[[1, 2], [3, 4]]\n"
     ]
    }
   ],
   "source": [
    "\"\"\"拷贝列表\"\"\"\n",
    "\"\"\"a fast way to make a shallow copy of a list\"\"\"\n",
    "b=a\n",
    "b[0]=10\n",
    "\"\"\"both a and b will be [10,2,3,4,5]\"\"\"\n",
    "\n",
    "b=a[:]\n",
    "b[0]=10\n",
    "\"\"\"only b will change to [10,2,3,4,5]\"\"\"\n",
    "\n",
    "\"\"\"copy list by typecasting method\"\"\"\n",
    "a=[1,2,3,4,5]\n",
    "print(list(a))\n",
    "\n",
    "\"\"\"using the list.copy() method (python3 only)\"\"\"\n",
    "a=[1,2,3,4,5]\n",
    "print(a.copy())\n",
    "\n",
    "\"\"\"copy nested lists using copy.deepcopy\"\"\"\n",
    "from copy import deepcopy\n",
    "l=[[1,2],[3,4]]\n",
    "l2=deepcopy(l)\n",
    "print(l2)"
   ]
  },
  {
   "cell_type": "code",
   "execution_count": 17,
   "metadata": {},
   "outputs": [
    {
     "name": "stdout",
     "output_type": "stream",
     "text": [
      "3\n",
      "{'a': 1, 'b': 2}\n"
     ]
    }
   ],
   "source": [
    "\"\"\"字典get\"\"\"\n",
    "\"\"\"return None or default value,when key is not in dict\"\"\"\n",
    "d={'a':1,'b':2}\n",
    "print(d.get('c',3))"
   ]
  },
  {
   "cell_type": "code",
   "execution_count": 18,
   "metadata": {},
   "outputs": [
    {
     "name": "stdout",
     "output_type": "stream",
     "text": [
      "[('rotten tomato', 1), ('banana', 5), ('apple', 10), ('orange', 20)]\n",
      "[('rotten tomato', 1), ('banana', 5), ('apple', 10), ('orange', 20)]\n",
      "['rotten tomato', 'banana', 'apple', 'orange']\n"
     ]
    }
   ],
   "source": [
    "\"\"\"按照字典的值排序\"\"\"\n",
    "\"\"\"Sort a dictionary vy its values with the built-in sorted() function and a 'kye' argument\"\"\"\n",
    "d={\"apple\":10,\"orange\":20,\"banana\":5,\"rotten tomato\":1}\n",
    "print(sorted(d.items(),key=lambda x:x[1]))\n",
    "\n",
    "\"\"\"Sort using operator.itemgetter as the sort key instead of lambda.\"\"\"\n",
    "from operator import itemgetter\n",
    "print(sorted(d.items(),key=itemgetter(1)))\n",
    "\n",
    "\"\"\"Sort dict keys by value\"\"\"\n",
    "print(sorted(d,key=d.get))"
   ]
  },
  {
   "cell_type": "code",
   "execution_count": 22,
   "metadata": {},
   "outputs": [
    {
     "name": "stdout",
     "output_type": "stream",
     "text": [
      "did not break out of for loop\n"
     ]
    }
   ],
   "source": [
    "\"\"\"For Else\"\"\"\n",
    "\"\"\"else gets called when for loop deos not reach break statement\"\"\"\n",
    "a=[1,2,3,4,5]\n",
    "for el in a:\n",
    "    if el==0:\n",
    "        break\n",
    "else:\n",
    "    print ('did not break out of for loop')"
   ]
  },
  {
   "cell_type": "code",
   "execution_count": 23,
   "metadata": {},
   "outputs": [
    {
     "name": "stdout",
     "output_type": "stream",
     "text": [
      "foo,bar,xyz\n",
      "2,3,5,10\n",
      "2,hello,3,3.4\n"
     ]
    }
   ],
   "source": [
    "\"\"\"将列表转换成用逗号分隔的字符串\"\"\"\n",
    "\"\"\"converts list to comma separated string\"\"\"\n",
    "items=['foo','bar','xyz']\n",
    "print(','.join(items))\n",
    "\n",
    "\"\"\"list of numbers to comma separated\"\"\"\n",
    " numbers=[2,3,5,10]\n",
    "print(','.join(map(str,numbers)))\n",
    "\n",
    "\"\"\"list of mix data\"\"\"\n",
    "data=[2,'hello',3,3.4]\n",
    "print(','.join(map(str,data)))"
   ]
  },
  {
   "cell_type": "code",
   "execution_count": 25,
   "metadata": {},
   "outputs": [
    {
     "name": "stdout",
     "output_type": "stream",
     "text": [
      "{'a': 1, 'b': 2}\n",
      "{'b': 2, 'a': 1}\n",
      "{'a': 1, 'b': 2}\n"
     ]
    }
   ],
   "source": [
    "\"\"\"合并字典\"\"\"\n",
    "\"\"\"merge dict's\"\"\"\n",
    "d1={'a':1}\n",
    "d2={'b':2}\n",
    "\n",
    "print({**d1,**d2})\n",
    "\n",
    "print(dict(d1.items() | d2.items()))\n",
    "\n",
    "d1.update(d2)\n",
    "print(d1)"
   ]
  },
  {
   "cell_type": "code",
   "execution_count": 26,
   "metadata": {},
   "outputs": [
    {
     "name": "stdout",
     "output_type": "stream",
     "text": [
      "1\n",
      "0\n"
     ]
    }
   ],
   "source": [
    "\"\"\"获取列表中最大值与最小值的索引位置\"\"\"\n",
    "\"\"\"Find Index of Min/Max Element\"\"\"\n",
    "lst=[40,10,20,30]\n",
    "def minIndex(lst):\n",
    "    return min(range(len(lst)),key=lst.__getitem__)\n",
    "def maxIndex(lst):\n",
    "    return max(range(len(lst)),key=lst.__getitem__)\n",
    "\n",
    "print (minIndex(lst))\n",
    "print (maxIndex(lst))"
   ]
  },
  {
   "cell_type": "code",
   "execution_count": 28,
   "metadata": {},
   "outputs": [
    {
     "name": "stdout",
     "output_type": "stream",
     "text": [
      "[1, 2, 3]\n",
      "['foo', 'bar']\n"
     ]
    }
   ],
   "source": [
    "\"\"\"移除列表中的重复的元素\"\"\"\n",
    "\"\"\"remove duplicate items from list. note:does not preserve the original list order\"\"\"\n",
    "items=[2,2,3,3,1]\n",
    "newitems2=list(set(items))\n",
    "print (newitems2)\n",
    "\n",
    "\"\"\"remove dups and keep order\"\"\"\n",
    "from collections import OrderedDict\n",
    "items=['foo','bar','bar','foo']\n",
    "print (list(OrderedDict.fromkeys(items).keys()))"
   ]
  },
  {
   "cell_type": "code",
   "execution_count": 2,
   "metadata": {},
   "outputs": [
    {
     "name": "stdout",
     "output_type": "stream",
     "text": [
      "foo is running\n",
      "I am foo\n"
     ]
    }
   ],
   "source": [
    "def use_logging(func):\n",
    "    \n",
    "    def wrapper():\n",
    "        print (\"%s is running\" % func.__name__)\n",
    "        return func()\n",
    "    return wrapper\n",
    "@use_logging\n",
    "def foo():\n",
    "    print (\"I am foo\")\n",
    "    \n",
    "foo()"
   ]
  },
  {
   "cell_type": "code",
   "execution_count": 9,
   "metadata": {},
   "outputs": [
    {
     "name": "stdout",
     "output_type": "stream",
     "text": [
      "foo is running!!!!\n",
      "I am wang and I am 14 years old.\n"
     ]
    }
   ],
   "source": [
    "'''带参数的装饰器'''\n",
    "def use_logging(level):\n",
    "    def decorator(func):\n",
    "        def wrapper(*args,**kwargs):\n",
    "            if level==\"warn\":\n",
    "                print (\"%s is running!!!!\"%func.__name__)\n",
    "            elif level==\"info\":\n",
    "                print (\"%s is running....\"%func.__name__)\n",
    "            return func(*args,**kwargs)\n",
    "        return wrapper\n",
    "    return decorator\n",
    "\n",
    "@use_logging(level='warn')\n",
    "def foo(name,age):\n",
    "    print(\"I am %s and I am %d years old.\" % (name,age))\n",
    "\n",
    "foo(\"wang\",age=14)"
   ]
  },
  {
   "cell_type": "code",
   "execution_count": 13,
   "metadata": {},
   "outputs": [
    {
     "name": "stdout",
     "output_type": "stream",
     "text": [
      "class decorator running\n",
      "bar\n",
      "class decorator ending\n"
     ]
    }
   ],
   "source": [
    "'''类装饰器'''\n",
    "class Foo(object):\n",
    "    def __init__(self,func):\n",
    "        self._func=func\n",
    "    def __call__(self):\n",
    "        print ('class decorator running')\n",
    "        self._func()\n",
    "        print ('class decorator ending')\n",
    "        \n",
    "@Foo\n",
    "def bar():\n",
    "    print ('bar')\n",
    "\n",
    "bar()"
   ]
  },
  {
   "cell_type": "code",
   "execution_count": 31,
   "metadata": {},
   "outputs": [
    {
     "name": "stdout",
     "output_type": "stream",
     "text": [
      "f\n",
      "do some math\n"
     ]
    },
    {
     "data": {
      "text/plain": [
       "6"
      ]
     },
     "execution_count": 31,
     "metadata": {},
     "output_type": "execute_result"
    }
   ],
   "source": [
    "'''functools.wraps'''\n",
    "from functools import wraps\n",
    "def logged(func):\n",
    "    '@wraps(func)'\n",
    "    def with_logging(*args,**kwargs):\n",
    "        print (func.__name__)\n",
    "        print (func.__doc__)\n",
    "        return func(*args,**kwargs)\n",
    "    return with_logging\n",
    "\n",
    "@logged\n",
    "def f(x):\n",
    "    'do some math'\n",
    "    return x+x*x\n",
    "\n",
    "f(2)"
   ]
  },
  {
   "cell_type": "markdown",
   "metadata": {},
   "source": [
    "快速构成一个字典序列"
   ]
  },
  {
   "cell_type": "code",
   "execution_count": 4,
   "metadata": {},
   "outputs": [
    {
     "name": "stdout",
     "output_type": "stream",
     "text": [
      "{'a': 0, 'b': 1, 'c': 2, 'd': 3}\n"
     ]
    }
   ],
   "source": [
    "print(dict(zip('abcd',range(4))))"
   ]
  },
  {
   "cell_type": "markdown",
   "metadata": {},
   "source": [
    "推导列表生成字典"
   ]
  },
  {
   "cell_type": "code",
   "execution_count": 14,
   "metadata": {},
   "outputs": [
    {
     "name": "stdout",
     "output_type": "stream",
     "text": [
      "{1: 'a', 2: 'b'}\n"
     ]
    }
   ],
   "source": [
    "list1=((1,'a'),(2,'b'))\n",
    "print({x[0]:x[1] for x in list1})"
   ]
  },
  {
   "cell_type": "markdown",
   "metadata": {},
   "source": [
    "heapq"
   ]
  },
  {
   "cell_type": "code",
   "execution_count": 17,
   "metadata": {},
   "outputs": [
    {
     "name": "stdout",
     "output_type": "stream",
     "text": [
      "[89, 55, 26]\n",
      "[{'names': 'aa', 'scores': 88, 'height': 178}, {'names': 'bb', 'score': 10, 'height': 180}]\n"
     ]
    }
   ],
   "source": [
    "import heapq\n",
    "nums=[10,4,55,26,89]\n",
    "print(heapq.nlargest(3,nums))\n",
    "\n",
    "students=[{'names':'cc','score':100,'height':189},\n",
    "          {'names':'bb','score':10,'height':180},\n",
    "          {'names':'aa','scores':88,'height':178}]\n",
    "print(heapq.nsmallest(2,students,key=lambda x:x['height']))"
   ]
  },
  {
   "cell_type": "code",
   "execution_count": 11,
   "metadata": {},
   "outputs": [
    {
     "data": {
      "text/plain": [
       "5"
      ]
     },
     "execution_count": 11,
     "metadata": {},
     "output_type": "execute_result"
    }
   ],
   "source": [
    "a = {'w':2,'c':'3'}\n",
    "a['x'] = a.get('x',4) + 1\n",
    "a['x']"
   ]
  }
 ],
 "metadata": {
  "kernelspec": {
   "display_name": "Python 3",
   "language": "python",
   "name": "python3"
  },
  "language_info": {
   "codemirror_mode": {
    "name": "ipython",
    "version": 3
   },
   "file_extension": ".py",
   "mimetype": "text/x-python",
   "name": "python",
   "nbconvert_exporter": "python",
   "pygments_lexer": "ipython3",
   "version": "3.6.4"
  }
 },
 "nbformat": 4,
 "nbformat_minor": 2
}

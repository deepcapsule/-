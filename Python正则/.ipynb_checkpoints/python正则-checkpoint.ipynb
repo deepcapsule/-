{
 "cells": [
  {
   "cell_type": "markdown",
   "metadata": {},
   "source": [
    "### 一、元字符"
   ]
  },
  {
   "cell_type": "markdown",
   "metadata": {},
   "source": [
    "* . 匹配任意字符（不包括换行符）  \n",
    "* ^ 匹配开始位置，多行模式下匹配每一行的开始  \n",
    "- $ 匹配结束位置，多行模式下匹配每一行的结束 "
   ]
  },
  {
   "cell_type": "markdown",
   "metadata": {},
   "source": [
    "+ \\* 匹配前一个元字符0到多次  \n",
    "+ ? 匹配前一个字符0到1次\n",
    "+ \\+ 匹配前一个字符1到多次\n",
    "+ {m} 匹配前一个字符m次\n",
    "+ {m,} 匹配前一个字符至少m次\n",
    "+ {m,n} 匹配前一个字符m到n次\n",
    "+ \\\\ 转义字符，跟在其后的字符失去作为特殊元字符的含义\n",
    "+ [] 字符集，一个字符的集合，可匹配其中任意一个字符\n",
    "+ | 逻辑表达式或，比如a|b代表可匹配a或者b\n",
    "+ (...) 分组，默认为捕获，即被分组的内容可以被单独取出，默认每个分组有个索引，从1开始\n",
    "+ (?:...) 分组的不捕获模式，计算索引时会跳过这个分组\n",
    "* (?P< name>...) 分组的命名模式，取此分组中内容时可使用索引也可使用name  \n",
    "* (?P=name) 分组的引用模式，可在同一个正则表达式用引用前面命名过的正则\n",
    "* (?#...) 注释，不影响正则表达式的其他部分\n",
    "* (?=...) 顺序肯定环视，表示所在位置右侧能够匹配括号内正则\n",
    "* (?!...) 顺序否定环视，表示所在位置右侧不能匹配括号内正则  \n",
    "* (?<...) 逆序肯定环视，表示所在位置左侧能够匹配括号内正则  \n",
    "* (?<!...) 逆序否定环视，表示所在位置左侧不能匹配括号内正则\n",
    "* (?(id/name) yes|no) 若前面指定id或name的分区匹配成功则执行yes处的正则，否则执行no处的正则  \n",
    "* \\number 匹配和前面索引为number的分组捕获到的内容一样的字符串  \n",
    "* \\A 匹配字符串开始位置，忽略多行模式\n",
    "* \\Z 匹配字符串结束位置，忽略多行模式\n",
    "* \\b 匹配单词开始或结束位置的空字符串\n",
    "* \\B 匹配不位于单词开始或结束位置的空字符串\n",
    "* \\d 匹配一个数字，相当于[0-9]\n",
    "* \\D 匹配非数字，相当于[^0-9]\n",
    "* \\s 匹配任意空白字符，相当于[ \\t\\n\\r\\f\\v]\n",
    "* \\S 匹配非空白字符，相当于[^ \\t\\n\\r\\f\\v]\n",
    "* \\w 匹配数字、字母、下划线中任意一个字符，相当于[a-zA-Z0-9_]\n",
    "* \\W 匹配非数字、字母、下划线中的任意字符"
   ]
  },
  {
   "cell_type": "markdown",
   "metadata": {},
   "source": [
    "### 二、模式"
   ]
  },
  {
   "cell_type": "markdown",
   "metadata": {},
   "source": [
    "* I ignorecase,忽略大小写的匹配模式"
   ]
  },
  {
   "cell_type": "code",
   "execution_count": 8,
   "metadata": {},
   "outputs": [
    {
     "name": "stdout",
     "output_type": "stream",
     "text": [
      "hello World!\n",
      "hello World!\n"
     ]
    }
   ],
   "source": [
    "import re\n",
    "s = 'hello World!'\n",
    "regex = re.compile('hello world!',re.I)\n",
    "print(regex.match(s).group())\n",
    "\n",
    "#在正则表达式中指定模式及注释\n",
    "regex2 = re.compile(\"(?i)hello world!\")\n",
    "print(regex2.match(s).group())"
   ]
  },
  {
   "cell_type": "markdown",
   "metadata": {},
   "source": [
    "* L local,字符集本地化。为了支持多语言版本字符集使用环境的，对中文环境无用。"
   ]
  },
  {
   "cell_type": "markdown",
   "metadata": {},
   "source": [
    "* M multiline,多行模式，改变^和$的行为"
   ]
  },
  {
   "cell_type": "code",
   "execution_count": 17,
   "metadata": {},
   "outputs": [
    {
     "name": "stdout",
     "output_type": "stream",
     "text": [
      "['first']\n",
      "['first', 'second', 'third']\n",
      "['line', 'line', 'line']\n"
     ]
    }
   ],
   "source": [
    "import re\n",
    "s1 = '''first line\n",
    "second line\n",
    "third line'''\n",
    "regex_start = re.compile('^\\w+')\n",
    "print(regex_start.findall(s1))\n",
    "\n",
    "regex_start_m = re.compile('^\\w+',re.M)\n",
    "print(regex_start_m.findall(s1))\n",
    "\n",
    "regex_end_m = re.compile('\\w+$',re.M)\n",
    "print(regex_end_m.findall(s1))"
   ]
  },
  {
   "cell_type": "markdown",
   "metadata": {},
   "source": [
    "* S dotall，此模式下，'.'的匹配不受限制，可匹配任何字符，包括换行符"
   ]
  },
  {
   "cell_type": "markdown",
   "metadata": {},
   "source": [
    "* U unicode，使用\\w,\\W,\\b,\\B这些元字符时将按照unicode定义的属性"
   ]
  },
  {
   "cell_type": "markdown",
   "metadata": {},
   "source": [
    "### 三、函数"
   ]
  },
  {
   "cell_type": "markdown",
   "metadata": {},
   "source": [
    "* compile(pattern,flags=0)  \n",
    "给定一个正则表达式pattern，指定使用的模式flags默认为0，即不使用任何模式，然后返回一个SRE_Pattern对象。这个对象可以调用其他函数来完成匹配，一般来说推荐使用compile函数预编译出一个正则模式后再去使用，这样在后面的代码中可以很方便的复用它，当然大部分函数也可以不用compile直接使用。"
   ]
  },
  {
   "cell_type": "markdown",
   "metadata": {},
   "source": [
    "* escape(pattern)  \n",
    "转义 如果你需要操作的文本中含有正则的元字符，你在写正则的时候需要将元字符加上反斜杠\\去匹配自身，而当这样的字符很多时，写出来的正则表达式就看起来很乱而且写起来也很麻烦，这时你可以使用这个函数。"
   ]
  },
  {
   "cell_type": "code",
   "execution_count": 30,
   "metadata": {},
   "outputs": [
    {
     "name": "stdout",
     "output_type": "stream",
     "text": [
      "\\.\\+\\\\d123\n",
      ".+\\d123\n"
     ]
    }
   ],
   "source": [
    "import re \n",
    "s2 = '.+\\d123'\n",
    "regex_str = re.escape('.+\\d123')\n",
    "print(regex_str)\n",
    "regex3 = re.compile(regex_str)\n",
    "print(regex3.search(s2).group())"
   ]
  },
  {
   "cell_type": "markdown",
   "metadata": {},
   "source": [
    "* findall(pattern,string,flags=0)  \n",
    "参数pattern为正则表达式，string为所用模式，函数作用为在待操作字符串中寻找所有匹配正则表达式的子串，返回一个列表。如果未匹配到任何子串，返回一个空列表。"
   ]
  },
  {
   "cell_type": "markdown",
   "metadata": {},
   "source": [
    "* finditer(pattern,string,flags=0)  \n",
    "参数和作用与findall一样，不同之处在于findall返回一个列表，finditer返回一个迭代器，而且迭代器每次返回的值并不是一个字符串，而是一个SRE_Match对象。这个对象的具体用法见match函数。"
   ]
  },
  {
   "cell_type": "code",
   "execution_count": 32,
   "metadata": {},
   "outputs": [
    {
     "name": "stdout",
     "output_type": "stream",
     "text": [
      "first\n",
      "second\n",
      "third\n"
     ]
    }
   ],
   "source": [
    "import re\n",
    "s1 = '''first line\n",
    "second line\n",
    "third line'''\n",
    "regex_start = re.compile('^\\w+',re.M)\n",
    "for i in regex_start.finditer(s1):\n",
    "    print(i.group())"
   ]
  },
  {
   "cell_type": "markdown",
   "metadata": {},
   "source": [
    "* match(pattern,string,flags=0)  \n",
    "使用指定正则去待操作字符串中寻找可以匹配的子串，返回匹配上的第一个子串，并且不再继续找，需要注意的时match函数是从字符串开始处开始查找的，如果开始处不匹配，则不再继续寻找，返回一个SRE_Match对象，找不到返回None。"
   ]
  },
  {
   "cell_type": "markdown",
   "metadata": {},
   "source": [
    "* purge()  \n",
    "当你在程序中使用re模块，无论是先使用compile还是直接使用比如findall来使用正则表达式操作文本，re模块都会 将正则表达式先编译一下，并且会将编译后的正则表达式放到缓存中，这样下次使用同样的正则表达式的时候就不需要再编译，因为编译是很费时的，这样可以提升效率，而默认的缓存的正则表达式个数是100，当你需要频繁使用少量正则表达式的时候，缓存可以提升效率，而使用的正则表达式过多时，缓存带来的优势就不明显了，这个函数的作用是清楚缓存中的正则表达式，可能在你需要优化占用内存的时候会用到。"
   ]
  },
  {
   "cell_type": "markdown",
   "metadata": {},
   "source": [
    "* search(pattern,string,flags=0)  \n",
    "函数类似于match，不同之处在于不限制正则表达式的开始匹配位置"
   ]
  },
  {
   "cell_type": "markdown",
   "metadata": {},
   "source": [
    "* split(pattern,string,maxsplit=0,flags=0)  \n",
    "参数maxsplit指定切分次数，函数使用给定正则表达式寻找切分字符串位置，返回包含切分后子串的列表，如果匹配不到，则返回包含源字符串的一个列表。"
   ]
  },
  {
   "cell_type": "code",
   "execution_count": 4,
   "metadata": {},
   "outputs": [
    {
     "data": {
      "text/plain": [
       "['first', 'line\\nsecond', 'line\\nthird', 'line']"
      ]
     },
     "execution_count": 4,
     "metadata": {},
     "output_type": "execute_result"
    }
   ],
   "source": [
    "import re\n",
    "s = '''first 111 line\n",
    "second 222 line\n",
    "third 333 line'''\n",
    "\n",
    "regex_splt = re.compile('\\s\\d+\\s')\n",
    "re.split(regex_splt,s)\n",
    "\n",
    "#按照数字切分"
   ]
  }
 ],
 "metadata": {
  "kernelspec": {
   "display_name": "Python 3",
   "language": "python",
   "name": "python3"
  },
  "language_info": {
   "codemirror_mode": {
    "name": "ipython",
    "version": 3
   },
   "file_extension": ".py",
   "mimetype": "text/x-python",
   "name": "python",
   "nbconvert_exporter": "python",
   "pygments_lexer": "ipython3",
   "version": "3.6.1"
  }
 },
 "nbformat": 4,
 "nbformat_minor": 2
}
